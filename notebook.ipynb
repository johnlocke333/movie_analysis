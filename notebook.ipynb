{
 "cells": [
  {
   "cell_type": "markdown",
   "metadata": {},
   "source": [
    "## Final Project Submission\n",
    "\n",
    "- Student name: Jack Locke\n",
    "- Student pace: Self-paced\n",
    "- Instructor name: Mark Barbour"
   ]
  },
  {
   "cell_type": "markdown",
   "metadata": {},
   "source": [
    "# Movie Studio Data Analysis"
   ]
  },
  {
   "cell_type": "markdown",
   "metadata": {},
   "source": [
    "## Overview"
   ]
  },
  {
   "cell_type": "markdown",
   "metadata": {},
   "source": [
    "- 1. Business Understanding\n",
    "- 2. Data Understanding\n",
    "- 3. Data Preparation\n",
    "    - a. Merging Datasets\n",
    "    - b. Filtering Repeated Rows\n",
    "    - c. Dropping Unnecessary Columns\n",
    "    - d. Primary Columns Information\n",
    "    - e. Cleaning Primary Columns\n",
    "    - f. Creating Additional Columns for Analysis\n",
    "- 4. Exploratory Data Analysis\n",
    "    - a. Genre vs. ROI\n",
    "    - b. Month vs. ROI\n",
    "    - c. Director vs. ROI\n",
    "- 5. Conclusions\n",
    "    - a. Limitations\n",
    "    - b. Recommendations\n",
    "- 6. Next Steps"
   ]
  },
  {
   "cell_type": "markdown",
   "metadata": {},
   "source": [
    "## Business Understanding"
   ]
  },
  {
   "cell_type": "markdown",
   "metadata": {},
   "source": [
    "The business stakeholder is a company creating a new movie studio because they want to break into the film industry. My project analyzes films based on box office performance data. The aim is to find patterns and trends within the data in order to provide recommendations for what filmmakers should focus on when creating films for their new movie studio. I will focus on recommending what genres, release dates, and directors will best suit the stakeholder's business when compared to their respective ROIs (return on investment). The recommendations will help the business create films that will lead to profit for the company. My analysis will use the CRISP-DM (Cross-industry standard process for data mining) methodology. "
   ]
  },
  {
   "cell_type": "markdown",
   "metadata": {},
   "source": [
    "## Data Understanding"
   ]
  },
  {
   "cell_type": "markdown",
   "metadata": {},
   "source": [
    "For this project, I am working with datasets from two different resources. One dataset is from IMDB’s relational database. I will gather data about movie genres and their directors from this database. The genre and director information will come from two different tables within the relational database. The final dataset contains information on roughly 160,000 movies. \n",
    "\n",
    "The other dataset comes from a CSV file called Movie Budgets. This dataset contains information on movie release dates and finances, such as production budget and gross revenue. The dataset contains information on roughly 5,800 movies. \n",
    "\n",
    "The link attached will guide you to a github account containing the IMDB database and Movie Budgets CSV file with IMDB’s respective ERD (Entity Relationship Diagram), if you wish to clone the repository and view the data: https://github.com/learn-co-curriculum/dsc-phase-2-project-v3/tree/main/zippedData"
   ]
  },
  {
   "cell_type": "code",
   "execution_count": 4275,
   "metadata": {},
   "outputs": [],
   "source": [
    "import pandas as pd\n",
    "import numpy as np\n",
    "import sqlite3\n",
    "import matplotlib.pyplot as plt\n",
    "%matplotlib inline\n",
    "import re\n",
    "import matplotlib.patches as mpatches\n",
    "import statistics"
   ]
  },
  {
   "cell_type": "code",
   "execution_count": 4276,
   "metadata": {},
   "outputs": [
    {
     "data": {
      "text/html": [
       "<div>\n",
       "<style scoped>\n",
       "    .dataframe tbody tr th:only-of-type {\n",
       "        vertical-align: middle;\n",
       "    }\n",
       "\n",
       "    .dataframe tbody tr th {\n",
       "        vertical-align: top;\n",
       "    }\n",
       "\n",
       "    .dataframe thead th {\n",
       "        text-align: right;\n",
       "    }\n",
       "</style>\n",
       "<table border=\"1\" class=\"dataframe\">\n",
       "  <thead>\n",
       "    <tr style=\"text-align: right;\">\n",
       "      <th></th>\n",
       "      <th>primary_title</th>\n",
       "      <th>runtime_minutes</th>\n",
       "      <th>genres</th>\n",
       "      <th>start_year</th>\n",
       "      <th>movie_id</th>\n",
       "    </tr>\n",
       "  </thead>\n",
       "  <tbody>\n",
       "    <tr>\n",
       "      <th>0</th>\n",
       "      <td>Sunghursh</td>\n",
       "      <td>175.0</td>\n",
       "      <td>Action,Crime,Drama</td>\n",
       "      <td>2013</td>\n",
       "      <td>tt0063540</td>\n",
       "    </tr>\n",
       "    <tr>\n",
       "      <th>1</th>\n",
       "      <td>One Day Before the Rainy Season</td>\n",
       "      <td>114.0</td>\n",
       "      <td>Biography,Drama</td>\n",
       "      <td>2019</td>\n",
       "      <td>tt0066787</td>\n",
       "    </tr>\n",
       "    <tr>\n",
       "      <th>2</th>\n",
       "      <td>The Other Side of the Wind</td>\n",
       "      <td>122.0</td>\n",
       "      <td>Drama</td>\n",
       "      <td>2018</td>\n",
       "      <td>tt0069049</td>\n",
       "    </tr>\n",
       "    <tr>\n",
       "      <th>3</th>\n",
       "      <td>Sabse Bada Sukh</td>\n",
       "      <td>NaN</td>\n",
       "      <td>Comedy,Drama</td>\n",
       "      <td>2018</td>\n",
       "      <td>tt0069204</td>\n",
       "    </tr>\n",
       "    <tr>\n",
       "      <th>4</th>\n",
       "      <td>The Wandering Soap Opera</td>\n",
       "      <td>80.0</td>\n",
       "      <td>Comedy,Drama,Fantasy</td>\n",
       "      <td>2017</td>\n",
       "      <td>tt0100275</td>\n",
       "    </tr>\n",
       "  </tbody>\n",
       "</table>\n",
       "</div>"
      ],
      "text/plain": [
       "                     primary_title  runtime_minutes                genres  \\\n",
       "0                        Sunghursh            175.0    Action,Crime,Drama   \n",
       "1  One Day Before the Rainy Season            114.0       Biography,Drama   \n",
       "2       The Other Side of the Wind            122.0                 Drama   \n",
       "3                  Sabse Bada Sukh              NaN          Comedy,Drama   \n",
       "4         The Wandering Soap Opera             80.0  Comedy,Drama,Fantasy   \n",
       "\n",
       "   start_year   movie_id  \n",
       "0        2013  tt0063540  \n",
       "1        2019  tt0066787  \n",
       "2        2018  tt0069049  \n",
       "3        2018  tt0069204  \n",
       "4        2017  tt0100275  "
      ]
     },
     "execution_count": 4276,
     "metadata": {},
     "output_type": "execute_result"
    }
   ],
   "source": [
    "conn = sqlite3.Connection('data/im.db')\n",
    "imdb_df = pd.read_sql(\"\"\"\n",
    "\n",
    "SELECT primary_title, runtime_minutes, genres, start_year, movie_id\n",
    "FROM movie_basics\n",
    ";\"\"\",conn)\n",
    "imdb_df.head()"
   ]
  },
  {
   "cell_type": "code",
   "execution_count": 4277,
   "metadata": {},
   "outputs": [
    {
     "data": {
      "text/html": [
       "<div>\n",
       "<style scoped>\n",
       "    .dataframe tbody tr th:only-of-type {\n",
       "        vertical-align: middle;\n",
       "    }\n",
       "\n",
       "    .dataframe tbody tr th {\n",
       "        vertical-align: top;\n",
       "    }\n",
       "\n",
       "    .dataframe thead th {\n",
       "        text-align: right;\n",
       "    }\n",
       "</style>\n",
       "<table border=\"1\" class=\"dataframe\">\n",
       "  <thead>\n",
       "    <tr style=\"text-align: right;\">\n",
       "      <th></th>\n",
       "      <th>movie_id</th>\n",
       "      <th>person_id</th>\n",
       "      <th>primary_name</th>\n",
       "    </tr>\n",
       "  </thead>\n",
       "  <tbody>\n",
       "    <tr>\n",
       "      <th>0</th>\n",
       "      <td>tt0285252</td>\n",
       "      <td>nm0899854</td>\n",
       "      <td>Tony Vitale</td>\n",
       "    </tr>\n",
       "    <tr>\n",
       "      <th>1</th>\n",
       "      <td>tt0462036</td>\n",
       "      <td>nm1940585</td>\n",
       "      <td>Bill Haley</td>\n",
       "    </tr>\n",
       "    <tr>\n",
       "      <th>2</th>\n",
       "      <td>tt0835418</td>\n",
       "      <td>nm0151540</td>\n",
       "      <td>Jay Chandrasekhar</td>\n",
       "    </tr>\n",
       "    <tr>\n",
       "      <th>3</th>\n",
       "      <td>tt0878654</td>\n",
       "      <td>nm0089502</td>\n",
       "      <td>Albert Pyun</td>\n",
       "    </tr>\n",
       "    <tr>\n",
       "      <th>4</th>\n",
       "      <td>tt0878654</td>\n",
       "      <td>nm2291498</td>\n",
       "      <td>Joe Baile</td>\n",
       "    </tr>\n",
       "  </tbody>\n",
       "</table>\n",
       "</div>"
      ],
      "text/plain": [
       "    movie_id  person_id       primary_name\n",
       "0  tt0285252  nm0899854        Tony Vitale\n",
       "1  tt0462036  nm1940585         Bill Haley\n",
       "2  tt0835418  nm0151540  Jay Chandrasekhar\n",
       "3  tt0878654  nm0089502        Albert Pyun\n",
       "4  tt0878654  nm2291498          Joe Baile"
      ]
     },
     "execution_count": 4277,
     "metadata": {},
     "output_type": "execute_result"
    }
   ],
   "source": [
    "director_df = pd.read_sql(\"\"\"\n",
    "\n",
    "SELECT DISTINCT movie_id, person_id, primary_name\n",
    "FROM directors\n",
    "JOIN persons\n",
    "USING(person_id)\n",
    "\n",
    "\n",
    ";\"\"\",conn)\n",
    "director_df.head()"
   ]
  },
  {
   "cell_type": "code",
   "execution_count": 4278,
   "metadata": {},
   "outputs": [
    {
     "data": {
      "text/html": [
       "<div>\n",
       "<style scoped>\n",
       "    .dataframe tbody tr th:only-of-type {\n",
       "        vertical-align: middle;\n",
       "    }\n",
       "\n",
       "    .dataframe tbody tr th {\n",
       "        vertical-align: top;\n",
       "    }\n",
       "\n",
       "    .dataframe thead th {\n",
       "        text-align: right;\n",
       "    }\n",
       "</style>\n",
       "<table border=\"1\" class=\"dataframe\">\n",
       "  <thead>\n",
       "    <tr style=\"text-align: right;\">\n",
       "      <th></th>\n",
       "      <th>id</th>\n",
       "      <th>release_date</th>\n",
       "      <th>movie</th>\n",
       "      <th>production_budget</th>\n",
       "      <th>domestic_gross</th>\n",
       "      <th>worldwide_gross</th>\n",
       "    </tr>\n",
       "  </thead>\n",
       "  <tbody>\n",
       "    <tr>\n",
       "      <th>0</th>\n",
       "      <td>1</td>\n",
       "      <td>Dec 18, 2009</td>\n",
       "      <td>Avatar</td>\n",
       "      <td>$425,000,000</td>\n",
       "      <td>$760,507,625</td>\n",
       "      <td>$2,776,345,279</td>\n",
       "    </tr>\n",
       "    <tr>\n",
       "      <th>1</th>\n",
       "      <td>2</td>\n",
       "      <td>May 20, 2011</td>\n",
       "      <td>Pirates of the Caribbean: On Stranger Tides</td>\n",
       "      <td>$410,600,000</td>\n",
       "      <td>$241,063,875</td>\n",
       "      <td>$1,045,663,875</td>\n",
       "    </tr>\n",
       "    <tr>\n",
       "      <th>2</th>\n",
       "      <td>3</td>\n",
       "      <td>Jun 7, 2019</td>\n",
       "      <td>Dark Phoenix</td>\n",
       "      <td>$350,000,000</td>\n",
       "      <td>$42,762,350</td>\n",
       "      <td>$149,762,350</td>\n",
       "    </tr>\n",
       "    <tr>\n",
       "      <th>3</th>\n",
       "      <td>4</td>\n",
       "      <td>May 1, 2015</td>\n",
       "      <td>Avengers: Age of Ultron</td>\n",
       "      <td>$330,600,000</td>\n",
       "      <td>$459,005,868</td>\n",
       "      <td>$1,403,013,963</td>\n",
       "    </tr>\n",
       "    <tr>\n",
       "      <th>4</th>\n",
       "      <td>5</td>\n",
       "      <td>Dec 15, 2017</td>\n",
       "      <td>Star Wars Ep. VIII: The Last Jedi</td>\n",
       "      <td>$317,000,000</td>\n",
       "      <td>$620,181,382</td>\n",
       "      <td>$1,316,721,747</td>\n",
       "    </tr>\n",
       "  </tbody>\n",
       "</table>\n",
       "</div>"
      ],
      "text/plain": [
       "   id  release_date                                        movie  \\\n",
       "0   1  Dec 18, 2009                                       Avatar   \n",
       "1   2  May 20, 2011  Pirates of the Caribbean: On Stranger Tides   \n",
       "2   3   Jun 7, 2019                                 Dark Phoenix   \n",
       "3   4   May 1, 2015                      Avengers: Age of Ultron   \n",
       "4   5  Dec 15, 2017            Star Wars Ep. VIII: The Last Jedi   \n",
       "\n",
       "  production_budget domestic_gross worldwide_gross  \n",
       "0      $425,000,000   $760,507,625  $2,776,345,279  \n",
       "1      $410,600,000   $241,063,875  $1,045,663,875  \n",
       "2      $350,000,000    $42,762,350    $149,762,350  \n",
       "3      $330,600,000   $459,005,868  $1,403,013,963  \n",
       "4      $317,000,000   $620,181,382  $1,316,721,747  "
      ]
     },
     "execution_count": 4278,
     "metadata": {},
     "output_type": "execute_result"
    }
   ],
   "source": [
    "tn_df = pd.read_csv('data/tn.movie_budgets.csv.gz')\n",
    "tn_df.head()"
   ]
  },
  {
   "cell_type": "markdown",
   "metadata": {},
   "source": [
    "## Data Preparation"
   ]
  },
  {
   "cell_type": "markdown",
   "metadata": {},
   "source": [
    " - Merging Datasets together into one combined dataframe\n",
    " - After merging the dataset we will deal with repeated rows\n",
    " - Drop the unnecessary columns from our dataframe\n",
    " - Get information on our primary columns\n",
    " - Clean the dataframe\n",
    " - Create columns needed for our EDA"
   ]
  },
  {
   "cell_type": "markdown",
   "metadata": {},
   "source": [
    "### Merging datasets"
   ]
  },
  {
   "cell_type": "markdown",
   "metadata": {},
   "source": [
    "I currently have three datasets: two from the IMBD database and one from the Movie Budget CSV file. Our recommendations require all datasets to be combined into one dataframe, as I will need to compare what the stakeholders can control with the financial data."
   ]
  },
  {
   "cell_type": "code",
   "execution_count": 4279,
   "metadata": {},
   "outputs": [
    {
     "data": {
      "text/html": [
       "<div>\n",
       "<style scoped>\n",
       "    .dataframe tbody tr th:only-of-type {\n",
       "        vertical-align: middle;\n",
       "    }\n",
       "\n",
       "    .dataframe tbody tr th {\n",
       "        vertical-align: top;\n",
       "    }\n",
       "\n",
       "    .dataframe thead th {\n",
       "        text-align: right;\n",
       "    }\n",
       "</style>\n",
       "<table border=\"1\" class=\"dataframe\">\n",
       "  <thead>\n",
       "    <tr style=\"text-align: right;\">\n",
       "      <th></th>\n",
       "      <th>movie_id</th>\n",
       "      <th>person_id</th>\n",
       "      <th>primary_name</th>\n",
       "      <th>primary_title</th>\n",
       "      <th>runtime_minutes</th>\n",
       "      <th>genres</th>\n",
       "      <th>start_year</th>\n",
       "    </tr>\n",
       "  </thead>\n",
       "  <tbody>\n",
       "    <tr>\n",
       "      <th>0</th>\n",
       "      <td>tt0285252</td>\n",
       "      <td>nm0899854</td>\n",
       "      <td>Tony Vitale</td>\n",
       "      <td>Life's a Beach</td>\n",
       "      <td>100.0</td>\n",
       "      <td>Comedy</td>\n",
       "      <td>2012</td>\n",
       "    </tr>\n",
       "    <tr>\n",
       "      <th>1</th>\n",
       "      <td>tt0462036</td>\n",
       "      <td>nm1940585</td>\n",
       "      <td>Bill Haley</td>\n",
       "      <td>Steve Phoenix: The Untold Story</td>\n",
       "      <td>110.0</td>\n",
       "      <td>Drama</td>\n",
       "      <td>2012</td>\n",
       "    </tr>\n",
       "    <tr>\n",
       "      <th>2</th>\n",
       "      <td>tt0835418</td>\n",
       "      <td>nm0151540</td>\n",
       "      <td>Jay Chandrasekhar</td>\n",
       "      <td>The Babymakers</td>\n",
       "      <td>95.0</td>\n",
       "      <td>Comedy</td>\n",
       "      <td>2012</td>\n",
       "    </tr>\n",
       "    <tr>\n",
       "      <th>3</th>\n",
       "      <td>tt0878654</td>\n",
       "      <td>nm0089502</td>\n",
       "      <td>Albert Pyun</td>\n",
       "      <td>Bulletface</td>\n",
       "      <td>82.0</td>\n",
       "      <td>Thriller</td>\n",
       "      <td>2010</td>\n",
       "    </tr>\n",
       "    <tr>\n",
       "      <th>4</th>\n",
       "      <td>tt0878654</td>\n",
       "      <td>nm2291498</td>\n",
       "      <td>Joe Baile</td>\n",
       "      <td>Bulletface</td>\n",
       "      <td>82.0</td>\n",
       "      <td>Thriller</td>\n",
       "      <td>2010</td>\n",
       "    </tr>\n",
       "  </tbody>\n",
       "</table>\n",
       "</div>"
      ],
      "text/plain": [
       "    movie_id  person_id       primary_name                    primary_title  \\\n",
       "0  tt0285252  nm0899854        Tony Vitale                   Life's a Beach   \n",
       "1  tt0462036  nm1940585         Bill Haley  Steve Phoenix: The Untold Story   \n",
       "2  tt0835418  nm0151540  Jay Chandrasekhar                   The Babymakers   \n",
       "3  tt0878654  nm0089502        Albert Pyun                       Bulletface   \n",
       "4  tt0878654  nm2291498          Joe Baile                       Bulletface   \n",
       "\n",
       "   runtime_minutes    genres  start_year  \n",
       "0            100.0    Comedy        2012  \n",
       "1            110.0     Drama        2012  \n",
       "2             95.0    Comedy        2012  \n",
       "3             82.0  Thriller        2010  \n",
       "4             82.0  Thriller        2010  "
      ]
     },
     "execution_count": 4279,
     "metadata": {},
     "output_type": "execute_result"
    }
   ],
   "source": [
    "director_movie_df = director_df.merge(imdb_df, on='movie_id', how = 'inner')\n",
    "director_movie_df.head()"
   ]
  },
  {
   "cell_type": "code",
   "execution_count": 4280,
   "metadata": {},
   "outputs": [],
   "source": [
    "tn_df['movie'] = tn_df['movie'].apply(lambda x: x.lower())\n",
    "director_movie_df['primary_title'] = director_movie_df['primary_title'].apply(lambda x: x.lower())"
   ]
  },
  {
   "cell_type": "code",
   "execution_count": 4281,
   "metadata": {},
   "outputs": [],
   "source": [
    "combined_df = tn_df.merge(director_movie_df, left_on='movie', right_on='primary_title', how = 'inner')"
   ]
  },
  {
   "cell_type": "code",
   "execution_count": 4282,
   "metadata": {
    "scrolled": true
   },
   "outputs": [
    {
     "data": {
      "text/html": [
       "<div>\n",
       "<style scoped>\n",
       "    .dataframe tbody tr th:only-of-type {\n",
       "        vertical-align: middle;\n",
       "    }\n",
       "\n",
       "    .dataframe tbody tr th {\n",
       "        vertical-align: top;\n",
       "    }\n",
       "\n",
       "    .dataframe thead th {\n",
       "        text-align: right;\n",
       "    }\n",
       "</style>\n",
       "<table border=\"1\" class=\"dataframe\">\n",
       "  <thead>\n",
       "    <tr style=\"text-align: right;\">\n",
       "      <th></th>\n",
       "      <th>id</th>\n",
       "      <th>release_date</th>\n",
       "      <th>movie</th>\n",
       "      <th>production_budget</th>\n",
       "      <th>domestic_gross</th>\n",
       "      <th>worldwide_gross</th>\n",
       "      <th>movie_id</th>\n",
       "      <th>person_id</th>\n",
       "      <th>primary_name</th>\n",
       "      <th>primary_title</th>\n",
       "      <th>runtime_minutes</th>\n",
       "      <th>genres</th>\n",
       "      <th>start_year</th>\n",
       "    </tr>\n",
       "  </thead>\n",
       "  <tbody>\n",
       "    <tr>\n",
       "      <th>0</th>\n",
       "      <td>1</td>\n",
       "      <td>Dec 18, 2009</td>\n",
       "      <td>avatar</td>\n",
       "      <td>$425,000,000</td>\n",
       "      <td>$760,507,625</td>\n",
       "      <td>$2,776,345,279</td>\n",
       "      <td>tt1775309</td>\n",
       "      <td>nm3786927</td>\n",
       "      <td>Atsushi Wada</td>\n",
       "      <td>avatar</td>\n",
       "      <td>93.0</td>\n",
       "      <td>Horror</td>\n",
       "      <td>2011</td>\n",
       "    </tr>\n",
       "    <tr>\n",
       "      <th>1</th>\n",
       "      <td>2</td>\n",
       "      <td>May 20, 2011</td>\n",
       "      <td>pirates of the caribbean: on stranger tides</td>\n",
       "      <td>$410,600,000</td>\n",
       "      <td>$241,063,875</td>\n",
       "      <td>$1,045,663,875</td>\n",
       "      <td>tt1298650</td>\n",
       "      <td>nm0551128</td>\n",
       "      <td>Rob Marshall</td>\n",
       "      <td>pirates of the caribbean: on stranger tides</td>\n",
       "      <td>136.0</td>\n",
       "      <td>Action,Adventure,Fantasy</td>\n",
       "      <td>2011</td>\n",
       "    </tr>\n",
       "    <tr>\n",
       "      <th>2</th>\n",
       "      <td>3</td>\n",
       "      <td>Jun 7, 2019</td>\n",
       "      <td>dark phoenix</td>\n",
       "      <td>$350,000,000</td>\n",
       "      <td>$42,762,350</td>\n",
       "      <td>$149,762,350</td>\n",
       "      <td>tt6565702</td>\n",
       "      <td>nm1334526</td>\n",
       "      <td>Simon Kinberg</td>\n",
       "      <td>dark phoenix</td>\n",
       "      <td>113.0</td>\n",
       "      <td>Action,Adventure,Sci-Fi</td>\n",
       "      <td>2019</td>\n",
       "    </tr>\n",
       "    <tr>\n",
       "      <th>3</th>\n",
       "      <td>4</td>\n",
       "      <td>May 1, 2015</td>\n",
       "      <td>avengers: age of ultron</td>\n",
       "      <td>$330,600,000</td>\n",
       "      <td>$459,005,868</td>\n",
       "      <td>$1,403,013,963</td>\n",
       "      <td>tt2395427</td>\n",
       "      <td>nm0923736</td>\n",
       "      <td>Joss Whedon</td>\n",
       "      <td>avengers: age of ultron</td>\n",
       "      <td>141.0</td>\n",
       "      <td>Action,Adventure,Sci-Fi</td>\n",
       "      <td>2015</td>\n",
       "    </tr>\n",
       "    <tr>\n",
       "      <th>4</th>\n",
       "      <td>7</td>\n",
       "      <td>Apr 27, 2018</td>\n",
       "      <td>avengers: infinity war</td>\n",
       "      <td>$300,000,000</td>\n",
       "      <td>$678,815,482</td>\n",
       "      <td>$2,048,134,200</td>\n",
       "      <td>tt4154756</td>\n",
       "      <td>nm0751577</td>\n",
       "      <td>Anthony Russo</td>\n",
       "      <td>avengers: infinity war</td>\n",
       "      <td>149.0</td>\n",
       "      <td>Action,Adventure,Sci-Fi</td>\n",
       "      <td>2018</td>\n",
       "    </tr>\n",
       "  </tbody>\n",
       "</table>\n",
       "</div>"
      ],
      "text/plain": [
       "   id  release_date                                        movie  \\\n",
       "0   1  Dec 18, 2009                                       avatar   \n",
       "1   2  May 20, 2011  pirates of the caribbean: on stranger tides   \n",
       "2   3   Jun 7, 2019                                 dark phoenix   \n",
       "3   4   May 1, 2015                      avengers: age of ultron   \n",
       "4   7  Apr 27, 2018                       avengers: infinity war   \n",
       "\n",
       "  production_budget domestic_gross worldwide_gross   movie_id  person_id  \\\n",
       "0      $425,000,000   $760,507,625  $2,776,345,279  tt1775309  nm3786927   \n",
       "1      $410,600,000   $241,063,875  $1,045,663,875  tt1298650  nm0551128   \n",
       "2      $350,000,000    $42,762,350    $149,762,350  tt6565702  nm1334526   \n",
       "3      $330,600,000   $459,005,868  $1,403,013,963  tt2395427  nm0923736   \n",
       "4      $300,000,000   $678,815,482  $2,048,134,200  tt4154756  nm0751577   \n",
       "\n",
       "    primary_name                                primary_title  \\\n",
       "0   Atsushi Wada                                       avatar   \n",
       "1   Rob Marshall  pirates of the caribbean: on stranger tides   \n",
       "2  Simon Kinberg                                 dark phoenix   \n",
       "3    Joss Whedon                      avengers: age of ultron   \n",
       "4  Anthony Russo                       avengers: infinity war   \n",
       "\n",
       "   runtime_minutes                    genres  start_year  \n",
       "0             93.0                    Horror        2011  \n",
       "1            136.0  Action,Adventure,Fantasy        2011  \n",
       "2            113.0   Action,Adventure,Sci-Fi        2019  \n",
       "3            141.0   Action,Adventure,Sci-Fi        2015  \n",
       "4            149.0   Action,Adventure,Sci-Fi        2018  "
      ]
     },
     "execution_count": 4282,
     "metadata": {},
     "output_type": "execute_result"
    }
   ],
   "source": [
    "# length of dataframe is longer than length of tn_df that we merged on meaning there are multiple primary_titles\n",
    "# that match the movie titles. Essentially duplicated names; movies with same name. We need to figure out how to\n",
    "# make sure we are using the right ones and we can do that by matching start_year with release date_year. This\n",
    "# will not be perfect as dups can have the same year potentially but it will greatly reduce this number for us. \n",
    "# Also, some movies might have the same name but not be referring to the same movie, for example avatar is not a\n",
    "# horror movie and doing further research you see there is an older movie also called avatar. \n",
    "combined_df.head()"
   ]
  },
  {
   "cell_type": "markdown",
   "metadata": {},
   "source": [
    "### Filtering repeated rows"
   ]
  },
  {
   "cell_type": "markdown",
   "metadata": {},
   "source": [
    "When I merged the datasets on the movie titles, I discovered some movies have duplicate titles. I do not want financial data to be linked to the incorrect movie titles, skewing our results. To fix this, I will use the 'release_date' column and create a new column, 'matching_year'. I can then compare ‘matching_year’ with the 'start_year' column. This will help match the correct movies with the proper financial data. This will not be perfect as there will be movies with duplicate titles also released in the same year. But, this will significantly reduce our issue. The number of movies released the same year with duplicate titles is small. I am also using median values for my recommendations, so this small number of rows I cannot filter out will not significantly impact our results. "
   ]
  },
  {
   "cell_type": "code",
   "execution_count": 4283,
   "metadata": {},
   "outputs": [],
   "source": [
    "combined_df['matching_year'] = combined_df['release_date'].apply(lambda x: x[-4:]).astype(float)"
   ]
  },
  {
   "cell_type": "code",
   "execution_count": 4284,
   "metadata": {},
   "outputs": [],
   "source": [
    "combined_df = combined_df[(combined_df['start_year'] == combined_df['matching_year'])]"
   ]
  },
  {
   "cell_type": "code",
   "execution_count": 4285,
   "metadata": {
    "scrolled": true
   },
   "outputs": [
    {
     "data": {
      "text/html": [
       "<div>\n",
       "<style scoped>\n",
       "    .dataframe tbody tr th:only-of-type {\n",
       "        vertical-align: middle;\n",
       "    }\n",
       "\n",
       "    .dataframe tbody tr th {\n",
       "        vertical-align: top;\n",
       "    }\n",
       "\n",
       "    .dataframe thead th {\n",
       "        text-align: right;\n",
       "    }\n",
       "</style>\n",
       "<table border=\"1\" class=\"dataframe\">\n",
       "  <thead>\n",
       "    <tr style=\"text-align: right;\">\n",
       "      <th></th>\n",
       "      <th>id</th>\n",
       "      <th>release_date</th>\n",
       "      <th>movie</th>\n",
       "      <th>production_budget</th>\n",
       "      <th>domestic_gross</th>\n",
       "      <th>worldwide_gross</th>\n",
       "      <th>movie_id</th>\n",
       "      <th>person_id</th>\n",
       "      <th>primary_name</th>\n",
       "      <th>primary_title</th>\n",
       "      <th>runtime_minutes</th>\n",
       "      <th>genres</th>\n",
       "      <th>start_year</th>\n",
       "      <th>matching_year</th>\n",
       "    </tr>\n",
       "  </thead>\n",
       "  <tbody>\n",
       "    <tr>\n",
       "      <th>1</th>\n",
       "      <td>2</td>\n",
       "      <td>May 20, 2011</td>\n",
       "      <td>pirates of the caribbean: on stranger tides</td>\n",
       "      <td>$410,600,000</td>\n",
       "      <td>$241,063,875</td>\n",
       "      <td>$1,045,663,875</td>\n",
       "      <td>tt1298650</td>\n",
       "      <td>nm0551128</td>\n",
       "      <td>Rob Marshall</td>\n",
       "      <td>pirates of the caribbean: on stranger tides</td>\n",
       "      <td>136.0</td>\n",
       "      <td>Action,Adventure,Fantasy</td>\n",
       "      <td>2011</td>\n",
       "      <td>2011.0</td>\n",
       "    </tr>\n",
       "    <tr>\n",
       "      <th>2</th>\n",
       "      <td>3</td>\n",
       "      <td>Jun 7, 2019</td>\n",
       "      <td>dark phoenix</td>\n",
       "      <td>$350,000,000</td>\n",
       "      <td>$42,762,350</td>\n",
       "      <td>$149,762,350</td>\n",
       "      <td>tt6565702</td>\n",
       "      <td>nm1334526</td>\n",
       "      <td>Simon Kinberg</td>\n",
       "      <td>dark phoenix</td>\n",
       "      <td>113.0</td>\n",
       "      <td>Action,Adventure,Sci-Fi</td>\n",
       "      <td>2019</td>\n",
       "      <td>2019.0</td>\n",
       "    </tr>\n",
       "    <tr>\n",
       "      <th>3</th>\n",
       "      <td>4</td>\n",
       "      <td>May 1, 2015</td>\n",
       "      <td>avengers: age of ultron</td>\n",
       "      <td>$330,600,000</td>\n",
       "      <td>$459,005,868</td>\n",
       "      <td>$1,403,013,963</td>\n",
       "      <td>tt2395427</td>\n",
       "      <td>nm0923736</td>\n",
       "      <td>Joss Whedon</td>\n",
       "      <td>avengers: age of ultron</td>\n",
       "      <td>141.0</td>\n",
       "      <td>Action,Adventure,Sci-Fi</td>\n",
       "      <td>2015</td>\n",
       "      <td>2015.0</td>\n",
       "    </tr>\n",
       "    <tr>\n",
       "      <th>4</th>\n",
       "      <td>7</td>\n",
       "      <td>Apr 27, 2018</td>\n",
       "      <td>avengers: infinity war</td>\n",
       "      <td>$300,000,000</td>\n",
       "      <td>$678,815,482</td>\n",
       "      <td>$2,048,134,200</td>\n",
       "      <td>tt4154756</td>\n",
       "      <td>nm0751577</td>\n",
       "      <td>Anthony Russo</td>\n",
       "      <td>avengers: infinity war</td>\n",
       "      <td>149.0</td>\n",
       "      <td>Action,Adventure,Sci-Fi</td>\n",
       "      <td>2018</td>\n",
       "      <td>2018.0</td>\n",
       "    </tr>\n",
       "    <tr>\n",
       "      <th>5</th>\n",
       "      <td>7</td>\n",
       "      <td>Apr 27, 2018</td>\n",
       "      <td>avengers: infinity war</td>\n",
       "      <td>$300,000,000</td>\n",
       "      <td>$678,815,482</td>\n",
       "      <td>$2,048,134,200</td>\n",
       "      <td>tt4154756</td>\n",
       "      <td>nm0751648</td>\n",
       "      <td>Joe Russo</td>\n",
       "      <td>avengers: infinity war</td>\n",
       "      <td>149.0</td>\n",
       "      <td>Action,Adventure,Sci-Fi</td>\n",
       "      <td>2018</td>\n",
       "      <td>2018.0</td>\n",
       "    </tr>\n",
       "    <tr>\n",
       "      <th>...</th>\n",
       "      <td>...</td>\n",
       "      <td>...</td>\n",
       "      <td>...</td>\n",
       "      <td>...</td>\n",
       "      <td>...</td>\n",
       "      <td>...</td>\n",
       "      <td>...</td>\n",
       "      <td>...</td>\n",
       "      <td>...</td>\n",
       "      <td>...</td>\n",
       "      <td>...</td>\n",
       "      <td>...</td>\n",
       "      <td>...</td>\n",
       "      <td>...</td>\n",
       "    </tr>\n",
       "    <tr>\n",
       "      <th>4229</th>\n",
       "      <td>45</td>\n",
       "      <td>Jan 27, 2017</td>\n",
       "      <td>emily</td>\n",
       "      <td>$27,000</td>\n",
       "      <td>$3,547</td>\n",
       "      <td>$3,547</td>\n",
       "      <td>tt4393036</td>\n",
       "      <td>nm6254824</td>\n",
       "      <td>Ryan Graves</td>\n",
       "      <td>emily</td>\n",
       "      <td>83.0</td>\n",
       "      <td>Drama</td>\n",
       "      <td>2017</td>\n",
       "      <td>2017.0</td>\n",
       "    </tr>\n",
       "    <tr>\n",
       "      <th>4231</th>\n",
       "      <td>49</td>\n",
       "      <td>Sep 1, 2015</td>\n",
       "      <td>exeter</td>\n",
       "      <td>$25,000</td>\n",
       "      <td>$0</td>\n",
       "      <td>$489,792</td>\n",
       "      <td>tt1945044</td>\n",
       "      <td>nm1197971</td>\n",
       "      <td>Marcus Nispel</td>\n",
       "      <td>exeter</td>\n",
       "      <td>91.0</td>\n",
       "      <td>Horror,Mystery,Thriller</td>\n",
       "      <td>2015</td>\n",
       "      <td>2015.0</td>\n",
       "    </tr>\n",
       "    <tr>\n",
       "      <th>4237</th>\n",
       "      <td>52</td>\n",
       "      <td>Dec 1, 2015</td>\n",
       "      <td>dutch kills</td>\n",
       "      <td>$25,000</td>\n",
       "      <td>$0</td>\n",
       "      <td>$0</td>\n",
       "      <td>tt2759066</td>\n",
       "      <td>nm3556672</td>\n",
       "      <td>Joseph Mazzella</td>\n",
       "      <td>dutch kills</td>\n",
       "      <td>90.0</td>\n",
       "      <td>Crime,Drama,Thriller</td>\n",
       "      <td>2015</td>\n",
       "      <td>2015.0</td>\n",
       "    </tr>\n",
       "    <tr>\n",
       "      <th>4241</th>\n",
       "      <td>59</td>\n",
       "      <td>Nov 25, 2011</td>\n",
       "      <td>the ridges</td>\n",
       "      <td>$17,300</td>\n",
       "      <td>$0</td>\n",
       "      <td>$0</td>\n",
       "      <td>tt1781935</td>\n",
       "      <td>nm4192760</td>\n",
       "      <td>Brandon Landers</td>\n",
       "      <td>the ridges</td>\n",
       "      <td>89.0</td>\n",
       "      <td>Drama,Horror,Thriller</td>\n",
       "      <td>2011</td>\n",
       "      <td>2011.0</td>\n",
       "    </tr>\n",
       "    <tr>\n",
       "      <th>4242</th>\n",
       "      <td>62</td>\n",
       "      <td>Dec 31, 2014</td>\n",
       "      <td>stories of our lives</td>\n",
       "      <td>$15,000</td>\n",
       "      <td>$0</td>\n",
       "      <td>$0</td>\n",
       "      <td>tt3973612</td>\n",
       "      <td>nm5874888</td>\n",
       "      <td>Jim Chuchu</td>\n",
       "      <td>stories of our lives</td>\n",
       "      <td>60.0</td>\n",
       "      <td>Drama</td>\n",
       "      <td>2014</td>\n",
       "      <td>2014.0</td>\n",
       "    </tr>\n",
       "  </tbody>\n",
       "</table>\n",
       "<p>1747 rows × 14 columns</p>\n",
       "</div>"
      ],
      "text/plain": [
       "      id  release_date                                        movie  \\\n",
       "1      2  May 20, 2011  pirates of the caribbean: on stranger tides   \n",
       "2      3   Jun 7, 2019                                 dark phoenix   \n",
       "3      4   May 1, 2015                      avengers: age of ultron   \n",
       "4      7  Apr 27, 2018                       avengers: infinity war   \n",
       "5      7  Apr 27, 2018                       avengers: infinity war   \n",
       "...   ..           ...                                          ...   \n",
       "4229  45  Jan 27, 2017                                        emily   \n",
       "4231  49   Sep 1, 2015                                       exeter   \n",
       "4237  52   Dec 1, 2015                                  dutch kills   \n",
       "4241  59  Nov 25, 2011                                   the ridges   \n",
       "4242  62  Dec 31, 2014                         stories of our lives   \n",
       "\n",
       "     production_budget domestic_gross worldwide_gross   movie_id  person_id  \\\n",
       "1         $410,600,000   $241,063,875  $1,045,663,875  tt1298650  nm0551128   \n",
       "2         $350,000,000    $42,762,350    $149,762,350  tt6565702  nm1334526   \n",
       "3         $330,600,000   $459,005,868  $1,403,013,963  tt2395427  nm0923736   \n",
       "4         $300,000,000   $678,815,482  $2,048,134,200  tt4154756  nm0751577   \n",
       "5         $300,000,000   $678,815,482  $2,048,134,200  tt4154756  nm0751648   \n",
       "...                ...            ...             ...        ...        ...   \n",
       "4229           $27,000         $3,547          $3,547  tt4393036  nm6254824   \n",
       "4231           $25,000             $0        $489,792  tt1945044  nm1197971   \n",
       "4237           $25,000             $0              $0  tt2759066  nm3556672   \n",
       "4241           $17,300             $0              $0  tt1781935  nm4192760   \n",
       "4242           $15,000             $0              $0  tt3973612  nm5874888   \n",
       "\n",
       "         primary_name                                primary_title  \\\n",
       "1        Rob Marshall  pirates of the caribbean: on stranger tides   \n",
       "2       Simon Kinberg                                 dark phoenix   \n",
       "3         Joss Whedon                      avengers: age of ultron   \n",
       "4       Anthony Russo                       avengers: infinity war   \n",
       "5           Joe Russo                       avengers: infinity war   \n",
       "...               ...                                          ...   \n",
       "4229      Ryan Graves                                        emily   \n",
       "4231    Marcus Nispel                                       exeter   \n",
       "4237  Joseph Mazzella                                  dutch kills   \n",
       "4241  Brandon Landers                                   the ridges   \n",
       "4242       Jim Chuchu                         stories of our lives   \n",
       "\n",
       "      runtime_minutes                    genres  start_year  matching_year  \n",
       "1               136.0  Action,Adventure,Fantasy        2011         2011.0  \n",
       "2               113.0   Action,Adventure,Sci-Fi        2019         2019.0  \n",
       "3               141.0   Action,Adventure,Sci-Fi        2015         2015.0  \n",
       "4               149.0   Action,Adventure,Sci-Fi        2018         2018.0  \n",
       "5               149.0   Action,Adventure,Sci-Fi        2018         2018.0  \n",
       "...               ...                       ...         ...            ...  \n",
       "4229             83.0                     Drama        2017         2017.0  \n",
       "4231             91.0   Horror,Mystery,Thriller        2015         2015.0  \n",
       "4237             90.0      Crime,Drama,Thriller        2015         2015.0  \n",
       "4241             89.0     Drama,Horror,Thriller        2011         2011.0  \n",
       "4242             60.0                     Drama        2014         2014.0  \n",
       "\n",
       "[1747 rows x 14 columns]"
      ]
     },
     "execution_count": 4285,
     "metadata": {},
     "output_type": "execute_result"
    }
   ],
   "source": [
    "combined_df"
   ]
  },
  {
   "cell_type": "markdown",
   "metadata": {},
   "source": [
    "### Dropping Unnecessary Columns"
   ]
  },
  {
   "cell_type": "code",
   "execution_count": null,
   "metadata": {},
   "outputs": [],
   "source": []
  },
  {
   "cell_type": "code",
   "execution_count": 4286,
   "metadata": {},
   "outputs": [],
   "source": [
    "#Will be removing other columns as we progress; create drop function for reusability\n",
    "def drop(cols,df):\n",
    "    '''Is going to take the column name and apply the drop function'''\n",
    "    for x in cols:\n",
    "        df.drop(columns=x, inplace=True)"
   ]
  },
  {
   "cell_type": "code",
   "execution_count": 4287,
   "metadata": {},
   "outputs": [],
   "source": [
    "drop(['id','primary_title', 'start_year', 'matching_year','domestic_gross', 'movie_id', 'person_id'], combined_df)\n"
   ]
  },
  {
   "cell_type": "code",
   "execution_count": null,
   "metadata": {},
   "outputs": [],
   "source": []
  },
  {
   "cell_type": "markdown",
   "metadata": {},
   "source": [
    "### Primary Columns Information"
   ]
  },
  {
   "cell_type": "markdown",
   "metadata": {},
   "source": [
    "Want to view what the stakeholders can control:\n",
    "- Release dates\n",
    "- Genres\n",
    "- Directors\n",
    "\n",
    "With measurements of success (used to create Gross Profit and Gross ROI):\n",
    "- Production budget\n",
    "- Gross Revenue"
   ]
  },
  {
   "cell_type": "code",
   "execution_count": 4288,
   "metadata": {},
   "outputs": [
    {
     "name": "stdout",
     "output_type": "stream",
     "text": [
      "<class 'pandas.core.frame.DataFrame'>\n",
      "Index: 1747 entries, 1 to 4242\n",
      "Data columns (total 7 columns):\n",
      " #   Column             Non-Null Count  Dtype  \n",
      "---  ------             --------------  -----  \n",
      " 0   release_date       1747 non-null   object \n",
      " 1   movie              1747 non-null   object \n",
      " 2   production_budget  1747 non-null   object \n",
      " 3   worldwide_gross    1747 non-null   object \n",
      " 4   primary_name       1747 non-null   object \n",
      " 5   runtime_minutes    1721 non-null   float64\n",
      " 6   genres             1742 non-null   object \n",
      "dtypes: float64(1), object(6)\n",
      "memory usage: 109.2+ KB\n"
     ]
    }
   ],
   "source": [
    "combined_df.info()"
   ]
  },
  {
   "cell_type": "code",
   "execution_count": 4289,
   "metadata": {},
   "outputs": [
    {
     "data": {
      "text/plain": [
       "release_date\n",
       "Dec 31, 2014    17\n",
       "Jan 25, 2013    15\n",
       "Dec 31, 2010    11\n",
       "Sep 23, 2011    10\n",
       "Dec 31, 2015    10\n",
       "                ..\n",
       "Mar 29, 2018     1\n",
       "Mar 22, 2019     1\n",
       "Jan 18, 2019     1\n",
       "Nov 16, 2011     1\n",
       "Jan 27, 2017     1\n",
       "Name: count, Length: 622, dtype: int64"
      ]
     },
     "execution_count": 4289,
     "metadata": {},
     "output_type": "execute_result"
    }
   ],
   "source": [
    "combined_df['release_date'].value_counts()"
   ]
  },
  {
   "cell_type": "code",
   "execution_count": 4290,
   "metadata": {},
   "outputs": [
    {
     "data": {
      "text/plain": [
       "movie\n",
       "movie 43                13\n",
       "freakonomics             6\n",
       "the promise              5\n",
       "locker 13                5\n",
       "redemption               4\n",
       "                        ..\n",
       "only the brave           1\n",
       "rush                     1\n",
       "the 5th wave             1\n",
       "riddick                  1\n",
       "stories of our lives     1\n",
       "Name: count, Length: 1525, dtype: int64"
      ]
     },
     "execution_count": 4290,
     "metadata": {},
     "output_type": "execute_result"
    }
   ],
   "source": [
    "combined_df['movie'].value_counts()"
   ]
  },
  {
   "cell_type": "code",
   "execution_count": 4291,
   "metadata": {},
   "outputs": [
    {
     "data": {
      "text/plain": [
       "genres\n",
       "Adventure,Animation,Comedy    107\n",
       "Comedy                         81\n",
       "Drama                          69\n",
       "Action,Adventure,Sci-Fi        58\n",
       "Comedy,Drama,Romance           57\n",
       "                             ... \n",
       "Adventure,Comedy,Romance        1\n",
       "Comedy,Sci-Fi                   1\n",
       "Comedy,Drama,Sport              1\n",
       "Adventure,Comedy,Sci-Fi         1\n",
       "Comedy,Horror,Thriller          1\n",
       "Name: count, Length: 235, dtype: int64"
      ]
     },
     "execution_count": 4291,
     "metadata": {},
     "output_type": "execute_result"
    }
   ],
   "source": [
    "combined_df['genres'].value_counts()"
   ]
  },
  {
   "cell_type": "code",
   "execution_count": 4292,
   "metadata": {},
   "outputs": [
    {
     "data": {
      "text/plain": [
       "primary_name\n",
       "Tim Story            8\n",
       "Steven Spielberg     7\n",
       "Clint Eastwood       7\n",
       "Jon M. Chu           6\n",
       "Ridley Scott         6\n",
       "                    ..\n",
       "Billy Ray            1\n",
       "James Mather         1\n",
       "Steve Saint Leger    1\n",
       "Mark Mylod           1\n",
       "Jim Chuchu           1\n",
       "Name: count, Length: 1187, dtype: int64"
      ]
     },
     "execution_count": 4292,
     "metadata": {},
     "output_type": "execute_result"
    }
   ],
   "source": [
    "combined_df['primary_name'].value_counts()"
   ]
  },
  {
   "cell_type": "code",
   "execution_count": 4293,
   "metadata": {},
   "outputs": [
    {
     "data": {
      "text/plain": [
       "worldwide_gross\n",
       "$0              136\n",
       "$31,164,747      13\n",
       "$172,867          6\n",
       "$3,496            5\n",
       "$10,551,417       5\n",
       "               ... \n",
       "$41,294,674       1\n",
       "$101,162,106      1\n",
       "$95,989,590       1\n",
       "$126,069,509      1\n",
       "$489,792          1\n",
       "Name: count, Length: 1407, dtype: int64"
      ]
     },
     "execution_count": 4293,
     "metadata": {},
     "output_type": "execute_result"
    }
   ],
   "source": [
    "combined_df['worldwide_gross'].value_counts()"
   ]
  },
  {
   "cell_type": "code",
   "execution_count": 4294,
   "metadata": {},
   "outputs": [
    {
     "data": {
      "text/plain": [
       "production_budget\n",
       "$10,000,000    79\n",
       "$20,000,000    74\n",
       "$30,000,000    56\n",
       "$5,000,000     55\n",
       "$40,000,000    52\n",
       "               ..\n",
       "$19,500,000     1\n",
       "$19,200,000     1\n",
       "$19,100,000     1\n",
       "$17,700,000     1\n",
       "$15,000         1\n",
       "Name: count, Length: 261, dtype: int64"
      ]
     },
     "execution_count": 4294,
     "metadata": {},
     "output_type": "execute_result"
    }
   ],
   "source": [
    "combined_df['production_budget'].value_counts()"
   ]
  },
  {
   "cell_type": "code",
   "execution_count": null,
   "metadata": {},
   "outputs": [],
   "source": []
  },
  {
   "cell_type": "markdown",
   "metadata": {},
   "source": [
    "### Cleaning Primary Columns "
   ]
  },
  {
   "cell_type": "markdown",
   "metadata": {},
   "source": [
    "After viewing our primary columns, I will need to change 'production_budget' and 'worldwide_gross'(gross revenue) into integer datatypes so I can create additional columns for measurements. Additionally, there are missing values in 'runtime_minutes' and 'genres' that need to be filled in. "
   ]
  },
  {
   "cell_type": "code",
   "execution_count": 4295,
   "metadata": {},
   "outputs": [],
   "source": [
    "def money_values(lst):\n",
    "    for df in lst:\n",
    "        combined_df[df] = combined_df[df].apply(lambda x: re.sub(r'[^\\w\\s]', '', x))\n",
    "        combined_df[df] = combined_df[df].apply(int)"
   ]
  },
  {
   "cell_type": "code",
   "execution_count": 4296,
   "metadata": {},
   "outputs": [],
   "source": [
    "monetary_columns_lst = ['production_budget', 'worldwide_gross']\n",
    "money_values(monetary_columns_lst)"
   ]
  },
  {
   "cell_type": "code",
   "execution_count": 4297,
   "metadata": {},
   "outputs": [
    {
     "name": "stderr",
     "output_type": "stream",
     "text": [
      "<ipython-input-4286-9bb459816f07>:5: SettingWithCopyWarning: \n",
      "A value is trying to be set on a copy of a slice from a DataFrame\n",
      "\n",
      "See the caveats in the documentation: https://pandas.pydata.org/pandas-docs/stable/user_guide/indexing.html#returning-a-view-versus-a-copy\n",
      "  df.drop(columns=x, inplace=True)\n"
     ]
    }
   ],
   "source": [
    "combined_df['runtime_minutes'] = combined_df['runtime_minutes'].fillna(combined_df['runtime_minutes'].mean())\n",
    "combined_df = combined_df[combined_df['runtime_minutes']>30]\n",
    "drop(['runtime_minutes'],combined_df)"
   ]
  },
  {
   "cell_type": "code",
   "execution_count": 4298,
   "metadata": {},
   "outputs": [],
   "source": [
    "combined_df.reset_index(drop=True, inplace=True)"
   ]
  },
  {
   "cell_type": "code",
   "execution_count": 4299,
   "metadata": {},
   "outputs": [],
   "source": [
    "def missing_genre(index, typ):\n",
    "    'Will take the dataframe index and set the genre to its specific type'\n",
    "    combined_df.loc[index,'genres'] = typ"
   ]
  },
  {
   "cell_type": "code",
   "execution_count": 4300,
   "metadata": {},
   "outputs": [],
   "source": [
    "missing_genre(32,'Action,Adventure')\n",
    "missing_genre(515,'Comedy,Action')\n",
    "missing_genre(516,'Comedy,Action')\n",
    "missing_genre(996,'Action,Thriller')\n",
    "missing_genre(1115,'Drama')"
   ]
  },
  {
   "cell_type": "code",
   "execution_count": null,
   "metadata": {},
   "outputs": [],
   "source": []
  },
  {
   "cell_type": "markdown",
   "metadata": {},
   "source": [
    "### Creating Additional Columns for Analysis"
   ]
  },
  {
   "cell_type": "markdown",
   "metadata": {},
   "source": [
    "My EDA will be looking into the best release dates based on their months. I will need to use the 'release_date' column to create a new column for the month it was released, 'month'. \n",
    "\n",
    "Additionally, I will be creating a ROI column as a success measurement. I will need to take 'worldwide_gross' and subtract 'production_budget' to create a new column, 'gross_profit'. From there, I can take 'gross_profit' and divide it by 'production_budget', multiply it by 100, to get the 'gross_roi' percentage. The 'gross_roi' column will be what I use as my measurement of success. "
   ]
  },
  {
   "cell_type": "code",
   "execution_count": 4301,
   "metadata": {},
   "outputs": [
    {
     "name": "stderr",
     "output_type": "stream",
     "text": [
      "<ipython-input-4301-5f98bcda6572>:1: SettingWithCopyWarning: \n",
      "A value is trying to be set on a copy of a slice from a DataFrame.\n",
      "Try using .loc[row_indexer,col_indexer] = value instead\n",
      "\n",
      "See the caveats in the documentation: https://pandas.pydata.org/pandas-docs/stable/user_guide/indexing.html#returning-a-view-versus-a-copy\n",
      "  combined_df['month'] = combined_df['release_date'].apply(lambda x: x[:3])\n"
     ]
    }
   ],
   "source": [
    "combined_df['month'] = combined_df['release_date'].apply(lambda x: x[:3])"
   ]
  },
  {
   "cell_type": "code",
   "execution_count": 4302,
   "metadata": {},
   "outputs": [
    {
     "name": "stderr",
     "output_type": "stream",
     "text": [
      "<ipython-input-4286-9bb459816f07>:5: SettingWithCopyWarning: \n",
      "A value is trying to be set on a copy of a slice from a DataFrame\n",
      "\n",
      "See the caveats in the documentation: https://pandas.pydata.org/pandas-docs/stable/user_guide/indexing.html#returning-a-view-versus-a-copy\n",
      "  df.drop(columns=x, inplace=True)\n"
     ]
    }
   ],
   "source": [
    "drop(['release_date'],combined_df)"
   ]
  },
  {
   "cell_type": "code",
   "execution_count": 4303,
   "metadata": {},
   "outputs": [
    {
     "name": "stderr",
     "output_type": "stream",
     "text": [
      "<ipython-input-4303-4851ec5c6925>:1: SettingWithCopyWarning: \n",
      "A value is trying to be set on a copy of a slice from a DataFrame.\n",
      "Try using .loc[row_indexer,col_indexer] = value instead\n",
      "\n",
      "See the caveats in the documentation: https://pandas.pydata.org/pandas-docs/stable/user_guide/indexing.html#returning-a-view-versus-a-copy\n",
      "  combined_df['gross_profit'] = combined_df.apply(lambda x: x['worldwide_gross'] - x['production_budget'], axis=1)\n"
     ]
    }
   ],
   "source": [
    "combined_df['gross_profit'] = combined_df.apply(lambda x: x['worldwide_gross'] - x['production_budget'], axis=1)"
   ]
  },
  {
   "cell_type": "code",
   "execution_count": 4304,
   "metadata": {},
   "outputs": [
    {
     "name": "stderr",
     "output_type": "stream",
     "text": [
      "<ipython-input-4304-8ab93ed773e4>:1: SettingWithCopyWarning: \n",
      "A value is trying to be set on a copy of a slice from a DataFrame.\n",
      "Try using .loc[row_indexer,col_indexer] = value instead\n",
      "\n",
      "See the caveats in the documentation: https://pandas.pydata.org/pandas-docs/stable/user_guide/indexing.html#returning-a-view-versus-a-copy\n",
      "  combined_df['gross_roi'] = combined_df.apply(lambda x: round((x['gross_profit'] / x['production_budget'])*100,2),\n"
     ]
    }
   ],
   "source": [
    "combined_df['gross_roi'] = combined_df.apply(lambda x: round((x['gross_profit'] / x['production_budget'])*100,2), \n",
    "                                             axis=1)"
   ]
  },
  {
   "cell_type": "code",
   "execution_count": null,
   "metadata": {},
   "outputs": [],
   "source": []
  },
  {
   "cell_type": "code",
   "execution_count": null,
   "metadata": {},
   "outputs": [],
   "source": []
  },
  {
   "cell_type": "markdown",
   "metadata": {},
   "source": [
    "## Exploratory Data Analysis"
   ]
  },
  {
   "cell_type": "markdown",
   "metadata": {},
   "source": [
    "As mentioned in previous sections, I will explore what the stakeholders can control with my created measurement of success. I will examine which genres, months, and directors are the most highly represented. I will need additional data engineering to show my results graphically. I will view the relationships with bar graphs as this will best show us the most highly represented values. I will be looking at the median gross ROI values. Extreme outliers are present in the data, so using the mean will lead to highly skewed results. I will use the median to accurately measure the central tendency to reflect the data. \n",
    "\n",
    "Currently, our combined dataframe has movies repeated for each director. So, if a movie title has two directors, all the other information will be repeated twice. The issue is ROIs, genres, and months will be represented twice for the same movie. If kept, this will skew our results, giving more weight to those columns. To fix this, I will create new dataframes of the relevant information for each analysis and drop any duplicated rows, thus removing additional rows when there is more than one director. But, this information will be kept for the director's analysis. \n"
   ]
  },
  {
   "cell_type": "markdown",
   "metadata": {},
   "source": [
    "### Genre vs. ROI"
   ]
  },
  {
   "cell_type": "markdown",
   "metadata": {},
   "source": [
    "Movies have more than one genre associated with them. I want to see how the genres perform individually so the stakeholders can understand the combinations of genres they can create for success. We can’t know which genre made individuals decide to go to a movie, so they all have to be represented equally. For example, if it is an action/adventure movie with a 10% ROI, then both action and adventure will receive a 10% value. I will create a dictionary with the keys being each genre, and their values will be a list of all their associated ROIs. I will then sort it by median ROI, transform the dictionary into a dataframe, and graph the top five genres."
   ]
  },
  {
   "cell_type": "code",
   "execution_count": 4307,
   "metadata": {},
   "outputs": [],
   "source": [
    "genre_df = combined_df[['movie','gross_roi', 'genres']]"
   ]
  },
  {
   "cell_type": "code",
   "execution_count": 4308,
   "metadata": {},
   "outputs": [],
   "source": [
    "genre_df = genre_df.drop_duplicates()"
   ]
  },
  {
   "cell_type": "code",
   "execution_count": null,
   "metadata": {},
   "outputs": [],
   "source": []
  },
  {
   "cell_type": "code",
   "execution_count": 4309,
   "metadata": {},
   "outputs": [],
   "source": [
    "# https://datascience.stackexchange.com/questions/74277/extract-seperated-value-from-columns\n",
    "genre_df = genre_df.assign(genre1 = genre_df.genres.str.split(\",\", expand = True).iloc[:,:1],\n",
    "                           genre2 = genre_df.genres.str.split(\",\", expand = True).iloc[:,1:2],\n",
    "                           genre3 = genre_df.genres.str.split(\",\", expand = True).iloc[:,2:3])"
   ]
  },
  {
   "cell_type": "code",
   "execution_count": 4310,
   "metadata": {},
   "outputs": [],
   "source": [
    "drop(['genres'],genre_df)"
   ]
  },
  {
   "cell_type": "code",
   "execution_count": 4311,
   "metadata": {},
   "outputs": [],
   "source": [
    "lst_1 = list(genre_df['genre1'].unique())\n",
    "lst_2 = list(genre_df['genre2'].unique())\n",
    "lst_3 = list(genre_df['genre3'].unique())\n",
    "lst_1.extend(lst_2)\n",
    "lst_1.extend(lst_3)"
   ]
  },
  {
   "cell_type": "code",
   "execution_count": 4312,
   "metadata": {},
   "outputs": [],
   "source": [
    "genre_unique_lst = list(set(lst_1))\n",
    "genre_dict = dict([(x,[]) for x in genre_unique_lst])"
   ]
  },
  {
   "cell_type": "code",
   "execution_count": 4313,
   "metadata": {},
   "outputs": [],
   "source": [
    "for i in genre_df.index:\n",
    "    genre_dict[genre_df['genre1'][i]].append(genre_df['gross_roi'][i])\n",
    "    genre_dict[genre_df['genre2'][i]].append(genre_df['gross_roi'][i])\n",
    "    genre_dict[genre_df['genre3'][i]].append(genre_df['gross_roi'][i])"
   ]
  },
  {
   "cell_type": "code",
   "execution_count": 4314,
   "metadata": {},
   "outputs": [],
   "source": [
    "genre_dict = dict((k,round(statistics.median(v),2))for k,v in genre_dict.items())\n",
    "genre_dict = dict(sorted(genre_dict.items(), key=lambda item: item[1], reverse=True))"
   ]
  },
  {
   "cell_type": "code",
   "execution_count": 4315,
   "metadata": {},
   "outputs": [],
   "source": [
    "genre_roi_df = pd.DataFrame.from_dict(genre_dict.items())\n",
    "genre_roi_df.columns = ['genre','gross_roi']\n",
    "genre_roi_df = genre_roi_df.head()"
   ]
  },
  {
   "cell_type": "code",
   "execution_count": 4316,
   "metadata": {},
   "outputs": [],
   "source": [
    "genre_roi_df['gross_roi'] = genre_roi_df['gross_roi'].apply(lambda x: round(x))"
   ]
  },
  {
   "cell_type": "code",
   "execution_count": 4317,
   "metadata": {
    "scrolled": true
   },
   "outputs": [
    {
     "data": {
      "image/png": "[encoded data removed]",
      "text/plain": [
       "<Figure size 1008x576 with 1 Axes>"
      ]
     },
     "metadata": {
      "needs_background": "light"
     },
     "output_type": "display_data"
    }
   ],
   "source": [
    "plt.figure(figsize=(14, 8))\n",
    "\n",
    "ax1 = sns.barplot(x=\"genre\",  y='gross_roi', data=genre_roi_df, color='lightblue')\n",
    "\n",
    "\n",
    "# add legend\n",
    "bar = mpatches.Patch(color='lightblue', label='Median Gross ROI')\n",
    "plt.legend(handles=[bar])\n",
    "\n",
    "for index, row in genre_roi_df.iterrows():\n",
    "    ax1.text(row.name, row['gross_roi'], row['gross_roi'], color='black', ha=\"center\",\n",
    "             fontsize='x-large',va='bottom')\n",
    "\n",
    "# show the graph\n",
    "plt.title(\"Median Gross ROI by Genre\",fontsize=20)\n",
    "plt.xlabel('Genre',fontsize=19)\n",
    "plt.ylabel('Gross ROI Percentage',fontsize=19)\n",
    "plt.tick_params(axis='x',labelsize=18)\n",
    "plt.tick_params(axis='y',labelsize=18)\n",
    "plt.show()\n",
    "\n",
    "\n",
    "#Used stackoverflow example to see how to do the labeling on the bar graph as well as the legend.\n",
    "#(https://stackoverflow.com/questions/43214978/how-to-display-custom-values-on-a-bar-plot)\n",
    "#(https://stackoverflow.com/questions/65272126/seaborn-how-to-add-legend-to-seaborn-barplot)"
   ]
  },
  {
   "cell_type": "code",
   "execution_count": null,
   "metadata": {},
   "outputs": [],
   "source": []
  },
  {
   "cell_type": "code",
   "execution_count": null,
   "metadata": {},
   "outputs": [],
   "source": []
  },
  {
   "cell_type": "code",
   "execution_count": null,
   "metadata": {},
   "outputs": [],
   "source": []
  },
  {
   "cell_type": "code",
   "execution_count": null,
   "metadata": {},
   "outputs": [],
   "source": []
  },
  {
   "cell_type": "code",
   "execution_count": null,
   "metadata": {},
   "outputs": [],
   "source": []
  },
  {
   "cell_type": "markdown",
   "metadata": {},
   "source": [
    "### Month vs. ROI"
   ]
  },
  {
   "cell_type": "markdown",
   "metadata": {},
   "source": []
  },
  {
   "cell_type": "code",
   "execution_count": 4318,
   "metadata": {},
   "outputs": [],
   "source": [
    "month_df = combined_df[['movie', 'gross_roi', 'month']]"
   ]
  },
  {
   "cell_type": "code",
   "execution_count": 4319,
   "metadata": {},
   "outputs": [],
   "source": [
    "month_df = combined_df.drop_duplicates()"
   ]
  },
  {
   "cell_type": "code",
   "execution_count": 4320,
   "metadata": {},
   "outputs": [],
   "source": [
    "month_roi_df = month_df.groupby('month')[['gross_roi']].median().reset_index()"
   ]
  },
  {
   "cell_type": "code",
   "execution_count": 4321,
   "metadata": {},
   "outputs": [],
   "source": [
    "month_roi_df = month_roi_df[['month','gross_roi']].sort_values(by='gross_roi',ascending=False).reset_index(\n",
    "                                                                                                drop=True).head()"
   ]
  },
  {
   "cell_type": "code",
   "execution_count": 4322,
   "metadata": {},
   "outputs": [],
   "source": [
    "month_roi_df['gross_roi'] = month_roi_df['gross_roi'].apply(lambda x: round(x))"
   ]
  },
  {
   "cell_type": "code",
   "execution_count": 4323,
   "metadata": {
    "scrolled": true
   },
   "outputs": [
    {
     "data": {
      "image/png": "[encoded data removed]",
      "text/plain": [
       "<Figure size 1008x576 with 1 Axes>"
      ]
     },
     "metadata": {
      "needs_background": "light"
     },
     "output_type": "display_data"
    }
   ],
   "source": [
    "plt.figure(figsize=(14, 8))\n",
    "\n",
    "ax1 = sns.barplot(x=\"month\",  y='gross_roi', data=month_roi_df, color='lightblue')\n",
    "\n",
    "\n",
    "# add legend\n",
    "bar = mpatches.Patch(color='lightblue', label='Median Gross ROI')\n",
    "plt.legend(handles=[bar])\n",
    "\n",
    "for index, row in month_roi_df.iterrows():\n",
    "    ax1.text(row.name, row['gross_roi'], row['gross_roi'], color='black', ha=\"center\",\n",
    "             fontsize='x-large',va='bottom')\n",
    "\n",
    "# show the graph\n",
    "plt.title(\"Median Gross ROI by Month\",fontsize=20)\n",
    "plt.xlabel('Month',fontsize=19)\n",
    "plt.ylabel('Gross ROI Percentage',fontsize=19)\n",
    "plt.tick_params(axis='x',labelsize=18)\n",
    "plt.tick_params(axis='y',labelsize=18)\n",
    "plt.show()\n",
    "\n",
    "\n",
    "#Used stackoverflow example to see how to do the labeling on the bar graph as well as the legend.\n",
    "#(https://stackoverflow.com/questions/43214978/how-to-display-custom-values-on-a-bar-plot)\n",
    "#(https://stackoverflow.com/questions/65272126/seaborn-how-to-add-legend-to-seaborn-barplot)"
   ]
  },
  {
   "cell_type": "code",
   "execution_count": null,
   "metadata": {},
   "outputs": [],
   "source": []
  },
  {
   "cell_type": "code",
   "execution_count": null,
   "metadata": {},
   "outputs": [],
   "source": []
  },
  {
   "cell_type": "code",
   "execution_count": null,
   "metadata": {},
   "outputs": [],
   "source": []
  },
  {
   "cell_type": "code",
   "execution_count": null,
   "metadata": {},
   "outputs": [],
   "source": []
  },
  {
   "cell_type": "markdown",
   "metadata": {},
   "source": [
    "### Directors vs. ROI"
   ]
  },
  {
   "cell_type": "markdown",
   "metadata": {},
   "source": []
  },
  {
   "cell_type": "code",
   "execution_count": 4269,
   "metadata": {},
   "outputs": [],
   "source": [
    "director_roi_df = combined_df[['movie','primary_name','gross_roi']]"
   ]
  },
  {
   "cell_type": "code",
   "execution_count": 4270,
   "metadata": {},
   "outputs": [],
   "source": [
    "director_roi_df = director_roi_df.groupby('primary_name')[['gross_roi', 'movie']].agg({'gross_roi':'median',\n",
    "                                                                                       'movie':'count'}).sort_values(by='gross_roi',\n",
    "                                                        ascending=False)"
   ]
  },
  {
   "cell_type": "code",
   "execution_count": 4271,
   "metadata": {},
   "outputs": [],
   "source": [
    "director_roi_df = director_roi_df[director_roi_df['movie']>=5].head(10).reset_index()"
   ]
  },
  {
   "cell_type": "code",
   "execution_count": 4272,
   "metadata": {},
   "outputs": [],
   "source": [
    "director_roi_df['gross_roi'] = director_roi_df['gross_roi'].apply(lambda x: round(x))"
   ]
  },
  {
   "cell_type": "code",
   "execution_count": 4273,
   "metadata": {},
   "outputs": [
    {
     "data": {
      "image/png": "[encoded data removed]",
      "text/plain": [
       "<Figure size 1008x432 with 1 Axes>"
      ]
     },
     "metadata": {
      "needs_background": "light"
     },
     "output_type": "display_data"
    }
   ],
   "source": [
    "plt.figure(figsize=(14, 6))\n",
    "\n",
    "ax1 = sns.barplot(x=\"gross_roi\",  y='primary_name', data=director_roi_df, color='lightblue')\n",
    "\n",
    "ax1.bar_label(ax1.containers[0],size=14)\n",
    "# show the graph\n",
    "\n",
    "plt.title('Median Gross ROI by Director',fontsize=20)\n",
    "plt.xlabel('ROI Percentage',fontsize=18)\n",
    "plt.ylabel('Directors',fontsize=18)\n",
    "plt.tick_params(axis='y',labelsize=15)\n",
    "plt.tick_params(axis='x',labelsize=15)\n",
    "plt.show()\n",
    "\n",
    "#Another way to do bar label that i learned about on stackoverflow.\n",
    "#(https://stackoverflow.com/questions/49820549/labeling-horizontal-barplot-with-values-in-seaborn)"
   ]
  },
  {
   "cell_type": "markdown",
   "metadata": {},
   "source": [
    "## Conclusions"
   ]
  },
  {
   "cell_type": "markdown",
   "metadata": {},
   "source": []
  },
  {
   "cell_type": "markdown",
   "metadata": {},
   "source": [
    "### Limitations"
   ]
  },
  {
   "cell_type": "markdown",
   "metadata": {},
   "source": []
  },
  {
   "cell_type": "markdown",
   "metadata": {},
   "source": [
    "### Recommendations"
   ]
  },
  {
   "cell_type": "markdown",
   "metadata": {},
   "source": []
  },
  {
   "cell_type": "markdown",
   "metadata": {},
   "source": [
    "### Next Steps"
   ]
  },
  {
   "cell_type": "markdown",
   "metadata": {},
   "source": []
  }
 ],
 "metadata": {
  "kernelspec": {
   "display_name": "Python (learn-env)",
   "language": "python",
   "name": "learn-env"
  },
  "language_info": {
   "codemirror_mode": {
    "name": "ipython",
    "version": 3
   },
   "file_extension": ".py",
   "mimetype": "text/x-python",
   "name": "python",
   "nbconvert_exporter": "python",
   "pygments_lexer": "ipython3",
   "version": "3.8.5"
  }
 },
 "nbformat": 4,
 "nbformat_minor": 4
}
