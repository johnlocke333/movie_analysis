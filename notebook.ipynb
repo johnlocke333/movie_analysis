{
 "cells": [
  {
   "cell_type": "markdown",
   "metadata": {},
   "source": []
  },
  {
   "cell_type": "markdown",
   "metadata": {},
   "source": []
  },
  {
   "cell_type": "markdown",
   "metadata": {},
   "source": [
    "# Overview"
   ]
  },
  {
   "cell_type": "code",
   "execution_count": null,
   "metadata": {},
   "outputs": [],
   "source": []
  },
  {
   "cell_type": "markdown",
   "metadata": {},
   "source": [
    "# Business Understanding"
   ]
  },
  {
   "cell_type": "markdown",
   "metadata": {},
   "source": []
  },
  {
   "cell_type": "markdown",
   "metadata": {},
   "source": [
    "# Data Understanding"
   ]
  },
  {
   "cell_type": "markdown",
   "metadata": {},
   "source": []
  },
  {
   "cell_type": "markdown",
   "metadata": {},
   "source": [
    "## Data Preparation"
   ]
  },
  {
   "cell_type": "markdown",
   "metadata": {},
   "source": []
  },
  {
   "cell_type": "code",
   "execution_count": 3591,
   "metadata": {},
   "outputs": [],
   "source": [
    "import pandas as pd\n",
    "import sqlite3\n",
    "import matplotlib.pyplot as plt\n",
    "import seaborn as sns\n",
    "%matplotlib inline\n",
    "import re\n",
    "import matplotlib.patches as mpatches\n",
    "import numpy as np\n",
    "from scipy.stats import gmean\n",
    "import statistics"
   ]
  },
  {
   "cell_type": "code",
   "execution_count": 3592,
   "metadata": {
    "scrolled": false
   },
   "outputs": [
    {
     "data": {
      "text/html": [
       "<div>\n",
       "<style scoped>\n",
       "    .dataframe tbody tr th:only-of-type {\n",
       "        vertical-align: middle;\n",
       "    }\n",
       "\n",
       "    .dataframe tbody tr th {\n",
       "        vertical-align: top;\n",
       "    }\n",
       "\n",
       "    .dataframe thead th {\n",
       "        text-align: right;\n",
       "    }\n",
       "</style>\n",
       "<table border=\"1\" class=\"dataframe\">\n",
       "  <thead>\n",
       "    <tr style=\"text-align: right;\">\n",
       "      <th></th>\n",
       "      <th>primary_title</th>\n",
       "      <th>runtime_minutes</th>\n",
       "      <th>genres</th>\n",
       "      <th>start_year</th>\n",
       "      <th>movie_id</th>\n",
       "    </tr>\n",
       "  </thead>\n",
       "  <tbody>\n",
       "    <tr>\n",
       "      <th>0</th>\n",
       "      <td>Sunghursh</td>\n",
       "      <td>175.0</td>\n",
       "      <td>Action,Crime,Drama</td>\n",
       "      <td>2013</td>\n",
       "      <td>tt0063540</td>\n",
       "    </tr>\n",
       "    <tr>\n",
       "      <th>1</th>\n",
       "      <td>One Day Before the Rainy Season</td>\n",
       "      <td>114.0</td>\n",
       "      <td>Biography,Drama</td>\n",
       "      <td>2019</td>\n",
       "      <td>tt0066787</td>\n",
       "    </tr>\n",
       "    <tr>\n",
       "      <th>2</th>\n",
       "      <td>The Other Side of the Wind</td>\n",
       "      <td>122.0</td>\n",
       "      <td>Drama</td>\n",
       "      <td>2018</td>\n",
       "      <td>tt0069049</td>\n",
       "    </tr>\n",
       "    <tr>\n",
       "      <th>3</th>\n",
       "      <td>Sabse Bada Sukh</td>\n",
       "      <td>NaN</td>\n",
       "      <td>Comedy,Drama</td>\n",
       "      <td>2018</td>\n",
       "      <td>tt0069204</td>\n",
       "    </tr>\n",
       "    <tr>\n",
       "      <th>4</th>\n",
       "      <td>The Wandering Soap Opera</td>\n",
       "      <td>80.0</td>\n",
       "      <td>Comedy,Drama,Fantasy</td>\n",
       "      <td>2017</td>\n",
       "      <td>tt0100275</td>\n",
       "    </tr>\n",
       "  </tbody>\n",
       "</table>\n",
       "</div>"
      ],
      "text/plain": [
       "                     primary_title  runtime_minutes                genres  \\\n",
       "0                        Sunghursh            175.0    Action,Crime,Drama   \n",
       "1  One Day Before the Rainy Season            114.0       Biography,Drama   \n",
       "2       The Other Side of the Wind            122.0                 Drama   \n",
       "3                  Sabse Bada Sukh              NaN          Comedy,Drama   \n",
       "4         The Wandering Soap Opera             80.0  Comedy,Drama,Fantasy   \n",
       "\n",
       "   start_year   movie_id  \n",
       "0        2013  tt0063540  \n",
       "1        2019  tt0066787  \n",
       "2        2018  tt0069049  \n",
       "3        2018  tt0069204  \n",
       "4        2017  tt0100275  "
      ]
     },
     "execution_count": 3592,
     "metadata": {},
     "output_type": "execute_result"
    }
   ],
   "source": [
    "conn = sqlite3.Connection('data/im.db')\n",
    "imdb_df = pd.read_sql(\"\"\"\n",
    "\n",
    "SELECT primary_title, runtime_minutes, genres, start_year, movie_id\n",
    "FROM movie_basics\n",
    "JOIN movie_ratings\n",
    "USING(movie_id)\n",
    "\n",
    ";\"\"\",conn)\n",
    "imdb_df.head()"
   ]
  },
  {
   "cell_type": "code",
   "execution_count": 3593,
   "metadata": {},
   "outputs": [
    {
     "data": {
      "text/html": [
       "<div>\n",
       "<style scoped>\n",
       "    .dataframe tbody tr th:only-of-type {\n",
       "        vertical-align: middle;\n",
       "    }\n",
       "\n",
       "    .dataframe tbody tr th {\n",
       "        vertical-align: top;\n",
       "    }\n",
       "\n",
       "    .dataframe thead th {\n",
       "        text-align: right;\n",
       "    }\n",
       "</style>\n",
       "<table border=\"1\" class=\"dataframe\">\n",
       "  <thead>\n",
       "    <tr style=\"text-align: right;\">\n",
       "      <th></th>\n",
       "      <th>movie_id</th>\n",
       "      <th>person_id</th>\n",
       "      <th>primary_name</th>\n",
       "    </tr>\n",
       "  </thead>\n",
       "  <tbody>\n",
       "    <tr>\n",
       "      <th>0</th>\n",
       "      <td>tt0285252</td>\n",
       "      <td>nm0899854</td>\n",
       "      <td>Tony Vitale</td>\n",
       "    </tr>\n",
       "    <tr>\n",
       "      <th>1</th>\n",
       "      <td>tt0462036</td>\n",
       "      <td>nm1940585</td>\n",
       "      <td>Bill Haley</td>\n",
       "    </tr>\n",
       "    <tr>\n",
       "      <th>2</th>\n",
       "      <td>tt0835418</td>\n",
       "      <td>nm0151540</td>\n",
       "      <td>Jay Chandrasekhar</td>\n",
       "    </tr>\n",
       "    <tr>\n",
       "      <th>3</th>\n",
       "      <td>tt0878654</td>\n",
       "      <td>nm0089502</td>\n",
       "      <td>Albert Pyun</td>\n",
       "    </tr>\n",
       "    <tr>\n",
       "      <th>4</th>\n",
       "      <td>tt0878654</td>\n",
       "      <td>nm2291498</td>\n",
       "      <td>Joe Baile</td>\n",
       "    </tr>\n",
       "  </tbody>\n",
       "</table>\n",
       "</div>"
      ],
      "text/plain": [
       "    movie_id  person_id       primary_name\n",
       "0  tt0285252  nm0899854        Tony Vitale\n",
       "1  tt0462036  nm1940585         Bill Haley\n",
       "2  tt0835418  nm0151540  Jay Chandrasekhar\n",
       "3  tt0878654  nm0089502        Albert Pyun\n",
       "4  tt0878654  nm2291498          Joe Baile"
      ]
     },
     "execution_count": 3593,
     "metadata": {},
     "output_type": "execute_result"
    }
   ],
   "source": [
    "director_df = pd.read_sql(\"\"\"\n",
    "\n",
    "SELECT DISTINCT movie_id, person_id, primary_name\n",
    "FROM directors\n",
    "JOIN persons\n",
    "USING(person_id)\n",
    "\n",
    "\n",
    ";\"\"\",conn)\n",
    "director_df.head()"
   ]
  },
  {
   "cell_type": "code",
   "execution_count": 3594,
   "metadata": {},
   "outputs": [],
   "source": [
    "director_movie_df = director_df.merge(imdb_df, on='movie_id', how = 'inner')"
   ]
  },
  {
   "cell_type": "code",
   "execution_count": 3595,
   "metadata": {
    "scrolled": true
   },
   "outputs": [
    {
     "data": {
      "text/html": [
       "<div>\n",
       "<style scoped>\n",
       "    .dataframe tbody tr th:only-of-type {\n",
       "        vertical-align: middle;\n",
       "    }\n",
       "\n",
       "    .dataframe tbody tr th {\n",
       "        vertical-align: top;\n",
       "    }\n",
       "\n",
       "    .dataframe thead th {\n",
       "        text-align: right;\n",
       "    }\n",
       "</style>\n",
       "<table border=\"1\" class=\"dataframe\">\n",
       "  <thead>\n",
       "    <tr style=\"text-align: right;\">\n",
       "      <th></th>\n",
       "      <th>id</th>\n",
       "      <th>release_date</th>\n",
       "      <th>movie</th>\n",
       "      <th>production_budget</th>\n",
       "      <th>domestic_gross</th>\n",
       "      <th>worldwide_gross</th>\n",
       "    </tr>\n",
       "  </thead>\n",
       "  <tbody>\n",
       "    <tr>\n",
       "      <th>0</th>\n",
       "      <td>1</td>\n",
       "      <td>Dec 18, 2009</td>\n",
       "      <td>Avatar</td>\n",
       "      <td>$425,000,000</td>\n",
       "      <td>$760,507,625</td>\n",
       "      <td>$2,776,345,279</td>\n",
       "    </tr>\n",
       "    <tr>\n",
       "      <th>1</th>\n",
       "      <td>2</td>\n",
       "      <td>May 20, 2011</td>\n",
       "      <td>Pirates of the Caribbean: On Stranger Tides</td>\n",
       "      <td>$410,600,000</td>\n",
       "      <td>$241,063,875</td>\n",
       "      <td>$1,045,663,875</td>\n",
       "    </tr>\n",
       "    <tr>\n",
       "      <th>2</th>\n",
       "      <td>3</td>\n",
       "      <td>Jun 7, 2019</td>\n",
       "      <td>Dark Phoenix</td>\n",
       "      <td>$350,000,000</td>\n",
       "      <td>$42,762,350</td>\n",
       "      <td>$149,762,350</td>\n",
       "    </tr>\n",
       "    <tr>\n",
       "      <th>3</th>\n",
       "      <td>4</td>\n",
       "      <td>May 1, 2015</td>\n",
       "      <td>Avengers: Age of Ultron</td>\n",
       "      <td>$330,600,000</td>\n",
       "      <td>$459,005,868</td>\n",
       "      <td>$1,403,013,963</td>\n",
       "    </tr>\n",
       "    <tr>\n",
       "      <th>4</th>\n",
       "      <td>5</td>\n",
       "      <td>Dec 15, 2017</td>\n",
       "      <td>Star Wars Ep. VIII: The Last Jedi</td>\n",
       "      <td>$317,000,000</td>\n",
       "      <td>$620,181,382</td>\n",
       "      <td>$1,316,721,747</td>\n",
       "    </tr>\n",
       "  </tbody>\n",
       "</table>\n",
       "</div>"
      ],
      "text/plain": [
       "   id  release_date                                        movie  \\\n",
       "0   1  Dec 18, 2009                                       Avatar   \n",
       "1   2  May 20, 2011  Pirates of the Caribbean: On Stranger Tides   \n",
       "2   3   Jun 7, 2019                                 Dark Phoenix   \n",
       "3   4   May 1, 2015                      Avengers: Age of Ultron   \n",
       "4   5  Dec 15, 2017            Star Wars Ep. VIII: The Last Jedi   \n",
       "\n",
       "  production_budget domestic_gross worldwide_gross  \n",
       "0      $425,000,000   $760,507,625  $2,776,345,279  \n",
       "1      $410,600,000   $241,063,875  $1,045,663,875  \n",
       "2      $350,000,000    $42,762,350    $149,762,350  \n",
       "3      $330,600,000   $459,005,868  $1,403,013,963  \n",
       "4      $317,000,000   $620,181,382  $1,316,721,747  "
      ]
     },
     "execution_count": 3595,
     "metadata": {},
     "output_type": "execute_result"
    }
   ],
   "source": [
    "tn_df = pd.read_csv('data/tn.movie_budgets.csv.gz')\n",
    "tn_df.head()"
   ]
  },
  {
   "cell_type": "code",
   "execution_count": null,
   "metadata": {},
   "outputs": [],
   "source": []
  },
  {
   "cell_type": "code",
   "execution_count": null,
   "metadata": {},
   "outputs": [],
   "source": []
  },
  {
   "cell_type": "code",
   "execution_count": 3596,
   "metadata": {},
   "outputs": [],
   "source": [
    "tn_df['movie'] = tn_df['movie'].apply(lambda x: x.lower())"
   ]
  },
  {
   "cell_type": "code",
   "execution_count": 3597,
   "metadata": {},
   "outputs": [],
   "source": [
    "director_movie_df['primary_title'] = director_movie_df['primary_title'].apply(lambda x: x.lower())"
   ]
  },
  {
   "cell_type": "code",
   "execution_count": 3598,
   "metadata": {},
   "outputs": [],
   "source": [
    "combined_df = tn_df.merge(director_movie_df, left_on='movie', right_on='primary_title', how = 'inner')"
   ]
  },
  {
   "cell_type": "code",
   "execution_count": 3599,
   "metadata": {
    "scrolled": true
   },
   "outputs": [
    {
     "data": {
      "text/html": [
       "<div>\n",
       "<style scoped>\n",
       "    .dataframe tbody tr th:only-of-type {\n",
       "        vertical-align: middle;\n",
       "    }\n",
       "\n",
       "    .dataframe tbody tr th {\n",
       "        vertical-align: top;\n",
       "    }\n",
       "\n",
       "    .dataframe thead th {\n",
       "        text-align: right;\n",
       "    }\n",
       "</style>\n",
       "<table border=\"1\" class=\"dataframe\">\n",
       "  <thead>\n",
       "    <tr style=\"text-align: right;\">\n",
       "      <th></th>\n",
       "      <th>id</th>\n",
       "      <th>release_date</th>\n",
       "      <th>movie</th>\n",
       "      <th>production_budget</th>\n",
       "      <th>domestic_gross</th>\n",
       "      <th>worldwide_gross</th>\n",
       "      <th>movie_id</th>\n",
       "      <th>person_id</th>\n",
       "      <th>primary_name</th>\n",
       "      <th>primary_title</th>\n",
       "      <th>runtime_minutes</th>\n",
       "      <th>genres</th>\n",
       "      <th>start_year</th>\n",
       "    </tr>\n",
       "  </thead>\n",
       "  <tbody>\n",
       "    <tr>\n",
       "      <th>0</th>\n",
       "      <td>1</td>\n",
       "      <td>Dec 18, 2009</td>\n",
       "      <td>avatar</td>\n",
       "      <td>$425,000,000</td>\n",
       "      <td>$760,507,625</td>\n",
       "      <td>$2,776,345,279</td>\n",
       "      <td>tt1775309</td>\n",
       "      <td>nm3786927</td>\n",
       "      <td>Atsushi Wada</td>\n",
       "      <td>avatar</td>\n",
       "      <td>93.0</td>\n",
       "      <td>Horror</td>\n",
       "      <td>2011</td>\n",
       "    </tr>\n",
       "    <tr>\n",
       "      <th>1</th>\n",
       "      <td>2</td>\n",
       "      <td>May 20, 2011</td>\n",
       "      <td>pirates of the caribbean: on stranger tides</td>\n",
       "      <td>$410,600,000</td>\n",
       "      <td>$241,063,875</td>\n",
       "      <td>$1,045,663,875</td>\n",
       "      <td>tt1298650</td>\n",
       "      <td>nm0551128</td>\n",
       "      <td>Rob Marshall</td>\n",
       "      <td>pirates of the caribbean: on stranger tides</td>\n",
       "      <td>136.0</td>\n",
       "      <td>Action,Adventure,Fantasy</td>\n",
       "      <td>2011</td>\n",
       "    </tr>\n",
       "    <tr>\n",
       "      <th>2</th>\n",
       "      <td>3</td>\n",
       "      <td>Jun 7, 2019</td>\n",
       "      <td>dark phoenix</td>\n",
       "      <td>$350,000,000</td>\n",
       "      <td>$42,762,350</td>\n",
       "      <td>$149,762,350</td>\n",
       "      <td>tt6565702</td>\n",
       "      <td>nm1334526</td>\n",
       "      <td>Simon Kinberg</td>\n",
       "      <td>dark phoenix</td>\n",
       "      <td>113.0</td>\n",
       "      <td>Action,Adventure,Sci-Fi</td>\n",
       "      <td>2019</td>\n",
       "    </tr>\n",
       "    <tr>\n",
       "      <th>3</th>\n",
       "      <td>4</td>\n",
       "      <td>May 1, 2015</td>\n",
       "      <td>avengers: age of ultron</td>\n",
       "      <td>$330,600,000</td>\n",
       "      <td>$459,005,868</td>\n",
       "      <td>$1,403,013,963</td>\n",
       "      <td>tt2395427</td>\n",
       "      <td>nm0923736</td>\n",
       "      <td>Joss Whedon</td>\n",
       "      <td>avengers: age of ultron</td>\n",
       "      <td>141.0</td>\n",
       "      <td>Action,Adventure,Sci-Fi</td>\n",
       "      <td>2015</td>\n",
       "    </tr>\n",
       "    <tr>\n",
       "      <th>4</th>\n",
       "      <td>7</td>\n",
       "      <td>Apr 27, 2018</td>\n",
       "      <td>avengers: infinity war</td>\n",
       "      <td>$300,000,000</td>\n",
       "      <td>$678,815,482</td>\n",
       "      <td>$2,048,134,200</td>\n",
       "      <td>tt4154756</td>\n",
       "      <td>nm0751577</td>\n",
       "      <td>Anthony Russo</td>\n",
       "      <td>avengers: infinity war</td>\n",
       "      <td>149.0</td>\n",
       "      <td>Action,Adventure,Sci-Fi</td>\n",
       "      <td>2018</td>\n",
       "    </tr>\n",
       "    <tr>\n",
       "      <th>...</th>\n",
       "      <td>...</td>\n",
       "      <td>...</td>\n",
       "      <td>...</td>\n",
       "      <td>...</td>\n",
       "      <td>...</td>\n",
       "      <td>...</td>\n",
       "      <td>...</td>\n",
       "      <td>...</td>\n",
       "      <td>...</td>\n",
       "      <td>...</td>\n",
       "      <td>...</td>\n",
       "      <td>...</td>\n",
       "      <td>...</td>\n",
       "    </tr>\n",
       "    <tr>\n",
       "      <th>3248</th>\n",
       "      <td>68</td>\n",
       "      <td>Jul 6, 2001</td>\n",
       "      <td>cure</td>\n",
       "      <td>$10,000</td>\n",
       "      <td>$94,596</td>\n",
       "      <td>$94,596</td>\n",
       "      <td>tt1872026</td>\n",
       "      <td>nm0948107</td>\n",
       "      <td>Bill Yip</td>\n",
       "      <td>cure</td>\n",
       "      <td>93.0</td>\n",
       "      <td>Drama</td>\n",
       "      <td>2011</td>\n",
       "    </tr>\n",
       "    <tr>\n",
       "      <th>3249</th>\n",
       "      <td>73</td>\n",
       "      <td>Jan 13, 2012</td>\n",
       "      <td>newlyweds</td>\n",
       "      <td>$9,000</td>\n",
       "      <td>$4,584</td>\n",
       "      <td>$4,584</td>\n",
       "      <td>tt1880418</td>\n",
       "      <td>nm0122653</td>\n",
       "      <td>Edward Burns</td>\n",
       "      <td>newlyweds</td>\n",
       "      <td>95.0</td>\n",
       "      <td>Comedy,Drama</td>\n",
       "      <td>2011</td>\n",
       "    </tr>\n",
       "    <tr>\n",
       "      <th>3250</th>\n",
       "      <td>78</td>\n",
       "      <td>Dec 31, 2018</td>\n",
       "      <td>red 11</td>\n",
       "      <td>$7,000</td>\n",
       "      <td>$0</td>\n",
       "      <td>$0</td>\n",
       "      <td>tt7837402</td>\n",
       "      <td>nm0001675</td>\n",
       "      <td>Robert Rodriguez</td>\n",
       "      <td>red 11</td>\n",
       "      <td>77.0</td>\n",
       "      <td>Horror,Sci-Fi,Thriller</td>\n",
       "      <td>2019</td>\n",
       "    </tr>\n",
       "    <tr>\n",
       "      <th>3251</th>\n",
       "      <td>81</td>\n",
       "      <td>Sep 29, 2015</td>\n",
       "      <td>a plague so pleasant</td>\n",
       "      <td>$1,400</td>\n",
       "      <td>$0</td>\n",
       "      <td>$0</td>\n",
       "      <td>tt2107644</td>\n",
       "      <td>nm4766951</td>\n",
       "      <td>Benjamin Roberds</td>\n",
       "      <td>a plague so pleasant</td>\n",
       "      <td>76.0</td>\n",
       "      <td>Drama,Horror,Thriller</td>\n",
       "      <td>2013</td>\n",
       "    </tr>\n",
       "    <tr>\n",
       "      <th>3252</th>\n",
       "      <td>81</td>\n",
       "      <td>Sep 29, 2015</td>\n",
       "      <td>a plague so pleasant</td>\n",
       "      <td>$1,400</td>\n",
       "      <td>$0</td>\n",
       "      <td>$0</td>\n",
       "      <td>tt2107644</td>\n",
       "      <td>nm5792320</td>\n",
       "      <td>Jordan Reyes</td>\n",
       "      <td>a plague so pleasant</td>\n",
       "      <td>76.0</td>\n",
       "      <td>Drama,Horror,Thriller</td>\n",
       "      <td>2013</td>\n",
       "    </tr>\n",
       "  </tbody>\n",
       "</table>\n",
       "<p>3253 rows × 13 columns</p>\n",
       "</div>"
      ],
      "text/plain": [
       "      id  release_date                                        movie  \\\n",
       "0      1  Dec 18, 2009                                       avatar   \n",
       "1      2  May 20, 2011  pirates of the caribbean: on stranger tides   \n",
       "2      3   Jun 7, 2019                                 dark phoenix   \n",
       "3      4   May 1, 2015                      avengers: age of ultron   \n",
       "4      7  Apr 27, 2018                       avengers: infinity war   \n",
       "...   ..           ...                                          ...   \n",
       "3248  68   Jul 6, 2001                                         cure   \n",
       "3249  73  Jan 13, 2012                                    newlyweds   \n",
       "3250  78  Dec 31, 2018                                       red 11   \n",
       "3251  81  Sep 29, 2015                         a plague so pleasant   \n",
       "3252  81  Sep 29, 2015                         a plague so pleasant   \n",
       "\n",
       "     production_budget domestic_gross worldwide_gross   movie_id  person_id  \\\n",
       "0         $425,000,000   $760,507,625  $2,776,345,279  tt1775309  nm3786927   \n",
       "1         $410,600,000   $241,063,875  $1,045,663,875  tt1298650  nm0551128   \n",
       "2         $350,000,000    $42,762,350    $149,762,350  tt6565702  nm1334526   \n",
       "3         $330,600,000   $459,005,868  $1,403,013,963  tt2395427  nm0923736   \n",
       "4         $300,000,000   $678,815,482  $2,048,134,200  tt4154756  nm0751577   \n",
       "...                ...            ...             ...        ...        ...   \n",
       "3248           $10,000        $94,596         $94,596  tt1872026  nm0948107   \n",
       "3249            $9,000         $4,584          $4,584  tt1880418  nm0122653   \n",
       "3250            $7,000             $0              $0  tt7837402  nm0001675   \n",
       "3251            $1,400             $0              $0  tt2107644  nm4766951   \n",
       "3252            $1,400             $0              $0  tt2107644  nm5792320   \n",
       "\n",
       "          primary_name                                primary_title  \\\n",
       "0         Atsushi Wada                                       avatar   \n",
       "1         Rob Marshall  pirates of the caribbean: on stranger tides   \n",
       "2        Simon Kinberg                                 dark phoenix   \n",
       "3          Joss Whedon                      avengers: age of ultron   \n",
       "4        Anthony Russo                       avengers: infinity war   \n",
       "...                ...                                          ...   \n",
       "3248          Bill Yip                                         cure   \n",
       "3249      Edward Burns                                    newlyweds   \n",
       "3250  Robert Rodriguez                                       red 11   \n",
       "3251  Benjamin Roberds                         a plague so pleasant   \n",
       "3252      Jordan Reyes                         a plague so pleasant   \n",
       "\n",
       "      runtime_minutes                    genres  start_year  \n",
       "0                93.0                    Horror        2011  \n",
       "1               136.0  Action,Adventure,Fantasy        2011  \n",
       "2               113.0   Action,Adventure,Sci-Fi        2019  \n",
       "3               141.0   Action,Adventure,Sci-Fi        2015  \n",
       "4               149.0   Action,Adventure,Sci-Fi        2018  \n",
       "...               ...                       ...         ...  \n",
       "3248             93.0                     Drama        2011  \n",
       "3249             95.0              Comedy,Drama        2011  \n",
       "3250             77.0    Horror,Sci-Fi,Thriller        2019  \n",
       "3251             76.0     Drama,Horror,Thriller        2013  \n",
       "3252             76.0     Drama,Horror,Thriller        2013  \n",
       "\n",
       "[3253 rows x 13 columns]"
      ]
     },
     "execution_count": 3599,
     "metadata": {},
     "output_type": "execute_result"
    }
   ],
   "source": [
    "# length of dataframe is longer than length of tn_df that we merged on meaning there are multiple primary_titles\n",
    "# that match the movie titles. Essentially duplicated names; movies with same name. We need to figure out how to\n",
    "# make sure we are using the right ones and we can do that by matching start_year with release date_year. This\n",
    "# will not be perfect as dups can have the same year potentially but it will greatly reduce this number for us. \n",
    "# Also, some movies might have the same name but not be referring to the same movie, for example avatar is not a\n",
    "# horror movie and doing further research you see there is an older movie also called avatar. \n",
    "combined_df"
   ]
  },
  {
   "cell_type": "code",
   "execution_count": null,
   "metadata": {},
   "outputs": [],
   "source": []
  },
  {
   "cell_type": "code",
   "execution_count": 3600,
   "metadata": {},
   "outputs": [
    {
     "name": "stdout",
     "output_type": "stream",
     "text": [
      "<class 'pandas.core.frame.DataFrame'>\n",
      "RangeIndex: 3253 entries, 0 to 3252\n",
      "Data columns (total 13 columns):\n",
      " #   Column             Non-Null Count  Dtype  \n",
      "---  ------             --------------  -----  \n",
      " 0   id                 3253 non-null   int64  \n",
      " 1   release_date       3253 non-null   object \n",
      " 2   movie              3253 non-null   object \n",
      " 3   production_budget  3253 non-null   object \n",
      " 4   domestic_gross     3253 non-null   object \n",
      " 5   worldwide_gross    3253 non-null   object \n",
      " 6   movie_id           3253 non-null   object \n",
      " 7   person_id          3253 non-null   object \n",
      " 8   primary_name       3253 non-null   object \n",
      " 9   primary_title      3253 non-null   object \n",
      " 10  runtime_minutes    3118 non-null   float64\n",
      " 11  genres             3245 non-null   object \n",
      " 12  start_year         3253 non-null   int64  \n",
      "dtypes: float64(1), int64(2), object(10)\n",
      "memory usage: 330.5+ KB\n"
     ]
    }
   ],
   "source": [
    "combined_df.info()"
   ]
  },
  {
   "cell_type": "code",
   "execution_count": 3601,
   "metadata": {},
   "outputs": [
    {
     "data": {
      "text/plain": [
       "release_date\n",
       "Dec 31, 2014    22\n",
       "Aug 19, 2011    19\n",
       "Dec 31, 2012    17\n",
       "Jan 25, 2013    16\n",
       "Dec 31, 2015    15\n",
       "                ..\n",
       "Jan 21, 2011     1\n",
       "Nov 25, 1992     1\n",
       "Aug 10, 2011     1\n",
       "Jun 30, 2015     1\n",
       "Dec 31, 2018     1\n",
       "Name: count, Length: 1034, dtype: int64"
      ]
     },
     "execution_count": 3601,
     "metadata": {},
     "output_type": "execute_result"
    }
   ],
   "source": [
    "combined_df['release_date'].value_counts()"
   ]
  },
  {
   "cell_type": "code",
   "execution_count": 3602,
   "metadata": {},
   "outputs": [
    {
     "data": {
      "text/plain": [
       "movie\n",
       "home                       24\n",
       "the gift                   18\n",
       "brothers                   16\n",
       "hamlet                     16\n",
       "wonderland                 14\n",
       "                           ..\n",
       "straight outta compton      1\n",
       "unhinged                    1\n",
       "florence foster jenkins     1\n",
       "logan lucky                 1\n",
       "the perfect guy             1\n",
       "Name: count, Length: 2175, dtype: int64"
      ]
     },
     "execution_count": 3602,
     "metadata": {},
     "output_type": "execute_result"
    }
   ],
   "source": [
    "combined_df['movie'].value_counts()"
   ]
  },
  {
   "cell_type": "code",
   "execution_count": 3603,
   "metadata": {
    "scrolled": true
   },
   "outputs": [
    {
     "data": {
      "text/plain": [
       "genres\n",
       "Drama                         364\n",
       "Documentary                   150\n",
       "Comedy                        148\n",
       "Adventure,Animation,Comedy    116\n",
       "Comedy,Drama                   99\n",
       "                             ... \n",
       "Drama,Family,Music              1\n",
       "Comedy,Sport                    1\n",
       "Crime,Fantasy,Thriller          1\n",
       "Action,Comedy,Documentary       1\n",
       "Family,Sci-Fi                   1\n",
       "Name: count, Length: 312, dtype: int64"
      ]
     },
     "execution_count": 3603,
     "metadata": {},
     "output_type": "execute_result"
    }
   ],
   "source": [
    "combined_df['genres'].value_counts()"
   ]
  },
  {
   "cell_type": "code",
   "execution_count": null,
   "metadata": {},
   "outputs": [],
   "source": [
    "combined_df['primary_name'].value_counts()"
   ]
  },
  {
   "cell_type": "code",
   "execution_count": 3604,
   "metadata": {},
   "outputs": [
    {
     "data": {
      "text/plain": [
       "worldwide_gross\n",
       "$0              300\n",
       "$1,060,512       14\n",
       "$59,168,692      14\n",
       "$31,164,747      13\n",
       "$5,953,886       12\n",
       "               ... \n",
       "$289,632,023      1\n",
       "$70,958           1\n",
       "$357,687          1\n",
       "$21,621,188       1\n",
       "$4,584            1\n",
       "Name: count, Length: 2021, dtype: int64"
      ]
     },
     "execution_count": 3604,
     "metadata": {},
     "output_type": "execute_result"
    }
   ],
   "source": [
    "combined_df['worldwide_gross'].value_counts()"
   ]
  },
  {
   "cell_type": "code",
   "execution_count": 3605,
   "metadata": {},
   "outputs": [
    {
     "data": {
      "text/plain": [
       "primary_name\n",
       "David Gordon Green    9\n",
       "Steven Spielberg      7\n",
       "Steven Soderbergh     7\n",
       "Clint Eastwood        7\n",
       "Ridley Scott          7\n",
       "                     ..\n",
       "Todd Rodgers          1\n",
       "Kevin Cook            1\n",
       "Mark Steven Grove     1\n",
       "Aaron Seltzer         1\n",
       "Jordan Reyes          1\n",
       "Name: count, Length: 2444, dtype: int64"
      ]
     },
     "execution_count": 3605,
     "metadata": {},
     "output_type": "execute_result"
    }
   ],
   "source": [
    "combined_df['production_budget'].value_counts()"
   ]
  },
  {
   "cell_type": "code",
   "execution_count": null,
   "metadata": {},
   "outputs": [],
   "source": []
  },
  {
   "cell_type": "code",
   "execution_count": null,
   "metadata": {},
   "outputs": [],
   "source": []
  },
  {
   "cell_type": "code",
   "execution_count": null,
   "metadata": {},
   "outputs": [],
   "source": []
  },
  {
   "cell_type": "code",
   "execution_count": 3606,
   "metadata": {},
   "outputs": [],
   "source": [
    "combined_df['matching_year'] = combined_df['release_date'].apply(lambda x: x[-4:]).astype(float)"
   ]
  },
  {
   "cell_type": "code",
   "execution_count": 3607,
   "metadata": {},
   "outputs": [],
   "source": [
    "combined_df = combined_df[(combined_df['start_year'] == combined_df['matching_year'])]"
   ]
  },
  {
   "cell_type": "code",
   "execution_count": 3608,
   "metadata": {},
   "outputs": [],
   "source": [
    "dup_movie_budget = ['the tempest', 'let there be light', 'brothers', 'the darkness', 'phantom', 'a better life',\n",
    "                   'highway', 'after', 'cyrus', 'coco', 'the forest', 'the walk', 'weekend', 'the promise',\n",
    "                   'burlesque','leap year', 'hercules', 'underdogs']"
   ]
  },
  {
   "cell_type": "code",
   "execution_count": 3609,
   "metadata": {},
   "outputs": [],
   "source": [
    "combined_df = combined_df[~combined_df['movie'].isin(dup_movie_budget)]"
   ]
  },
  {
   "cell_type": "code",
   "execution_count": 3610,
   "metadata": {},
   "outputs": [],
   "source": [
    "#Will be removing other columns as we progress; create drop function for reusability\n",
    "def drop(cols,df):\n",
    "    '''Is going to take the column name and apply the drop function'''\n",
    "    for x in cols:\n",
    "        df.drop(columns=x, inplace=True)"
   ]
  },
  {
   "cell_type": "code",
   "execution_count": 3611,
   "metadata": {},
   "outputs": [],
   "source": [
    "drop(['id','primary_title', 'start_year', 'matching_year','domestic_gross', 'movie_id', 'person_id'], combined_df)\n"
   ]
  },
  {
   "cell_type": "code",
   "execution_count": 3612,
   "metadata": {},
   "outputs": [],
   "source": [
    "def money_values(lst):\n",
    "    for df in lst:\n",
    "        combined_df[df] = combined_df[df].apply(lambda x: re.sub(r'[^\\w\\s]', '', x))\n",
    "        combined_df[df] = combined_df[df].apply(int)"
   ]
  },
  {
   "cell_type": "code",
   "execution_count": 3613,
   "metadata": {},
   "outputs": [],
   "source": [
    "monetary_columns_lst = ['production_budget', 'worldwide_gross']"
   ]
  },
  {
   "cell_type": "code",
   "execution_count": 3614,
   "metadata": {},
   "outputs": [],
   "source": [
    "money_values(monetary_columns_lst)"
   ]
  },
  {
   "cell_type": "code",
   "execution_count": 3615,
   "metadata": {},
   "outputs": [],
   "source": [
    "combined_df['runtime_minutes'] = combined_df['runtime_minutes'].fillna(combined_df['runtime_minutes'].mean())"
   ]
  },
  {
   "cell_type": "code",
   "execution_count": 3616,
   "metadata": {},
   "outputs": [],
   "source": [
    "combined_df.reset_index(drop=True, inplace=True)"
   ]
  },
  {
   "cell_type": "code",
   "execution_count": 3617,
   "metadata": {},
   "outputs": [],
   "source": [
    "combined_df.loc[32,'genres'] = 'Action,Adventure'"
   ]
  },
  {
   "cell_type": "code",
   "execution_count": 3618,
   "metadata": {},
   "outputs": [],
   "source": [
    "combined_df.loc[517,'genres'] = 'Comedy,Action'"
   ]
  },
  {
   "cell_type": "code",
   "execution_count": 3619,
   "metadata": {},
   "outputs": [],
   "source": [
    "combined_df.loc[518,'genres'] = 'Comedy,Action'"
   ]
  },
  {
   "cell_type": "code",
   "execution_count": 3620,
   "metadata": {},
   "outputs": [],
   "source": [
    "combined_df = combined_df[combined_df['runtime_minutes']>30]"
   ]
  },
  {
   "cell_type": "code",
   "execution_count": 3621,
   "metadata": {},
   "outputs": [],
   "source": [
    "combined_df['month'] = combined_df['release_date'].apply(lambda x: x[:3])"
   ]
  },
  {
   "cell_type": "code",
   "execution_count": 3622,
   "metadata": {},
   "outputs": [],
   "source": [
    "drop(['release_date','runtime_minutes'],combined_df)"
   ]
  },
  {
   "cell_type": "code",
   "execution_count": 3623,
   "metadata": {},
   "outputs": [],
   "source": [
    "combined_df['gross_profit'] = combined_df.apply(lambda x: x['worldwide_gross'] - x['production_budget'], axis=1)"
   ]
  },
  {
   "cell_type": "code",
   "execution_count": 3624,
   "metadata": {},
   "outputs": [],
   "source": [
    "combined_df['gross_roi'] = combined_df.apply(lambda x: round((x['gross_profit'] / x['production_budget'])*100,2), \n",
    "                                             axis=1)"
   ]
  },
  {
   "cell_type": "markdown",
   "metadata": {},
   "source": []
  },
  {
   "cell_type": "code",
   "execution_count": 3625,
   "metadata": {},
   "outputs": [
    {
     "data": {
      "text/html": [
       "<div>\n",
       "<style scoped>\n",
       "    .dataframe tbody tr th:only-of-type {\n",
       "        vertical-align: middle;\n",
       "    }\n",
       "\n",
       "    .dataframe tbody tr th {\n",
       "        vertical-align: top;\n",
       "    }\n",
       "\n",
       "    .dataframe thead th {\n",
       "        text-align: right;\n",
       "    }\n",
       "</style>\n",
       "<table border=\"1\" class=\"dataframe\">\n",
       "  <thead>\n",
       "    <tr style=\"text-align: right;\">\n",
       "      <th></th>\n",
       "      <th>movie</th>\n",
       "      <th>production_budget</th>\n",
       "      <th>worldwide_gross</th>\n",
       "      <th>primary_name</th>\n",
       "      <th>genres</th>\n",
       "      <th>month</th>\n",
       "      <th>gross_profit</th>\n",
       "      <th>gross_roi</th>\n",
       "    </tr>\n",
       "  </thead>\n",
       "  <tbody>\n",
       "    <tr>\n",
       "      <th>0</th>\n",
       "      <td>pirates of the caribbean: on stranger tides</td>\n",
       "      <td>410600000</td>\n",
       "      <td>1045663875</td>\n",
       "      <td>Rob Marshall</td>\n",
       "      <td>Action,Adventure,Fantasy</td>\n",
       "      <td>May</td>\n",
       "      <td>635063875</td>\n",
       "      <td>154.67</td>\n",
       "    </tr>\n",
       "    <tr>\n",
       "      <th>1</th>\n",
       "      <td>dark phoenix</td>\n",
       "      <td>350000000</td>\n",
       "      <td>149762350</td>\n",
       "      <td>Simon Kinberg</td>\n",
       "      <td>Action,Adventure,Sci-Fi</td>\n",
       "      <td>Jun</td>\n",
       "      <td>-200237650</td>\n",
       "      <td>-57.21</td>\n",
       "    </tr>\n",
       "    <tr>\n",
       "      <th>2</th>\n",
       "      <td>avengers: age of ultron</td>\n",
       "      <td>330600000</td>\n",
       "      <td>1403013963</td>\n",
       "      <td>Joss Whedon</td>\n",
       "      <td>Action,Adventure,Sci-Fi</td>\n",
       "      <td>May</td>\n",
       "      <td>1072413963</td>\n",
       "      <td>324.38</td>\n",
       "    </tr>\n",
       "    <tr>\n",
       "      <th>3</th>\n",
       "      <td>avengers: infinity war</td>\n",
       "      <td>300000000</td>\n",
       "      <td>2048134200</td>\n",
       "      <td>Anthony Russo</td>\n",
       "      <td>Action,Adventure,Sci-Fi</td>\n",
       "      <td>Apr</td>\n",
       "      <td>1748134200</td>\n",
       "      <td>582.71</td>\n",
       "    </tr>\n",
       "    <tr>\n",
       "      <th>4</th>\n",
       "      <td>avengers: infinity war</td>\n",
       "      <td>300000000</td>\n",
       "      <td>2048134200</td>\n",
       "      <td>Joe Russo</td>\n",
       "      <td>Action,Adventure,Sci-Fi</td>\n",
       "      <td>Apr</td>\n",
       "      <td>1748134200</td>\n",
       "      <td>582.71</td>\n",
       "    </tr>\n",
       "  </tbody>\n",
       "</table>\n",
       "</div>"
      ],
      "text/plain": [
       "                                         movie  production_budget  \\\n",
       "0  pirates of the caribbean: on stranger tides          410600000   \n",
       "1                                 dark phoenix          350000000   \n",
       "2                      avengers: age of ultron          330600000   \n",
       "3                       avengers: infinity war          300000000   \n",
       "4                       avengers: infinity war          300000000   \n",
       "\n",
       "   worldwide_gross   primary_name                    genres month  \\\n",
       "0       1045663875   Rob Marshall  Action,Adventure,Fantasy   May   \n",
       "1        149762350  Simon Kinberg   Action,Adventure,Sci-Fi   Jun   \n",
       "2       1403013963    Joss Whedon   Action,Adventure,Sci-Fi   May   \n",
       "3       2048134200  Anthony Russo   Action,Adventure,Sci-Fi   Apr   \n",
       "4       2048134200      Joe Russo   Action,Adventure,Sci-Fi   Apr   \n",
       "\n",
       "   gross_profit  gross_roi  \n",
       "0     635063875     154.67  \n",
       "1    -200237650     -57.21  \n",
       "2    1072413963     324.38  \n",
       "3    1748134200     582.71  \n",
       "4    1748134200     582.71  "
      ]
     },
     "execution_count": 3625,
     "metadata": {},
     "output_type": "execute_result"
    }
   ],
   "source": [
    "combined_df.head()"
   ]
  },
  {
   "cell_type": "code",
   "execution_count": 3626,
   "metadata": {},
   "outputs": [
    {
     "name": "stdout",
     "output_type": "stream",
     "text": [
      "<class 'pandas.core.frame.DataFrame'>\n",
      "Index: 1656 entries, 0 to 1657\n",
      "Data columns (total 8 columns):\n",
      " #   Column             Non-Null Count  Dtype  \n",
      "---  ------             --------------  -----  \n",
      " 0   movie              1656 non-null   object \n",
      " 1   production_budget  1656 non-null   int64  \n",
      " 2   worldwide_gross    1656 non-null   int64  \n",
      " 3   primary_name       1656 non-null   object \n",
      " 4   genres             1654 non-null   object \n",
      " 5   month              1656 non-null   object \n",
      " 6   gross_profit       1656 non-null   int64  \n",
      " 7   gross_roi          1656 non-null   float64\n",
      "dtypes: float64(1), int64(3), object(4)\n",
      "memory usage: 116.4+ KB\n"
     ]
    }
   ],
   "source": [
    "combined_df.info()"
   ]
  },
  {
   "cell_type": "code",
   "execution_count": null,
   "metadata": {},
   "outputs": [],
   "source": []
  },
  {
   "cell_type": "code",
   "execution_count": null,
   "metadata": {},
   "outputs": [],
   "source": []
  },
  {
   "cell_type": "code",
   "execution_count": null,
   "metadata": {},
   "outputs": [],
   "source": []
  },
  {
   "cell_type": "code",
   "execution_count": null,
   "metadata": {},
   "outputs": [],
   "source": []
  },
  {
   "cell_type": "code",
   "execution_count": null,
   "metadata": {},
   "outputs": [],
   "source": []
  },
  {
   "cell_type": "code",
   "execution_count": 3627,
   "metadata": {},
   "outputs": [],
   "source": [
    "genre_df = combined_df[['movie','gross_roi', 'genres']]"
   ]
  },
  {
   "cell_type": "code",
   "execution_count": 3628,
   "metadata": {},
   "outputs": [],
   "source": [
    "genre_df = genre_df.drop_duplicates()"
   ]
  },
  {
   "cell_type": "code",
   "execution_count": 3629,
   "metadata": {},
   "outputs": [],
   "source": [
    "# https://datascience.stackexchange.com/questions/74277/extract-seperated-value-from-columns\n",
    "genre_df = genre_df.assign(genre1 = genre_df.genres.str.split(\",\", expand = True).iloc[:,:1],\n",
    "                           genre2 = genre_df.genres.str.split(\",\", expand = True).iloc[:,1:2],\n",
    "                           genre3 = genre_df.genres.str.split(\",\", expand = True).iloc[:,2:3])"
   ]
  },
  {
   "cell_type": "code",
   "execution_count": 3630,
   "metadata": {},
   "outputs": [],
   "source": [
    "drop(['genres'],genre_df)"
   ]
  },
  {
   "cell_type": "code",
   "execution_count": 3631,
   "metadata": {},
   "outputs": [],
   "source": [
    "lst_1 = list(genre_df['genre1'].unique())\n",
    "lst_2 = list(genre_df['genre2'].unique())\n",
    "lst_3 = list(genre_df['genre3'].unique())\n",
    "lst_1.extend(lst_2)\n",
    "lst_1.extend(lst_3)"
   ]
  },
  {
   "cell_type": "code",
   "execution_count": 3632,
   "metadata": {},
   "outputs": [],
   "source": [
    "genre_unique_lst = list(set(lst_1))\n",
    "genre_dict = dict([(x,[]) for x in genre_unique_lst])"
   ]
  },
  {
   "cell_type": "code",
   "execution_count": 3633,
   "metadata": {},
   "outputs": [],
   "source": [
    "for i in genre_df.index:\n",
    "    genre_dict[genre_df['genre1'][i]].append(genre_df['gross_roi'][i])\n",
    "    genre_dict[genre_df['genre2'][i]].append(genre_df['gross_roi'][i])\n",
    "    genre_dict[genre_df['genre3'][i]].append(genre_df['gross_roi'][i])"
   ]
  },
  {
   "cell_type": "code",
   "execution_count": 3634,
   "metadata": {},
   "outputs": [],
   "source": [
    "genre_dict = dict((k,round(statistics.median(v),2))for k,v in genre_dict.items())\n",
    "genre_dict = dict(sorted(genre_dict.items(), key=lambda item: item[1], reverse=True))"
   ]
  },
  {
   "cell_type": "code",
   "execution_count": 3635,
   "metadata": {},
   "outputs": [],
   "source": [
    "genre_roi_df = pd.DataFrame.from_dict(genre_dict.items())\n",
    "genre_roi_df.columns = ['genre','gross_roi']\n",
    "genre_roi_df = genre_roi_df.head()"
   ]
  },
  {
   "cell_type": "code",
   "execution_count": 3636,
   "metadata": {},
   "outputs": [],
   "source": [
    "genre_roi_df['gross_roi'] = genre_roi_df['gross_roi'].apply(lambda x: round(x))"
   ]
  },
  {
   "cell_type": "code",
   "execution_count": 3637,
   "metadata": {
    "scrolled": true
   },
   "outputs": [
    {
     "data": {
      "image/png": "[encoded data removed]",
      "text/plain": [
       "<Figure size 1008x576 with 1 Axes>"
      ]
     },
     "metadata": {
      "needs_background": "light"
     },
     "output_type": "display_data"
    }
   ],
   "source": [
    "plt.figure(figsize=(14, 8))\n",
    "\n",
    "ax1 = sns.barplot(x=\"genre\",  y='gross_roi', data=genre_roi_df, color='lightblue')\n",
    "\n",
    "\n",
    "# add legend\n",
    "bar = mpatches.Patch(color='lightblue', label='Median Gross ROI')\n",
    "plt.legend(handles=[bar])\n",
    "\n",
    "for index, row in genre_roi_df.iterrows():\n",
    "    ax1.text(row.name, row['gross_roi'], row['gross_roi'], color='black', ha=\"center\",\n",
    "             fontsize='x-large',va='bottom')\n",
    "\n",
    "# show the graph\n",
    "plt.title(\"Median Gross ROI by Genre\",fontsize=20)\n",
    "plt.xlabel('Genre',fontsize=19)\n",
    "plt.ylabel('Gross ROI Percentage',fontsize=19)\n",
    "plt.tick_params(axis='x',labelsize=18)\n",
    "plt.tick_params(axis='y',labelsize=18)\n",
    "plt.show()\n",
    "\n",
    "\n",
    "#Used stackoverflow example to see how to do the labeling on the bar graph as well as the legend.\n",
    "#(https://stackoverflow.com/questions/43214978/how-to-display-custom-values-on-a-bar-plot)\n",
    "#(https://stackoverflow.com/questions/65272126/seaborn-how-to-add-legend-to-seaborn-barplot)"
   ]
  },
  {
   "cell_type": "code",
   "execution_count": null,
   "metadata": {},
   "outputs": [],
   "source": []
  },
  {
   "cell_type": "code",
   "execution_count": null,
   "metadata": {},
   "outputs": [],
   "source": []
  },
  {
   "cell_type": "code",
   "execution_count": null,
   "metadata": {},
   "outputs": [],
   "source": []
  },
  {
   "cell_type": "code",
   "execution_count": null,
   "metadata": {},
   "outputs": [],
   "source": []
  },
  {
   "cell_type": "code",
   "execution_count": null,
   "metadata": {},
   "outputs": [],
   "source": []
  },
  {
   "cell_type": "code",
   "execution_count": null,
   "metadata": {},
   "outputs": [],
   "source": []
  },
  {
   "cell_type": "code",
   "execution_count": 3638,
   "metadata": {},
   "outputs": [],
   "source": [
    "month_df = combined_df[['movie', 'gross_roi', 'month']]"
   ]
  },
  {
   "cell_type": "code",
   "execution_count": 3639,
   "metadata": {},
   "outputs": [],
   "source": [
    "month_df = month_df.drop_duplicates()"
   ]
  },
  {
   "cell_type": "code",
   "execution_count": 3640,
   "metadata": {},
   "outputs": [],
   "source": [
    "month_roi_df = month_df.groupby('month')[['gross_roi']].median().reset_index()"
   ]
  },
  {
   "cell_type": "code",
   "execution_count": 3641,
   "metadata": {},
   "outputs": [],
   "source": [
    "month_roi_df = month_roi_df[['month','gross_roi']].sort_values(by='gross_roi',ascending=False).reset_index(\n",
    "                                                                                                drop=True).head()"
   ]
  },
  {
   "cell_type": "code",
   "execution_count": 3642,
   "metadata": {},
   "outputs": [],
   "source": [
    "month_roi_df['gross_roi'] = month_roi_df['gross_roi'].apply(lambda x: round(x))"
   ]
  },
  {
   "cell_type": "code",
   "execution_count": 3643,
   "metadata": {
    "scrolled": true
   },
   "outputs": [
    {
     "data": {
      "image/png": "[encoded data removed]",
      "text/plain": [
       "<Figure size 1008x576 with 1 Axes>"
      ]
     },
     "metadata": {
      "needs_background": "light"
     },
     "output_type": "display_data"
    }
   ],
   "source": [
    "plt.figure(figsize=(14, 8))\n",
    "\n",
    "ax1 = sns.barplot(x=\"month\",  y='gross_roi', data=month_roi_df, color='lightblue')\n",
    "\n",
    "\n",
    "# add legend\n",
    "bar = mpatches.Patch(color='lightblue', label='Median Gross ROI')\n",
    "plt.legend(handles=[bar])\n",
    "\n",
    "for index, row in month_roi_df.iterrows():\n",
    "    ax1.text(row.name, row['gross_roi'], row['gross_roi'], color='black', ha=\"center\",\n",
    "             fontsize='x-large',va='bottom')\n",
    "\n",
    "# show the graph\n",
    "plt.title(\"Median Gross ROI by Month\",fontsize=20)\n",
    "plt.xlabel('Month',fontsize=19)\n",
    "plt.ylabel('Gross ROI Percentage',fontsize=19)\n",
    "plt.tick_params(axis='x',labelsize=18)\n",
    "plt.tick_params(axis='y',labelsize=18)\n",
    "plt.show()\n",
    "\n",
    "\n",
    "#Used stackoverflow example to see how to do the labeling on the bar graph as well as the legend.\n",
    "#(https://stackoverflow.com/questions/43214978/how-to-display-custom-values-on-a-bar-plot)\n",
    "#(https://stackoverflow.com/questions/65272126/seaborn-how-to-add-legend-to-seaborn-barplot)"
   ]
  },
  {
   "cell_type": "code",
   "execution_count": null,
   "metadata": {},
   "outputs": [],
   "source": []
  },
  {
   "cell_type": "code",
   "execution_count": null,
   "metadata": {},
   "outputs": [],
   "source": []
  },
  {
   "cell_type": "code",
   "execution_count": null,
   "metadata": {},
   "outputs": [],
   "source": []
  },
  {
   "cell_type": "code",
   "execution_count": null,
   "metadata": {},
   "outputs": [],
   "source": []
  },
  {
   "cell_type": "code",
   "execution_count": null,
   "metadata": {},
   "outputs": [],
   "source": []
  },
  {
   "cell_type": "code",
   "execution_count": null,
   "metadata": {},
   "outputs": [],
   "source": []
  },
  {
   "cell_type": "code",
   "execution_count": 3644,
   "metadata": {},
   "outputs": [],
   "source": [
    "director_roi_df = combined_df[['movie','primary_name','gross_roi']]"
   ]
  },
  {
   "cell_type": "code",
   "execution_count": 3645,
   "metadata": {},
   "outputs": [],
   "source": [
    "director_roi_df = director_roi_df.groupby('primary_name')[['gross_roi', 'movie']].agg({'gross_roi':'median',\n",
    "                                                                                       'movie':'count'}).\n",
    "                                                                                        sort_values(by='gross_roi',\n",
    "                                                                                        ascending=False)"
   ]
  },
  {
   "cell_type": "code",
   "execution_count": 3647,
   "metadata": {},
   "outputs": [],
   "source": [
    "director_roi_df = director_roi_df[director_roi_df['movie']>=5].head(10).reset_index()"
   ]
  },
  {
   "cell_type": "code",
   "execution_count": 3648,
   "metadata": {},
   "outputs": [],
   "source": [
    "director_roi_df['gross_roi'] = director_roi_df['gross_roi'].apply(lambda x: round(x))"
   ]
  },
  {
   "cell_type": "code",
   "execution_count": 3649,
   "metadata": {},
   "outputs": [
    {
     "data": {
      "image/png": "[encoded data removed]",
      "text/plain": [
       "<Figure size 1008x432 with 1 Axes>"
      ]
     },
     "metadata": {
      "needs_background": "light"
     },
     "output_type": "display_data"
    }
   ],
   "source": [
    "plt.figure(figsize=(14, 6))\n",
    "\n",
    "ax1 = sns.barplot(x=\"gross_roi\",  y='primary_name', data=director_roi_df, color='lightblue')\n",
    "\n",
    "ax1.bar_label(ax1.containers[0],size=14)\n",
    "# show the graph\n",
    "\n",
    "plt.title('Median Gross ROI by Director',fontsize=20)\n",
    "plt.xlabel('ROI Percentage',fontsize=18)\n",
    "plt.ylabel('Directors',fontsize=18)\n",
    "plt.tick_params(axis='y',labelsize=15)\n",
    "plt.tick_params(axis='x',labelsize=15)\n",
    "plt.show()\n",
    "\n",
    "#Another way to do bar label that i learned about on stackoverflow.\n",
    "#(https://stackoverflow.com/questions/49820549/labeling-horizontal-barplot-with-values-in-seaborn)"
   ]
  },
  {
   "cell_type": "markdown",
   "metadata": {},
   "source": [
    "# Exploratory Analysis"
   ]
  },
  {
   "cell_type": "code",
   "execution_count": null,
   "metadata": {},
   "outputs": [],
   "source": []
  },
  {
   "cell_type": "code",
   "execution_count": null,
   "metadata": {},
   "outputs": [],
   "source": []
  },
  {
   "cell_type": "code",
   "execution_count": null,
   "metadata": {},
   "outputs": [],
   "source": []
  },
  {
   "cell_type": "code",
   "execution_count": null,
   "metadata": {},
   "outputs": [],
   "source": []
  },
  {
   "cell_type": "code",
   "execution_count": null,
   "metadata": {},
   "outputs": [],
   "source": []
  },
  {
   "cell_type": "markdown",
   "metadata": {},
   "source": []
  },
  {
   "cell_type": "code",
   "execution_count": null,
   "metadata": {},
   "outputs": [],
   "source": []
  },
  {
   "cell_type": "markdown",
   "metadata": {},
   "source": [
    "# Conclusions"
   ]
  },
  {
   "cell_type": "markdown",
   "metadata": {},
   "source": []
  },
  {
   "cell_type": "markdown",
   "metadata": {},
   "source": [
    "## Limitations"
   ]
  },
  {
   "cell_type": "markdown",
   "metadata": {},
   "source": []
  },
  {
   "cell_type": "markdown",
   "metadata": {},
   "source": [
    "## Recommendations"
   ]
  },
  {
   "cell_type": "markdown",
   "metadata": {},
   "source": []
  },
  {
   "cell_type": "markdown",
   "metadata": {},
   "source": [
    "## Next Steps"
   ]
  },
  {
   "cell_type": "markdown",
   "metadata": {},
   "source": []
  }
 ],
 "metadata": {
  "kernelspec": {
   "display_name": "Python (learn-env)",
   "language": "python",
   "name": "learn-env"
  },
  "language_info": {
   "codemirror_mode": {
    "name": "ipython",
    "version": 3
   },
   "file_extension": ".py",
   "mimetype": "text/x-python",
   "name": "python",
   "nbconvert_exporter": "python",
   "pygments_lexer": "ipython3",
   "version": "3.8.5"
  }
 },
 "nbformat": 4,
 "nbformat_minor": 4
}
