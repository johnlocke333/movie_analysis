{
 "cells": [
  {
   "cell_type": "markdown",
   "metadata": {},
   "source": []
  },
  {
   "cell_type": "markdown",
   "metadata": {},
   "source": []
  },
  {
   "cell_type": "markdown",
   "metadata": {},
   "source": [
    "# Overview"
   ]
  },
  {
   "cell_type": "code",
   "execution_count": null,
   "metadata": {},
   "outputs": [],
   "source": []
  },
  {
   "cell_type": "markdown",
   "metadata": {},
   "source": [
    "# Business Understanding"
   ]
  },
  {
   "cell_type": "markdown",
   "metadata": {},
   "source": []
  },
  {
   "cell_type": "markdown",
   "metadata": {},
   "source": [
    "# Data Understanding"
   ]
  },
  {
   "cell_type": "markdown",
   "metadata": {},
   "source": []
  },
  {
   "cell_type": "markdown",
   "metadata": {},
   "source": [
    "## Data Preparation"
   ]
  },
  {
   "cell_type": "markdown",
   "metadata": {},
   "source": []
  },
  {
   "cell_type": "code",
   "execution_count": 1427,
   "metadata": {},
   "outputs": [],
   "source": [
    "import pandas as pd\n",
    "import sqlite3\n",
    "import matplotlib.pyplot as plt\n",
    "import seaborn as sns\n",
    "%matplotlib inline\n",
    "import re\n",
    "import matplotlib.patches as mpatches"
   ]
  },
  {
   "cell_type": "code",
   "execution_count": null,
   "metadata": {},
   "outputs": [],
   "source": []
  },
  {
   "cell_type": "code",
   "execution_count": null,
   "metadata": {},
   "outputs": [],
   "source": []
  },
  {
   "cell_type": "code",
   "execution_count": 1329,
   "metadata": {
    "scrolled": false
   },
   "outputs": [
    {
     "data": {
      "text/html": [
       "<div>\n",
       "<style scoped>\n",
       "    .dataframe tbody tr th:only-of-type {\n",
       "        vertical-align: middle;\n",
       "    }\n",
       "\n",
       "    .dataframe tbody tr th {\n",
       "        vertical-align: top;\n",
       "    }\n",
       "\n",
       "    .dataframe thead th {\n",
       "        text-align: right;\n",
       "    }\n",
       "</style>\n",
       "<table border=\"1\" class=\"dataframe\">\n",
       "  <thead>\n",
       "    <tr style=\"text-align: right;\">\n",
       "      <th></th>\n",
       "      <th>primary_title</th>\n",
       "      <th>runtime_minutes</th>\n",
       "      <th>genres</th>\n",
       "      <th>averagerating</th>\n",
       "      <th>numvotes</th>\n",
       "      <th>start_year</th>\n",
       "    </tr>\n",
       "  </thead>\n",
       "  <tbody>\n",
       "    <tr>\n",
       "      <th>0</th>\n",
       "      <td>Sunghursh</td>\n",
       "      <td>175.0</td>\n",
       "      <td>Action,Crime,Drama</td>\n",
       "      <td>7.0</td>\n",
       "      <td>77</td>\n",
       "      <td>2013</td>\n",
       "    </tr>\n",
       "    <tr>\n",
       "      <th>1</th>\n",
       "      <td>One Day Before the Rainy Season</td>\n",
       "      <td>114.0</td>\n",
       "      <td>Biography,Drama</td>\n",
       "      <td>7.2</td>\n",
       "      <td>43</td>\n",
       "      <td>2019</td>\n",
       "    </tr>\n",
       "    <tr>\n",
       "      <th>2</th>\n",
       "      <td>The Other Side of the Wind</td>\n",
       "      <td>122.0</td>\n",
       "      <td>Drama</td>\n",
       "      <td>6.9</td>\n",
       "      <td>4517</td>\n",
       "      <td>2018</td>\n",
       "    </tr>\n",
       "    <tr>\n",
       "      <th>3</th>\n",
       "      <td>Sabse Bada Sukh</td>\n",
       "      <td>NaN</td>\n",
       "      <td>Comedy,Drama</td>\n",
       "      <td>6.1</td>\n",
       "      <td>13</td>\n",
       "      <td>2018</td>\n",
       "    </tr>\n",
       "    <tr>\n",
       "      <th>4</th>\n",
       "      <td>The Wandering Soap Opera</td>\n",
       "      <td>80.0</td>\n",
       "      <td>Comedy,Drama,Fantasy</td>\n",
       "      <td>6.5</td>\n",
       "      <td>119</td>\n",
       "      <td>2017</td>\n",
       "    </tr>\n",
       "  </tbody>\n",
       "</table>\n",
       "</div>"
      ],
      "text/plain": [
       "                     primary_title  runtime_minutes                genres  \\\n",
       "0                        Sunghursh            175.0    Action,Crime,Drama   \n",
       "1  One Day Before the Rainy Season            114.0       Biography,Drama   \n",
       "2       The Other Side of the Wind            122.0                 Drama   \n",
       "3                  Sabse Bada Sukh              NaN          Comedy,Drama   \n",
       "4         The Wandering Soap Opera             80.0  Comedy,Drama,Fantasy   \n",
       "\n",
       "   averagerating  numvotes  start_year  \n",
       "0            7.0        77        2013  \n",
       "1            7.2        43        2019  \n",
       "2            6.9      4517        2018  \n",
       "3            6.1        13        2018  \n",
       "4            6.5       119        2017  "
      ]
     },
     "execution_count": 1329,
     "metadata": {},
     "output_type": "execute_result"
    }
   ],
   "source": [
    "conn = sqlite3.Connection('data/im.db')\n",
    "imdb_df = pd.read_sql(\"\"\"\n",
    "\n",
    "SELECT primary_title, runtime_minutes, genres, averagerating, numvotes, start_year\n",
    "FROM movie_basics\n",
    "JOIN movie_ratings\n",
    "USING(movie_id)\n",
    "\n",
    ";\"\"\",conn)\n",
    "imdb_df.head()"
   ]
  },
  {
   "cell_type": "code",
   "execution_count": 1330,
   "metadata": {},
   "outputs": [],
   "source": [
    "imdb_df['primary_title'] = imdb_df['primary_title'].apply(lambda x: x.lower())"
   ]
  },
  {
   "cell_type": "code",
   "execution_count": 1331,
   "metadata": {},
   "outputs": [
    {
     "data": {
      "text/html": [
       "<div>\n",
       "<style scoped>\n",
       "    .dataframe tbody tr th:only-of-type {\n",
       "        vertical-align: middle;\n",
       "    }\n",
       "\n",
       "    .dataframe tbody tr th {\n",
       "        vertical-align: top;\n",
       "    }\n",
       "\n",
       "    .dataframe thead th {\n",
       "        text-align: right;\n",
       "    }\n",
       "</style>\n",
       "<table border=\"1\" class=\"dataframe\">\n",
       "  <thead>\n",
       "    <tr style=\"text-align: right;\">\n",
       "      <th></th>\n",
       "      <th>primary_title</th>\n",
       "      <th>runtime_minutes</th>\n",
       "      <th>genres</th>\n",
       "      <th>averagerating</th>\n",
       "      <th>numvotes</th>\n",
       "      <th>start_year</th>\n",
       "    </tr>\n",
       "  </thead>\n",
       "  <tbody>\n",
       "    <tr>\n",
       "      <th>0</th>\n",
       "      <td>sunghursh</td>\n",
       "      <td>175.0</td>\n",
       "      <td>Action,Crime,Drama</td>\n",
       "      <td>7.0</td>\n",
       "      <td>77</td>\n",
       "      <td>2013</td>\n",
       "    </tr>\n",
       "    <tr>\n",
       "      <th>1</th>\n",
       "      <td>one day before the rainy season</td>\n",
       "      <td>114.0</td>\n",
       "      <td>Biography,Drama</td>\n",
       "      <td>7.2</td>\n",
       "      <td>43</td>\n",
       "      <td>2019</td>\n",
       "    </tr>\n",
       "    <tr>\n",
       "      <th>2</th>\n",
       "      <td>the other side of the wind</td>\n",
       "      <td>122.0</td>\n",
       "      <td>Drama</td>\n",
       "      <td>6.9</td>\n",
       "      <td>4517</td>\n",
       "      <td>2018</td>\n",
       "    </tr>\n",
       "    <tr>\n",
       "      <th>3</th>\n",
       "      <td>sabse bada sukh</td>\n",
       "      <td>NaN</td>\n",
       "      <td>Comedy,Drama</td>\n",
       "      <td>6.1</td>\n",
       "      <td>13</td>\n",
       "      <td>2018</td>\n",
       "    </tr>\n",
       "    <tr>\n",
       "      <th>4</th>\n",
       "      <td>the wandering soap opera</td>\n",
       "      <td>80.0</td>\n",
       "      <td>Comedy,Drama,Fantasy</td>\n",
       "      <td>6.5</td>\n",
       "      <td>119</td>\n",
       "      <td>2017</td>\n",
       "    </tr>\n",
       "  </tbody>\n",
       "</table>\n",
       "</div>"
      ],
      "text/plain": [
       "                     primary_title  runtime_minutes                genres  \\\n",
       "0                        sunghursh            175.0    Action,Crime,Drama   \n",
       "1  one day before the rainy season            114.0       Biography,Drama   \n",
       "2       the other side of the wind            122.0                 Drama   \n",
       "3                  sabse bada sukh              NaN          Comedy,Drama   \n",
       "4         the wandering soap opera             80.0  Comedy,Drama,Fantasy   \n",
       "\n",
       "   averagerating  numvotes  start_year  \n",
       "0            7.0        77        2013  \n",
       "1            7.2        43        2019  \n",
       "2            6.9      4517        2018  \n",
       "3            6.1        13        2018  \n",
       "4            6.5       119        2017  "
      ]
     },
     "execution_count": 1331,
     "metadata": {},
     "output_type": "execute_result"
    }
   ],
   "source": [
    "imdb_df.head()"
   ]
  },
  {
   "cell_type": "code",
   "execution_count": null,
   "metadata": {},
   "outputs": [],
   "source": []
  },
  {
   "cell_type": "code",
   "execution_count": 1332,
   "metadata": {
    "scrolled": false
   },
   "outputs": [
    {
     "data": {
      "text/html": [
       "<div>\n",
       "<style scoped>\n",
       "    .dataframe tbody tr th:only-of-type {\n",
       "        vertical-align: middle;\n",
       "    }\n",
       "\n",
       "    .dataframe tbody tr th {\n",
       "        vertical-align: top;\n",
       "    }\n",
       "\n",
       "    .dataframe thead th {\n",
       "        text-align: right;\n",
       "    }\n",
       "</style>\n",
       "<table border=\"1\" class=\"dataframe\">\n",
       "  <thead>\n",
       "    <tr style=\"text-align: right;\">\n",
       "      <th></th>\n",
       "      <th>id</th>\n",
       "      <th>release_date</th>\n",
       "      <th>movie</th>\n",
       "      <th>production_budget</th>\n",
       "      <th>domestic_gross</th>\n",
       "      <th>worldwide_gross</th>\n",
       "    </tr>\n",
       "  </thead>\n",
       "  <tbody>\n",
       "    <tr>\n",
       "      <th>0</th>\n",
       "      <td>1</td>\n",
       "      <td>Dec 18, 2009</td>\n",
       "      <td>Avatar</td>\n",
       "      <td>$425,000,000</td>\n",
       "      <td>$760,507,625</td>\n",
       "      <td>$2,776,345,279</td>\n",
       "    </tr>\n",
       "    <tr>\n",
       "      <th>1</th>\n",
       "      <td>2</td>\n",
       "      <td>May 20, 2011</td>\n",
       "      <td>Pirates of the Caribbean: On Stranger Tides</td>\n",
       "      <td>$410,600,000</td>\n",
       "      <td>$241,063,875</td>\n",
       "      <td>$1,045,663,875</td>\n",
       "    </tr>\n",
       "    <tr>\n",
       "      <th>2</th>\n",
       "      <td>3</td>\n",
       "      <td>Jun 7, 2019</td>\n",
       "      <td>Dark Phoenix</td>\n",
       "      <td>$350,000,000</td>\n",
       "      <td>$42,762,350</td>\n",
       "      <td>$149,762,350</td>\n",
       "    </tr>\n",
       "    <tr>\n",
       "      <th>3</th>\n",
       "      <td>4</td>\n",
       "      <td>May 1, 2015</td>\n",
       "      <td>Avengers: Age of Ultron</td>\n",
       "      <td>$330,600,000</td>\n",
       "      <td>$459,005,868</td>\n",
       "      <td>$1,403,013,963</td>\n",
       "    </tr>\n",
       "    <tr>\n",
       "      <th>4</th>\n",
       "      <td>5</td>\n",
       "      <td>Dec 15, 2017</td>\n",
       "      <td>Star Wars Ep. VIII: The Last Jedi</td>\n",
       "      <td>$317,000,000</td>\n",
       "      <td>$620,181,382</td>\n",
       "      <td>$1,316,721,747</td>\n",
       "    </tr>\n",
       "  </tbody>\n",
       "</table>\n",
       "</div>"
      ],
      "text/plain": [
       "   id  release_date                                        movie  \\\n",
       "0   1  Dec 18, 2009                                       Avatar   \n",
       "1   2  May 20, 2011  Pirates of the Caribbean: On Stranger Tides   \n",
       "2   3   Jun 7, 2019                                 Dark Phoenix   \n",
       "3   4   May 1, 2015                      Avengers: Age of Ultron   \n",
       "4   5  Dec 15, 2017            Star Wars Ep. VIII: The Last Jedi   \n",
       "\n",
       "  production_budget domestic_gross worldwide_gross  \n",
       "0      $425,000,000   $760,507,625  $2,776,345,279  \n",
       "1      $410,600,000   $241,063,875  $1,045,663,875  \n",
       "2      $350,000,000    $42,762,350    $149,762,350  \n",
       "3      $330,600,000   $459,005,868  $1,403,013,963  \n",
       "4      $317,000,000   $620,181,382  $1,316,721,747  "
      ]
     },
     "execution_count": 1332,
     "metadata": {},
     "output_type": "execute_result"
    }
   ],
   "source": [
    "tn_df = pd.read_csv('data/tn.movie_budgets.csv.gz')\n",
    "tn_df.head()"
   ]
  },
  {
   "cell_type": "code",
   "execution_count": 1333,
   "metadata": {},
   "outputs": [],
   "source": [
    "tn_df['movie'] = tn_df['movie'].apply(lambda x: x.lower())"
   ]
  },
  {
   "cell_type": "code",
   "execution_count": 1334,
   "metadata": {},
   "outputs": [
    {
     "data": {
      "text/html": [
       "<div>\n",
       "<style scoped>\n",
       "    .dataframe tbody tr th:only-of-type {\n",
       "        vertical-align: middle;\n",
       "    }\n",
       "\n",
       "    .dataframe tbody tr th {\n",
       "        vertical-align: top;\n",
       "    }\n",
       "\n",
       "    .dataframe thead th {\n",
       "        text-align: right;\n",
       "    }\n",
       "</style>\n",
       "<table border=\"1\" class=\"dataframe\">\n",
       "  <thead>\n",
       "    <tr style=\"text-align: right;\">\n",
       "      <th></th>\n",
       "      <th>id</th>\n",
       "      <th>release_date</th>\n",
       "      <th>movie</th>\n",
       "      <th>production_budget</th>\n",
       "      <th>domestic_gross</th>\n",
       "      <th>worldwide_gross</th>\n",
       "    </tr>\n",
       "  </thead>\n",
       "  <tbody>\n",
       "    <tr>\n",
       "      <th>0</th>\n",
       "      <td>1</td>\n",
       "      <td>Dec 18, 2009</td>\n",
       "      <td>avatar</td>\n",
       "      <td>$425,000,000</td>\n",
       "      <td>$760,507,625</td>\n",
       "      <td>$2,776,345,279</td>\n",
       "    </tr>\n",
       "    <tr>\n",
       "      <th>1</th>\n",
       "      <td>2</td>\n",
       "      <td>May 20, 2011</td>\n",
       "      <td>pirates of the caribbean: on stranger tides</td>\n",
       "      <td>$410,600,000</td>\n",
       "      <td>$241,063,875</td>\n",
       "      <td>$1,045,663,875</td>\n",
       "    </tr>\n",
       "    <tr>\n",
       "      <th>2</th>\n",
       "      <td>3</td>\n",
       "      <td>Jun 7, 2019</td>\n",
       "      <td>dark phoenix</td>\n",
       "      <td>$350,000,000</td>\n",
       "      <td>$42,762,350</td>\n",
       "      <td>$149,762,350</td>\n",
       "    </tr>\n",
       "    <tr>\n",
       "      <th>3</th>\n",
       "      <td>4</td>\n",
       "      <td>May 1, 2015</td>\n",
       "      <td>avengers: age of ultron</td>\n",
       "      <td>$330,600,000</td>\n",
       "      <td>$459,005,868</td>\n",
       "      <td>$1,403,013,963</td>\n",
       "    </tr>\n",
       "    <tr>\n",
       "      <th>4</th>\n",
       "      <td>5</td>\n",
       "      <td>Dec 15, 2017</td>\n",
       "      <td>star wars ep. viii: the last jedi</td>\n",
       "      <td>$317,000,000</td>\n",
       "      <td>$620,181,382</td>\n",
       "      <td>$1,316,721,747</td>\n",
       "    </tr>\n",
       "  </tbody>\n",
       "</table>\n",
       "</div>"
      ],
      "text/plain": [
       "   id  release_date                                        movie  \\\n",
       "0   1  Dec 18, 2009                                       avatar   \n",
       "1   2  May 20, 2011  pirates of the caribbean: on stranger tides   \n",
       "2   3   Jun 7, 2019                                 dark phoenix   \n",
       "3   4   May 1, 2015                      avengers: age of ultron   \n",
       "4   5  Dec 15, 2017            star wars ep. viii: the last jedi   \n",
       "\n",
       "  production_budget domestic_gross worldwide_gross  \n",
       "0      $425,000,000   $760,507,625  $2,776,345,279  \n",
       "1      $410,600,000   $241,063,875  $1,045,663,875  \n",
       "2      $350,000,000    $42,762,350    $149,762,350  \n",
       "3      $330,600,000   $459,005,868  $1,403,013,963  \n",
       "4      $317,000,000   $620,181,382  $1,316,721,747  "
      ]
     },
     "execution_count": 1334,
     "metadata": {},
     "output_type": "execute_result"
    }
   ],
   "source": [
    "tn_df.head()"
   ]
  },
  {
   "cell_type": "code",
   "execution_count": null,
   "metadata": {},
   "outputs": [],
   "source": []
  },
  {
   "cell_type": "code",
   "execution_count": null,
   "metadata": {},
   "outputs": [],
   "source": []
  },
  {
   "cell_type": "code",
   "execution_count": 1335,
   "metadata": {},
   "outputs": [],
   "source": [
    "combined_df = tn_df.merge(imdb_df, left_on='movie', right_on='primary_title', how = 'inner')"
   ]
  },
  {
   "cell_type": "code",
   "execution_count": 1336,
   "metadata": {},
   "outputs": [
    {
     "data": {
      "text/html": [
       "<div>\n",
       "<style scoped>\n",
       "    .dataframe tbody tr th:only-of-type {\n",
       "        vertical-align: middle;\n",
       "    }\n",
       "\n",
       "    .dataframe tbody tr th {\n",
       "        vertical-align: top;\n",
       "    }\n",
       "\n",
       "    .dataframe thead th {\n",
       "        text-align: right;\n",
       "    }\n",
       "</style>\n",
       "<table border=\"1\" class=\"dataframe\">\n",
       "  <thead>\n",
       "    <tr style=\"text-align: right;\">\n",
       "      <th></th>\n",
       "      <th>id</th>\n",
       "      <th>release_date</th>\n",
       "      <th>movie</th>\n",
       "      <th>production_budget</th>\n",
       "      <th>domestic_gross</th>\n",
       "      <th>worldwide_gross</th>\n",
       "      <th>primary_title</th>\n",
       "      <th>runtime_minutes</th>\n",
       "      <th>genres</th>\n",
       "      <th>averagerating</th>\n",
       "      <th>numvotes</th>\n",
       "      <th>start_year</th>\n",
       "    </tr>\n",
       "  </thead>\n",
       "  <tbody>\n",
       "    <tr>\n",
       "      <th>0</th>\n",
       "      <td>1</td>\n",
       "      <td>Dec 18, 2009</td>\n",
       "      <td>avatar</td>\n",
       "      <td>$425,000,000</td>\n",
       "      <td>$760,507,625</td>\n",
       "      <td>$2,776,345,279</td>\n",
       "      <td>avatar</td>\n",
       "      <td>93.0</td>\n",
       "      <td>Horror</td>\n",
       "      <td>6.1</td>\n",
       "      <td>43</td>\n",
       "      <td>2011</td>\n",
       "    </tr>\n",
       "    <tr>\n",
       "      <th>1</th>\n",
       "      <td>2</td>\n",
       "      <td>May 20, 2011</td>\n",
       "      <td>pirates of the caribbean: on stranger tides</td>\n",
       "      <td>$410,600,000</td>\n",
       "      <td>$241,063,875</td>\n",
       "      <td>$1,045,663,875</td>\n",
       "      <td>pirates of the caribbean: on stranger tides</td>\n",
       "      <td>136.0</td>\n",
       "      <td>Action,Adventure,Fantasy</td>\n",
       "      <td>6.6</td>\n",
       "      <td>447624</td>\n",
       "      <td>2011</td>\n",
       "    </tr>\n",
       "    <tr>\n",
       "      <th>2</th>\n",
       "      <td>3</td>\n",
       "      <td>Jun 7, 2019</td>\n",
       "      <td>dark phoenix</td>\n",
       "      <td>$350,000,000</td>\n",
       "      <td>$42,762,350</td>\n",
       "      <td>$149,762,350</td>\n",
       "      <td>dark phoenix</td>\n",
       "      <td>113.0</td>\n",
       "      <td>Action,Adventure,Sci-Fi</td>\n",
       "      <td>6.0</td>\n",
       "      <td>24451</td>\n",
       "      <td>2019</td>\n",
       "    </tr>\n",
       "    <tr>\n",
       "      <th>3</th>\n",
       "      <td>4</td>\n",
       "      <td>May 1, 2015</td>\n",
       "      <td>avengers: age of ultron</td>\n",
       "      <td>$330,600,000</td>\n",
       "      <td>$459,005,868</td>\n",
       "      <td>$1,403,013,963</td>\n",
       "      <td>avengers: age of ultron</td>\n",
       "      <td>141.0</td>\n",
       "      <td>Action,Adventure,Sci-Fi</td>\n",
       "      <td>7.3</td>\n",
       "      <td>665594</td>\n",
       "      <td>2015</td>\n",
       "    </tr>\n",
       "    <tr>\n",
       "      <th>4</th>\n",
       "      <td>7</td>\n",
       "      <td>Apr 27, 2018</td>\n",
       "      <td>avengers: infinity war</td>\n",
       "      <td>$300,000,000</td>\n",
       "      <td>$678,815,482</td>\n",
       "      <td>$2,048,134,200</td>\n",
       "      <td>avengers: infinity war</td>\n",
       "      <td>149.0</td>\n",
       "      <td>Action,Adventure,Sci-Fi</td>\n",
       "      <td>8.5</td>\n",
       "      <td>670926</td>\n",
       "      <td>2018</td>\n",
       "    </tr>\n",
       "    <tr>\n",
       "      <th>...</th>\n",
       "      <td>...</td>\n",
       "      <td>...</td>\n",
       "      <td>...</td>\n",
       "      <td>...</td>\n",
       "      <td>...</td>\n",
       "      <td>...</td>\n",
       "      <td>...</td>\n",
       "      <td>...</td>\n",
       "      <td>...</td>\n",
       "      <td>...</td>\n",
       "      <td>...</td>\n",
       "      <td>...</td>\n",
       "    </tr>\n",
       "    <tr>\n",
       "      <th>2930</th>\n",
       "      <td>62</td>\n",
       "      <td>Dec 31, 2014</td>\n",
       "      <td>stories of our lives</td>\n",
       "      <td>$15,000</td>\n",
       "      <td>$0</td>\n",
       "      <td>$0</td>\n",
       "      <td>stories of our lives</td>\n",
       "      <td>60.0</td>\n",
       "      <td>Drama</td>\n",
       "      <td>7.5</td>\n",
       "      <td>85</td>\n",
       "      <td>2014</td>\n",
       "    </tr>\n",
       "    <tr>\n",
       "      <th>2931</th>\n",
       "      <td>68</td>\n",
       "      <td>Jul 6, 2001</td>\n",
       "      <td>cure</td>\n",
       "      <td>$10,000</td>\n",
       "      <td>$94,596</td>\n",
       "      <td>$94,596</td>\n",
       "      <td>cure</td>\n",
       "      <td>93.0</td>\n",
       "      <td>Drama</td>\n",
       "      <td>4.9</td>\n",
       "      <td>11</td>\n",
       "      <td>2011</td>\n",
       "    </tr>\n",
       "    <tr>\n",
       "      <th>2932</th>\n",
       "      <td>73</td>\n",
       "      <td>Jan 13, 2012</td>\n",
       "      <td>newlyweds</td>\n",
       "      <td>$9,000</td>\n",
       "      <td>$4,584</td>\n",
       "      <td>$4,584</td>\n",
       "      <td>newlyweds</td>\n",
       "      <td>95.0</td>\n",
       "      <td>Comedy,Drama</td>\n",
       "      <td>6.4</td>\n",
       "      <td>1436</td>\n",
       "      <td>2011</td>\n",
       "    </tr>\n",
       "    <tr>\n",
       "      <th>2933</th>\n",
       "      <td>78</td>\n",
       "      <td>Dec 31, 2018</td>\n",
       "      <td>red 11</td>\n",
       "      <td>$7,000</td>\n",
       "      <td>$0</td>\n",
       "      <td>$0</td>\n",
       "      <td>red 11</td>\n",
       "      <td>77.0</td>\n",
       "      <td>Horror,Sci-Fi,Thriller</td>\n",
       "      <td>5.6</td>\n",
       "      <td>43</td>\n",
       "      <td>2019</td>\n",
       "    </tr>\n",
       "    <tr>\n",
       "      <th>2934</th>\n",
       "      <td>81</td>\n",
       "      <td>Sep 29, 2015</td>\n",
       "      <td>a plague so pleasant</td>\n",
       "      <td>$1,400</td>\n",
       "      <td>$0</td>\n",
       "      <td>$0</td>\n",
       "      <td>a plague so pleasant</td>\n",
       "      <td>76.0</td>\n",
       "      <td>Drama,Horror,Thriller</td>\n",
       "      <td>5.4</td>\n",
       "      <td>72</td>\n",
       "      <td>2013</td>\n",
       "    </tr>\n",
       "  </tbody>\n",
       "</table>\n",
       "<p>2935 rows × 12 columns</p>\n",
       "</div>"
      ],
      "text/plain": [
       "      id  release_date                                        movie  \\\n",
       "0      1  Dec 18, 2009                                       avatar   \n",
       "1      2  May 20, 2011  pirates of the caribbean: on stranger tides   \n",
       "2      3   Jun 7, 2019                                 dark phoenix   \n",
       "3      4   May 1, 2015                      avengers: age of ultron   \n",
       "4      7  Apr 27, 2018                       avengers: infinity war   \n",
       "...   ..           ...                                          ...   \n",
       "2930  62  Dec 31, 2014                         stories of our lives   \n",
       "2931  68   Jul 6, 2001                                         cure   \n",
       "2932  73  Jan 13, 2012                                    newlyweds   \n",
       "2933  78  Dec 31, 2018                                       red 11   \n",
       "2934  81  Sep 29, 2015                         a plague so pleasant   \n",
       "\n",
       "     production_budget domestic_gross worldwide_gross  \\\n",
       "0         $425,000,000   $760,507,625  $2,776,345,279   \n",
       "1         $410,600,000   $241,063,875  $1,045,663,875   \n",
       "2         $350,000,000    $42,762,350    $149,762,350   \n",
       "3         $330,600,000   $459,005,868  $1,403,013,963   \n",
       "4         $300,000,000   $678,815,482  $2,048,134,200   \n",
       "...                ...            ...             ...   \n",
       "2930           $15,000             $0              $0   \n",
       "2931           $10,000        $94,596         $94,596   \n",
       "2932            $9,000         $4,584          $4,584   \n",
       "2933            $7,000             $0              $0   \n",
       "2934            $1,400             $0              $0   \n",
       "\n",
       "                                    primary_title  runtime_minutes  \\\n",
       "0                                          avatar             93.0   \n",
       "1     pirates of the caribbean: on stranger tides            136.0   \n",
       "2                                    dark phoenix            113.0   \n",
       "3                         avengers: age of ultron            141.0   \n",
       "4                          avengers: infinity war            149.0   \n",
       "...                                           ...              ...   \n",
       "2930                         stories of our lives             60.0   \n",
       "2931                                         cure             93.0   \n",
       "2932                                    newlyweds             95.0   \n",
       "2933                                       red 11             77.0   \n",
       "2934                         a plague so pleasant             76.0   \n",
       "\n",
       "                        genres  averagerating  numvotes  start_year  \n",
       "0                       Horror            6.1        43        2011  \n",
       "1     Action,Adventure,Fantasy            6.6    447624        2011  \n",
       "2      Action,Adventure,Sci-Fi            6.0     24451        2019  \n",
       "3      Action,Adventure,Sci-Fi            7.3    665594        2015  \n",
       "4      Action,Adventure,Sci-Fi            8.5    670926        2018  \n",
       "...                        ...            ...       ...         ...  \n",
       "2930                     Drama            7.5        85        2014  \n",
       "2931                     Drama            4.9        11        2011  \n",
       "2932              Comedy,Drama            6.4      1436        2011  \n",
       "2933    Horror,Sci-Fi,Thriller            5.6        43        2019  \n",
       "2934     Drama,Horror,Thriller            5.4        72        2013  \n",
       "\n",
       "[2935 rows x 12 columns]"
      ]
     },
     "execution_count": 1336,
     "metadata": {},
     "output_type": "execute_result"
    }
   ],
   "source": [
    "# length of dataframe is longer than length of tn_df that we merged on meaning there are multiple primary_titles\n",
    "# that match the movie titles. Essentially duplicated names; movies with same name. We need to figure out how to\n",
    "# make sure we are using the right ones and we can do that by matching start_year with release date_year. This\n",
    "# will not be perfect as dups can have the same year potentially but it will greatly reduce this number for us. \n",
    "# Also, some movies might have the same name but not be referring to the same movie, for example avatar is not a\n",
    "# horror movie and doing further research you see there is an older movie also called avatar. \n",
    "combined_df"
   ]
  },
  {
   "cell_type": "code",
   "execution_count": null,
   "metadata": {},
   "outputs": [],
   "source": []
  },
  {
   "cell_type": "code",
   "execution_count": null,
   "metadata": {},
   "outputs": [],
   "source": []
  },
  {
   "cell_type": "code",
   "execution_count": null,
   "metadata": {},
   "outputs": [],
   "source": []
  },
  {
   "cell_type": "code",
   "execution_count": 1337,
   "metadata": {},
   "outputs": [],
   "source": [
    "combined_df['matching_year'] = combined_df['release_date'].apply(lambda x: x[-4:]).astype(float)"
   ]
  },
  {
   "cell_type": "code",
   "execution_count": 1338,
   "metadata": {
    "scrolled": true
   },
   "outputs": [
    {
     "data": {
      "text/html": [
       "<div>\n",
       "<style scoped>\n",
       "    .dataframe tbody tr th:only-of-type {\n",
       "        vertical-align: middle;\n",
       "    }\n",
       "\n",
       "    .dataframe tbody tr th {\n",
       "        vertical-align: top;\n",
       "    }\n",
       "\n",
       "    .dataframe thead th {\n",
       "        text-align: right;\n",
       "    }\n",
       "</style>\n",
       "<table border=\"1\" class=\"dataframe\">\n",
       "  <thead>\n",
       "    <tr style=\"text-align: right;\">\n",
       "      <th></th>\n",
       "      <th>id</th>\n",
       "      <th>release_date</th>\n",
       "      <th>movie</th>\n",
       "      <th>production_budget</th>\n",
       "      <th>domestic_gross</th>\n",
       "      <th>worldwide_gross</th>\n",
       "      <th>primary_title</th>\n",
       "      <th>runtime_minutes</th>\n",
       "      <th>genres</th>\n",
       "      <th>averagerating</th>\n",
       "      <th>numvotes</th>\n",
       "      <th>start_year</th>\n",
       "      <th>matching_year</th>\n",
       "    </tr>\n",
       "  </thead>\n",
       "  <tbody>\n",
       "    <tr>\n",
       "      <th>0</th>\n",
       "      <td>1</td>\n",
       "      <td>Dec 18, 2009</td>\n",
       "      <td>avatar</td>\n",
       "      <td>$425,000,000</td>\n",
       "      <td>$760,507,625</td>\n",
       "      <td>$2,776,345,279</td>\n",
       "      <td>avatar</td>\n",
       "      <td>93.0</td>\n",
       "      <td>Horror</td>\n",
       "      <td>6.1</td>\n",
       "      <td>43</td>\n",
       "      <td>2011</td>\n",
       "      <td>2009.0</td>\n",
       "    </tr>\n",
       "    <tr>\n",
       "      <th>1</th>\n",
       "      <td>2</td>\n",
       "      <td>May 20, 2011</td>\n",
       "      <td>pirates of the caribbean: on stranger tides</td>\n",
       "      <td>$410,600,000</td>\n",
       "      <td>$241,063,875</td>\n",
       "      <td>$1,045,663,875</td>\n",
       "      <td>pirates of the caribbean: on stranger tides</td>\n",
       "      <td>136.0</td>\n",
       "      <td>Action,Adventure,Fantasy</td>\n",
       "      <td>6.6</td>\n",
       "      <td>447624</td>\n",
       "      <td>2011</td>\n",
       "      <td>2011.0</td>\n",
       "    </tr>\n",
       "    <tr>\n",
       "      <th>2</th>\n",
       "      <td>3</td>\n",
       "      <td>Jun 7, 2019</td>\n",
       "      <td>dark phoenix</td>\n",
       "      <td>$350,000,000</td>\n",
       "      <td>$42,762,350</td>\n",
       "      <td>$149,762,350</td>\n",
       "      <td>dark phoenix</td>\n",
       "      <td>113.0</td>\n",
       "      <td>Action,Adventure,Sci-Fi</td>\n",
       "      <td>6.0</td>\n",
       "      <td>24451</td>\n",
       "      <td>2019</td>\n",
       "      <td>2019.0</td>\n",
       "    </tr>\n",
       "    <tr>\n",
       "      <th>3</th>\n",
       "      <td>4</td>\n",
       "      <td>May 1, 2015</td>\n",
       "      <td>avengers: age of ultron</td>\n",
       "      <td>$330,600,000</td>\n",
       "      <td>$459,005,868</td>\n",
       "      <td>$1,403,013,963</td>\n",
       "      <td>avengers: age of ultron</td>\n",
       "      <td>141.0</td>\n",
       "      <td>Action,Adventure,Sci-Fi</td>\n",
       "      <td>7.3</td>\n",
       "      <td>665594</td>\n",
       "      <td>2015</td>\n",
       "      <td>2015.0</td>\n",
       "    </tr>\n",
       "    <tr>\n",
       "      <th>4</th>\n",
       "      <td>7</td>\n",
       "      <td>Apr 27, 2018</td>\n",
       "      <td>avengers: infinity war</td>\n",
       "      <td>$300,000,000</td>\n",
       "      <td>$678,815,482</td>\n",
       "      <td>$2,048,134,200</td>\n",
       "      <td>avengers: infinity war</td>\n",
       "      <td>149.0</td>\n",
       "      <td>Action,Adventure,Sci-Fi</td>\n",
       "      <td>8.5</td>\n",
       "      <td>670926</td>\n",
       "      <td>2018</td>\n",
       "      <td>2018.0</td>\n",
       "    </tr>\n",
       "    <tr>\n",
       "      <th>...</th>\n",
       "      <td>...</td>\n",
       "      <td>...</td>\n",
       "      <td>...</td>\n",
       "      <td>...</td>\n",
       "      <td>...</td>\n",
       "      <td>...</td>\n",
       "      <td>...</td>\n",
       "      <td>...</td>\n",
       "      <td>...</td>\n",
       "      <td>...</td>\n",
       "      <td>...</td>\n",
       "      <td>...</td>\n",
       "      <td>...</td>\n",
       "    </tr>\n",
       "    <tr>\n",
       "      <th>2930</th>\n",
       "      <td>62</td>\n",
       "      <td>Dec 31, 2014</td>\n",
       "      <td>stories of our lives</td>\n",
       "      <td>$15,000</td>\n",
       "      <td>$0</td>\n",
       "      <td>$0</td>\n",
       "      <td>stories of our lives</td>\n",
       "      <td>60.0</td>\n",
       "      <td>Drama</td>\n",
       "      <td>7.5</td>\n",
       "      <td>85</td>\n",
       "      <td>2014</td>\n",
       "      <td>2014.0</td>\n",
       "    </tr>\n",
       "    <tr>\n",
       "      <th>2931</th>\n",
       "      <td>68</td>\n",
       "      <td>Jul 6, 2001</td>\n",
       "      <td>cure</td>\n",
       "      <td>$10,000</td>\n",
       "      <td>$94,596</td>\n",
       "      <td>$94,596</td>\n",
       "      <td>cure</td>\n",
       "      <td>93.0</td>\n",
       "      <td>Drama</td>\n",
       "      <td>4.9</td>\n",
       "      <td>11</td>\n",
       "      <td>2011</td>\n",
       "      <td>2001.0</td>\n",
       "    </tr>\n",
       "    <tr>\n",
       "      <th>2932</th>\n",
       "      <td>73</td>\n",
       "      <td>Jan 13, 2012</td>\n",
       "      <td>newlyweds</td>\n",
       "      <td>$9,000</td>\n",
       "      <td>$4,584</td>\n",
       "      <td>$4,584</td>\n",
       "      <td>newlyweds</td>\n",
       "      <td>95.0</td>\n",
       "      <td>Comedy,Drama</td>\n",
       "      <td>6.4</td>\n",
       "      <td>1436</td>\n",
       "      <td>2011</td>\n",
       "      <td>2012.0</td>\n",
       "    </tr>\n",
       "    <tr>\n",
       "      <th>2933</th>\n",
       "      <td>78</td>\n",
       "      <td>Dec 31, 2018</td>\n",
       "      <td>red 11</td>\n",
       "      <td>$7,000</td>\n",
       "      <td>$0</td>\n",
       "      <td>$0</td>\n",
       "      <td>red 11</td>\n",
       "      <td>77.0</td>\n",
       "      <td>Horror,Sci-Fi,Thriller</td>\n",
       "      <td>5.6</td>\n",
       "      <td>43</td>\n",
       "      <td>2019</td>\n",
       "      <td>2018.0</td>\n",
       "    </tr>\n",
       "    <tr>\n",
       "      <th>2934</th>\n",
       "      <td>81</td>\n",
       "      <td>Sep 29, 2015</td>\n",
       "      <td>a plague so pleasant</td>\n",
       "      <td>$1,400</td>\n",
       "      <td>$0</td>\n",
       "      <td>$0</td>\n",
       "      <td>a plague so pleasant</td>\n",
       "      <td>76.0</td>\n",
       "      <td>Drama,Horror,Thriller</td>\n",
       "      <td>5.4</td>\n",
       "      <td>72</td>\n",
       "      <td>2013</td>\n",
       "      <td>2015.0</td>\n",
       "    </tr>\n",
       "  </tbody>\n",
       "</table>\n",
       "<p>2935 rows × 13 columns</p>\n",
       "</div>"
      ],
      "text/plain": [
       "      id  release_date                                        movie  \\\n",
       "0      1  Dec 18, 2009                                       avatar   \n",
       "1      2  May 20, 2011  pirates of the caribbean: on stranger tides   \n",
       "2      3   Jun 7, 2019                                 dark phoenix   \n",
       "3      4   May 1, 2015                      avengers: age of ultron   \n",
       "4      7  Apr 27, 2018                       avengers: infinity war   \n",
       "...   ..           ...                                          ...   \n",
       "2930  62  Dec 31, 2014                         stories of our lives   \n",
       "2931  68   Jul 6, 2001                                         cure   \n",
       "2932  73  Jan 13, 2012                                    newlyweds   \n",
       "2933  78  Dec 31, 2018                                       red 11   \n",
       "2934  81  Sep 29, 2015                         a plague so pleasant   \n",
       "\n",
       "     production_budget domestic_gross worldwide_gross  \\\n",
       "0         $425,000,000   $760,507,625  $2,776,345,279   \n",
       "1         $410,600,000   $241,063,875  $1,045,663,875   \n",
       "2         $350,000,000    $42,762,350    $149,762,350   \n",
       "3         $330,600,000   $459,005,868  $1,403,013,963   \n",
       "4         $300,000,000   $678,815,482  $2,048,134,200   \n",
       "...                ...            ...             ...   \n",
       "2930           $15,000             $0              $0   \n",
       "2931           $10,000        $94,596         $94,596   \n",
       "2932            $9,000         $4,584          $4,584   \n",
       "2933            $7,000             $0              $0   \n",
       "2934            $1,400             $0              $0   \n",
       "\n",
       "                                    primary_title  runtime_minutes  \\\n",
       "0                                          avatar             93.0   \n",
       "1     pirates of the caribbean: on stranger tides            136.0   \n",
       "2                                    dark phoenix            113.0   \n",
       "3                         avengers: age of ultron            141.0   \n",
       "4                          avengers: infinity war            149.0   \n",
       "...                                           ...              ...   \n",
       "2930                         stories of our lives             60.0   \n",
       "2931                                         cure             93.0   \n",
       "2932                                    newlyweds             95.0   \n",
       "2933                                       red 11             77.0   \n",
       "2934                         a plague so pleasant             76.0   \n",
       "\n",
       "                        genres  averagerating  numvotes  start_year  \\\n",
       "0                       Horror            6.1        43        2011   \n",
       "1     Action,Adventure,Fantasy            6.6    447624        2011   \n",
       "2      Action,Adventure,Sci-Fi            6.0     24451        2019   \n",
       "3      Action,Adventure,Sci-Fi            7.3    665594        2015   \n",
       "4      Action,Adventure,Sci-Fi            8.5    670926        2018   \n",
       "...                        ...            ...       ...         ...   \n",
       "2930                     Drama            7.5        85        2014   \n",
       "2931                     Drama            4.9        11        2011   \n",
       "2932              Comedy,Drama            6.4      1436        2011   \n",
       "2933    Horror,Sci-Fi,Thriller            5.6        43        2019   \n",
       "2934     Drama,Horror,Thriller            5.4        72        2013   \n",
       "\n",
       "      matching_year  \n",
       "0            2009.0  \n",
       "1            2011.0  \n",
       "2            2019.0  \n",
       "3            2015.0  \n",
       "4            2018.0  \n",
       "...             ...  \n",
       "2930         2014.0  \n",
       "2931         2001.0  \n",
       "2932         2012.0  \n",
       "2933         2018.0  \n",
       "2934         2015.0  \n",
       "\n",
       "[2935 rows x 13 columns]"
      ]
     },
     "execution_count": 1338,
     "metadata": {},
     "output_type": "execute_result"
    }
   ],
   "source": [
    "combined_df"
   ]
  },
  {
   "cell_type": "code",
   "execution_count": 1339,
   "metadata": {},
   "outputs": [],
   "source": [
    "combined_df = combined_df[(combined_df['start_year'] == combined_df['matching_year'])]"
   ]
  },
  {
   "cell_type": "code",
   "execution_count": 1340,
   "metadata": {
    "scrolled": false
   },
   "outputs": [
    {
     "data": {
      "text/html": [
       "<div>\n",
       "<style scoped>\n",
       "    .dataframe tbody tr th:only-of-type {\n",
       "        vertical-align: middle;\n",
       "    }\n",
       "\n",
       "    .dataframe tbody tr th {\n",
       "        vertical-align: top;\n",
       "    }\n",
       "\n",
       "    .dataframe thead th {\n",
       "        text-align: right;\n",
       "    }\n",
       "</style>\n",
       "<table border=\"1\" class=\"dataframe\">\n",
       "  <thead>\n",
       "    <tr style=\"text-align: right;\">\n",
       "      <th></th>\n",
       "      <th>id</th>\n",
       "      <th>release_date</th>\n",
       "      <th>movie</th>\n",
       "      <th>production_budget</th>\n",
       "      <th>domestic_gross</th>\n",
       "      <th>worldwide_gross</th>\n",
       "      <th>primary_title</th>\n",
       "      <th>runtime_minutes</th>\n",
       "      <th>genres</th>\n",
       "      <th>averagerating</th>\n",
       "      <th>numvotes</th>\n",
       "      <th>start_year</th>\n",
       "      <th>matching_year</th>\n",
       "    </tr>\n",
       "  </thead>\n",
       "  <tbody>\n",
       "    <tr>\n",
       "      <th>1</th>\n",
       "      <td>2</td>\n",
       "      <td>May 20, 2011</td>\n",
       "      <td>pirates of the caribbean: on stranger tides</td>\n",
       "      <td>$410,600,000</td>\n",
       "      <td>$241,063,875</td>\n",
       "      <td>$1,045,663,875</td>\n",
       "      <td>pirates of the caribbean: on stranger tides</td>\n",
       "      <td>136.0</td>\n",
       "      <td>Action,Adventure,Fantasy</td>\n",
       "      <td>6.6</td>\n",
       "      <td>447624</td>\n",
       "      <td>2011</td>\n",
       "      <td>2011.0</td>\n",
       "    </tr>\n",
       "    <tr>\n",
       "      <th>2</th>\n",
       "      <td>3</td>\n",
       "      <td>Jun 7, 2019</td>\n",
       "      <td>dark phoenix</td>\n",
       "      <td>$350,000,000</td>\n",
       "      <td>$42,762,350</td>\n",
       "      <td>$149,762,350</td>\n",
       "      <td>dark phoenix</td>\n",
       "      <td>113.0</td>\n",
       "      <td>Action,Adventure,Sci-Fi</td>\n",
       "      <td>6.0</td>\n",
       "      <td>24451</td>\n",
       "      <td>2019</td>\n",
       "      <td>2019.0</td>\n",
       "    </tr>\n",
       "    <tr>\n",
       "      <th>3</th>\n",
       "      <td>4</td>\n",
       "      <td>May 1, 2015</td>\n",
       "      <td>avengers: age of ultron</td>\n",
       "      <td>$330,600,000</td>\n",
       "      <td>$459,005,868</td>\n",
       "      <td>$1,403,013,963</td>\n",
       "      <td>avengers: age of ultron</td>\n",
       "      <td>141.0</td>\n",
       "      <td>Action,Adventure,Sci-Fi</td>\n",
       "      <td>7.3</td>\n",
       "      <td>665594</td>\n",
       "      <td>2015</td>\n",
       "      <td>2015.0</td>\n",
       "    </tr>\n",
       "    <tr>\n",
       "      <th>4</th>\n",
       "      <td>7</td>\n",
       "      <td>Apr 27, 2018</td>\n",
       "      <td>avengers: infinity war</td>\n",
       "      <td>$300,000,000</td>\n",
       "      <td>$678,815,482</td>\n",
       "      <td>$2,048,134,200</td>\n",
       "      <td>avengers: infinity war</td>\n",
       "      <td>149.0</td>\n",
       "      <td>Action,Adventure,Sci-Fi</td>\n",
       "      <td>8.5</td>\n",
       "      <td>670926</td>\n",
       "      <td>2018</td>\n",
       "      <td>2018.0</td>\n",
       "    </tr>\n",
       "    <tr>\n",
       "      <th>5</th>\n",
       "      <td>9</td>\n",
       "      <td>Nov 17, 2017</td>\n",
       "      <td>justice league</td>\n",
       "      <td>$300,000,000</td>\n",
       "      <td>$229,024,295</td>\n",
       "      <td>$655,945,209</td>\n",
       "      <td>justice league</td>\n",
       "      <td>120.0</td>\n",
       "      <td>Action,Adventure,Fantasy</td>\n",
       "      <td>6.5</td>\n",
       "      <td>329135</td>\n",
       "      <td>2017</td>\n",
       "      <td>2017.0</td>\n",
       "    </tr>\n",
       "    <tr>\n",
       "      <th>...</th>\n",
       "      <td>...</td>\n",
       "      <td>...</td>\n",
       "      <td>...</td>\n",
       "      <td>...</td>\n",
       "      <td>...</td>\n",
       "      <td>...</td>\n",
       "      <td>...</td>\n",
       "      <td>...</td>\n",
       "      <td>...</td>\n",
       "      <td>...</td>\n",
       "      <td>...</td>\n",
       "      <td>...</td>\n",
       "      <td>...</td>\n",
       "    </tr>\n",
       "    <tr>\n",
       "      <th>2919</th>\n",
       "      <td>45</td>\n",
       "      <td>Jan 27, 2017</td>\n",
       "      <td>emily</td>\n",
       "      <td>$27,000</td>\n",
       "      <td>$3,547</td>\n",
       "      <td>$3,547</td>\n",
       "      <td>emily</td>\n",
       "      <td>83.0</td>\n",
       "      <td>Drama</td>\n",
       "      <td>6.8</td>\n",
       "      <td>13</td>\n",
       "      <td>2017</td>\n",
       "      <td>2017.0</td>\n",
       "    </tr>\n",
       "    <tr>\n",
       "      <th>2921</th>\n",
       "      <td>49</td>\n",
       "      <td>Sep 1, 2015</td>\n",
       "      <td>exeter</td>\n",
       "      <td>$25,000</td>\n",
       "      <td>$0</td>\n",
       "      <td>$489,792</td>\n",
       "      <td>exeter</td>\n",
       "      <td>91.0</td>\n",
       "      <td>Horror,Mystery,Thriller</td>\n",
       "      <td>4.5</td>\n",
       "      <td>5156</td>\n",
       "      <td>2015</td>\n",
       "      <td>2015.0</td>\n",
       "    </tr>\n",
       "    <tr>\n",
       "      <th>2926</th>\n",
       "      <td>52</td>\n",
       "      <td>Dec 1, 2015</td>\n",
       "      <td>dutch kills</td>\n",
       "      <td>$25,000</td>\n",
       "      <td>$0</td>\n",
       "      <td>$0</td>\n",
       "      <td>dutch kills</td>\n",
       "      <td>90.0</td>\n",
       "      <td>Crime,Drama,Thriller</td>\n",
       "      <td>5.1</td>\n",
       "      <td>82</td>\n",
       "      <td>2015</td>\n",
       "      <td>2015.0</td>\n",
       "    </tr>\n",
       "    <tr>\n",
       "      <th>2929</th>\n",
       "      <td>59</td>\n",
       "      <td>Nov 25, 2011</td>\n",
       "      <td>the ridges</td>\n",
       "      <td>$17,300</td>\n",
       "      <td>$0</td>\n",
       "      <td>$0</td>\n",
       "      <td>the ridges</td>\n",
       "      <td>89.0</td>\n",
       "      <td>Drama,Horror,Thriller</td>\n",
       "      <td>2.9</td>\n",
       "      <td>127</td>\n",
       "      <td>2011</td>\n",
       "      <td>2011.0</td>\n",
       "    </tr>\n",
       "    <tr>\n",
       "      <th>2930</th>\n",
       "      <td>62</td>\n",
       "      <td>Dec 31, 2014</td>\n",
       "      <td>stories of our lives</td>\n",
       "      <td>$15,000</td>\n",
       "      <td>$0</td>\n",
       "      <td>$0</td>\n",
       "      <td>stories of our lives</td>\n",
       "      <td>60.0</td>\n",
       "      <td>Drama</td>\n",
       "      <td>7.5</td>\n",
       "      <td>85</td>\n",
       "      <td>2014</td>\n",
       "      <td>2014.0</td>\n",
       "    </tr>\n",
       "  </tbody>\n",
       "</table>\n",
       "<p>1541 rows × 13 columns</p>\n",
       "</div>"
      ],
      "text/plain": [
       "      id  release_date                                        movie  \\\n",
       "1      2  May 20, 2011  pirates of the caribbean: on stranger tides   \n",
       "2      3   Jun 7, 2019                                 dark phoenix   \n",
       "3      4   May 1, 2015                      avengers: age of ultron   \n",
       "4      7  Apr 27, 2018                       avengers: infinity war   \n",
       "5      9  Nov 17, 2017                               justice league   \n",
       "...   ..           ...                                          ...   \n",
       "2919  45  Jan 27, 2017                                        emily   \n",
       "2921  49   Sep 1, 2015                                       exeter   \n",
       "2926  52   Dec 1, 2015                                  dutch kills   \n",
       "2929  59  Nov 25, 2011                                   the ridges   \n",
       "2930  62  Dec 31, 2014                         stories of our lives   \n",
       "\n",
       "     production_budget domestic_gross worldwide_gross  \\\n",
       "1         $410,600,000   $241,063,875  $1,045,663,875   \n",
       "2         $350,000,000    $42,762,350    $149,762,350   \n",
       "3         $330,600,000   $459,005,868  $1,403,013,963   \n",
       "4         $300,000,000   $678,815,482  $2,048,134,200   \n",
       "5         $300,000,000   $229,024,295    $655,945,209   \n",
       "...                ...            ...             ...   \n",
       "2919           $27,000         $3,547          $3,547   \n",
       "2921           $25,000             $0        $489,792   \n",
       "2926           $25,000             $0              $0   \n",
       "2929           $17,300             $0              $0   \n",
       "2930           $15,000             $0              $0   \n",
       "\n",
       "                                    primary_title  runtime_minutes  \\\n",
       "1     pirates of the caribbean: on stranger tides            136.0   \n",
       "2                                    dark phoenix            113.0   \n",
       "3                         avengers: age of ultron            141.0   \n",
       "4                          avengers: infinity war            149.0   \n",
       "5                                  justice league            120.0   \n",
       "...                                           ...              ...   \n",
       "2919                                        emily             83.0   \n",
       "2921                                       exeter             91.0   \n",
       "2926                                  dutch kills             90.0   \n",
       "2929                                   the ridges             89.0   \n",
       "2930                         stories of our lives             60.0   \n",
       "\n",
       "                        genres  averagerating  numvotes  start_year  \\\n",
       "1     Action,Adventure,Fantasy            6.6    447624        2011   \n",
       "2      Action,Adventure,Sci-Fi            6.0     24451        2019   \n",
       "3      Action,Adventure,Sci-Fi            7.3    665594        2015   \n",
       "4      Action,Adventure,Sci-Fi            8.5    670926        2018   \n",
       "5     Action,Adventure,Fantasy            6.5    329135        2017   \n",
       "...                        ...            ...       ...         ...   \n",
       "2919                     Drama            6.8        13        2017   \n",
       "2921   Horror,Mystery,Thriller            4.5      5156        2015   \n",
       "2926      Crime,Drama,Thriller            5.1        82        2015   \n",
       "2929     Drama,Horror,Thriller            2.9       127        2011   \n",
       "2930                     Drama            7.5        85        2014   \n",
       "\n",
       "      matching_year  \n",
       "1            2011.0  \n",
       "2            2019.0  \n",
       "3            2015.0  \n",
       "4            2018.0  \n",
       "5            2017.0  \n",
       "...             ...  \n",
       "2919         2017.0  \n",
       "2921         2015.0  \n",
       "2926         2015.0  \n",
       "2929         2011.0  \n",
       "2930         2014.0  \n",
       "\n",
       "[1541 rows x 13 columns]"
      ]
     },
     "execution_count": 1340,
     "metadata": {},
     "output_type": "execute_result"
    }
   ],
   "source": [
    "combined_df"
   ]
  },
  {
   "cell_type": "code",
   "execution_count": 1341,
   "metadata": {},
   "outputs": [],
   "source": [
    "#Will be removing other columns as we progress; create drop function for reusability\n",
    "def drop(cols,df):\n",
    "    '''Is going to take the column name and apply the drop function'''\n",
    "    for x in cols:\n",
    "        df.drop(columns=x, inplace=True)"
   ]
  },
  {
   "cell_type": "code",
   "execution_count": 1342,
   "metadata": {},
   "outputs": [
    {
     "name": "stderr",
     "output_type": "stream",
     "text": [
      "<ipython-input-1341-9bb459816f07>:5: SettingWithCopyWarning: \n",
      "A value is trying to be set on a copy of a slice from a DataFrame\n",
      "\n",
      "See the caveats in the documentation: https://pandas.pydata.org/pandas-docs/stable/user_guide/indexing.html#returning-a-view-versus-a-copy\n",
      "  df.drop(columns=x, inplace=True)\n",
      "<ipython-input-1341-9bb459816f07>:5: SettingWithCopyWarning: \n",
      "A value is trying to be set on a copy of a slice from a DataFrame\n",
      "\n",
      "See the caveats in the documentation: https://pandas.pydata.org/pandas-docs/stable/user_guide/indexing.html#returning-a-view-versus-a-copy\n",
      "  df.drop(columns=x, inplace=True)\n",
      "<ipython-input-1341-9bb459816f07>:5: SettingWithCopyWarning: \n",
      "A value is trying to be set on a copy of a slice from a DataFrame\n",
      "\n",
      "See the caveats in the documentation: https://pandas.pydata.org/pandas-docs/stable/user_guide/indexing.html#returning-a-view-versus-a-copy\n",
      "  df.drop(columns=x, inplace=True)\n",
      "<ipython-input-1341-9bb459816f07>:5: SettingWithCopyWarning: \n",
      "A value is trying to be set on a copy of a slice from a DataFrame\n",
      "\n",
      "See the caveats in the documentation: https://pandas.pydata.org/pandas-docs/stable/user_guide/indexing.html#returning-a-view-versus-a-copy\n",
      "  df.drop(columns=x, inplace=True)\n"
     ]
    }
   ],
   "source": [
    "drop(['id','primary_title', 'start_year', 'matching_year'], combined_df)\n"
   ]
  },
  {
   "cell_type": "code",
   "execution_count": 1343,
   "metadata": {
    "scrolled": true
   },
   "outputs": [
    {
     "name": "stdout",
     "output_type": "stream",
     "text": [
      "<class 'pandas.core.frame.DataFrame'>\n",
      "Index: 1541 entries, 1 to 2930\n",
      "Data columns (total 9 columns):\n",
      " #   Column             Non-Null Count  Dtype  \n",
      "---  ------             --------------  -----  \n",
      " 0   release_date       1541 non-null   object \n",
      " 1   movie              1541 non-null   object \n",
      " 2   production_budget  1541 non-null   object \n",
      " 3   domestic_gross     1541 non-null   object \n",
      " 4   worldwide_gross    1541 non-null   object \n",
      " 5   runtime_minutes    1533 non-null   float64\n",
      " 6   genres             1539 non-null   object \n",
      " 7   averagerating      1541 non-null   float64\n",
      " 8   numvotes           1541 non-null   int64  \n",
      "dtypes: float64(2), int64(1), object(6)\n",
      "memory usage: 120.4+ KB\n"
     ]
    }
   ],
   "source": [
    "combined_df.info()"
   ]
  },
  {
   "cell_type": "code",
   "execution_count": 1344,
   "metadata": {},
   "outputs": [],
   "source": [
    "def money_values(lst):\n",
    "    for df in lst:\n",
    "        combined_df[df] = combined_df[df].apply(lambda x: re.sub(r'[^\\w\\s]', '', x))\n",
    "        combined_df[df] = combined_df[df].apply(int)"
   ]
  },
  {
   "cell_type": "code",
   "execution_count": 1345,
   "metadata": {},
   "outputs": [],
   "source": [
    "monetary_columns_lst = ['production_budget', 'domestic_gross', 'worldwide_gross']"
   ]
  },
  {
   "cell_type": "code",
   "execution_count": 1346,
   "metadata": {},
   "outputs": [
    {
     "name": "stderr",
     "output_type": "stream",
     "text": [
      "<ipython-input-1344-61a1735999f2>:3: SettingWithCopyWarning: \n",
      "A value is trying to be set on a copy of a slice from a DataFrame.\n",
      "Try using .loc[row_indexer,col_indexer] = value instead\n",
      "\n",
      "See the caveats in the documentation: https://pandas.pydata.org/pandas-docs/stable/user_guide/indexing.html#returning-a-view-versus-a-copy\n",
      "  combined_df[df] = combined_df[df].apply(lambda x: re.sub(r'[^\\w\\s]', '', x))\n",
      "<ipython-input-1344-61a1735999f2>:4: SettingWithCopyWarning: \n",
      "A value is trying to be set on a copy of a slice from a DataFrame.\n",
      "Try using .loc[row_indexer,col_indexer] = value instead\n",
      "\n",
      "See the caveats in the documentation: https://pandas.pydata.org/pandas-docs/stable/user_guide/indexing.html#returning-a-view-versus-a-copy\n",
      "  combined_df[df] = combined_df[df].apply(int)\n",
      "<ipython-input-1344-61a1735999f2>:3: SettingWithCopyWarning: \n",
      "A value is trying to be set on a copy of a slice from a DataFrame.\n",
      "Try using .loc[row_indexer,col_indexer] = value instead\n",
      "\n",
      "See the caveats in the documentation: https://pandas.pydata.org/pandas-docs/stable/user_guide/indexing.html#returning-a-view-versus-a-copy\n",
      "  combined_df[df] = combined_df[df].apply(lambda x: re.sub(r'[^\\w\\s]', '', x))\n",
      "<ipython-input-1344-61a1735999f2>:4: SettingWithCopyWarning: \n",
      "A value is trying to be set on a copy of a slice from a DataFrame.\n",
      "Try using .loc[row_indexer,col_indexer] = value instead\n",
      "\n",
      "See the caveats in the documentation: https://pandas.pydata.org/pandas-docs/stable/user_guide/indexing.html#returning-a-view-versus-a-copy\n",
      "  combined_df[df] = combined_df[df].apply(int)\n",
      "<ipython-input-1344-61a1735999f2>:3: SettingWithCopyWarning: \n",
      "A value is trying to be set on a copy of a slice from a DataFrame.\n",
      "Try using .loc[row_indexer,col_indexer] = value instead\n",
      "\n",
      "See the caveats in the documentation: https://pandas.pydata.org/pandas-docs/stable/user_guide/indexing.html#returning-a-view-versus-a-copy\n",
      "  combined_df[df] = combined_df[df].apply(lambda x: re.sub(r'[^\\w\\s]', '', x))\n",
      "<ipython-input-1344-61a1735999f2>:4: SettingWithCopyWarning: \n",
      "A value is trying to be set on a copy of a slice from a DataFrame.\n",
      "Try using .loc[row_indexer,col_indexer] = value instead\n",
      "\n",
      "See the caveats in the documentation: https://pandas.pydata.org/pandas-docs/stable/user_guide/indexing.html#returning-a-view-versus-a-copy\n",
      "  combined_df[df] = combined_df[df].apply(int)\n"
     ]
    }
   ],
   "source": [
    "money_values(monetary_columns_lst)"
   ]
  },
  {
   "cell_type": "code",
   "execution_count": 1347,
   "metadata": {},
   "outputs": [
    {
     "name": "stdout",
     "output_type": "stream",
     "text": [
      "<class 'pandas.core.frame.DataFrame'>\n",
      "Index: 1541 entries, 1 to 2930\n",
      "Data columns (total 9 columns):\n",
      " #   Column             Non-Null Count  Dtype  \n",
      "---  ------             --------------  -----  \n",
      " 0   release_date       1541 non-null   object \n",
      " 1   movie              1541 non-null   object \n",
      " 2   production_budget  1541 non-null   int64  \n",
      " 3   domestic_gross     1541 non-null   int64  \n",
      " 4   worldwide_gross    1541 non-null   int64  \n",
      " 5   runtime_minutes    1533 non-null   float64\n",
      " 6   genres             1539 non-null   object \n",
      " 7   averagerating      1541 non-null   float64\n",
      " 8   numvotes           1541 non-null   int64  \n",
      "dtypes: float64(2), int64(4), object(3)\n",
      "memory usage: 120.4+ KB\n"
     ]
    }
   ],
   "source": [
    "combined_df.info()"
   ]
  },
  {
   "cell_type": "code",
   "execution_count": 1348,
   "metadata": {
    "scrolled": true
   },
   "outputs": [
    {
     "name": "stdout",
     "output_type": "stream",
     "text": [
      "<class 'pandas.core.frame.DataFrame'>\n",
      "Index: 1541 entries, 1 to 2930\n",
      "Data columns (total 9 columns):\n",
      " #   Column             Non-Null Count  Dtype  \n",
      "---  ------             --------------  -----  \n",
      " 0   release_date       1541 non-null   object \n",
      " 1   movie              1541 non-null   object \n",
      " 2   production_budget  1541 non-null   int64  \n",
      " 3   domestic_gross     1541 non-null   int64  \n",
      " 4   worldwide_gross    1541 non-null   int64  \n",
      " 5   runtime_minutes    1533 non-null   float64\n",
      " 6   genres             1539 non-null   object \n",
      " 7   averagerating      1541 non-null   float64\n",
      " 8   numvotes           1541 non-null   int64  \n",
      "dtypes: float64(2), int64(4), object(3)\n",
      "memory usage: 120.4+ KB\n"
     ]
    }
   ],
   "source": [
    "combined_df.info()"
   ]
  },
  {
   "cell_type": "code",
   "execution_count": 1349,
   "metadata": {},
   "outputs": [
    {
     "data": {
      "text/plain": [
       "mean      107.378343\n",
       "median    105.000000\n",
       "Name: runtime_minutes, dtype: float64"
      ]
     },
     "execution_count": 1349,
     "metadata": {},
     "output_type": "execute_result"
    }
   ],
   "source": [
    "combined_df['runtime_minutes'].agg(['mean','median'])"
   ]
  },
  {
   "cell_type": "code",
   "execution_count": 1350,
   "metadata": {},
   "outputs": [
    {
     "data": {
      "text/plain": [
       "array([[<Axes: title={'center': 'runtime_minutes'}>]], dtype=object)"
      ]
     },
     "execution_count": 1350,
     "metadata": {},
     "output_type": "execute_result"
    },
    {
     "data": {
      "image/png": "[encoded data removed]",
      "text/plain": [
       "<Figure size 432x288 with 1 Axes>"
      ]
     },
     "metadata": {
      "needs_background": "light"
     },
     "output_type": "display_data"
    }
   ],
   "source": [
    "combined_df.hist('runtime_minutes')"
   ]
  },
  {
   "cell_type": "code",
   "execution_count": 1351,
   "metadata": {},
   "outputs": [
    {
     "name": "stderr",
     "output_type": "stream",
     "text": [
      "<ipython-input-1351-f6311877dede>:1: SettingWithCopyWarning: \n",
      "A value is trying to be set on a copy of a slice from a DataFrame.\n",
      "Try using .loc[row_indexer,col_indexer] = value instead\n",
      "\n",
      "See the caveats in the documentation: https://pandas.pydata.org/pandas-docs/stable/user_guide/indexing.html#returning-a-view-versus-a-copy\n",
      "  combined_df['runtime_minutes'] = combined_df['runtime_minutes'].fillna(combined_df['runtime_minutes'].mean())\n"
     ]
    }
   ],
   "source": [
    "combined_df['runtime_minutes'] = combined_df['runtime_minutes'].fillna(combined_df['runtime_minutes'].mean())"
   ]
  },
  {
   "cell_type": "code",
   "execution_count": 1352,
   "metadata": {
    "scrolled": false
   },
   "outputs": [
    {
     "name": "stdout",
     "output_type": "stream",
     "text": [
      "<class 'pandas.core.frame.DataFrame'>\n",
      "Index: 1541 entries, 1 to 2930\n",
      "Data columns (total 9 columns):\n",
      " #   Column             Non-Null Count  Dtype  \n",
      "---  ------             --------------  -----  \n",
      " 0   release_date       1541 non-null   object \n",
      " 1   movie              1541 non-null   object \n",
      " 2   production_budget  1541 non-null   int64  \n",
      " 3   domestic_gross     1541 non-null   int64  \n",
      " 4   worldwide_gross    1541 non-null   int64  \n",
      " 5   runtime_minutes    1541 non-null   float64\n",
      " 6   genres             1539 non-null   object \n",
      " 7   averagerating      1541 non-null   float64\n",
      " 8   numvotes           1541 non-null   int64  \n",
      "dtypes: float64(2), int64(4), object(3)\n",
      "memory usage: 120.4+ KB\n"
     ]
    }
   ],
   "source": [
    "combined_df.info()"
   ]
  },
  {
   "cell_type": "code",
   "execution_count": 1353,
   "metadata": {},
   "outputs": [],
   "source": [
    "combined_df.reset_index(drop=True, inplace=True)"
   ]
  },
  {
   "cell_type": "code",
   "execution_count": 1354,
   "metadata": {},
   "outputs": [
    {
     "data": {
      "text/html": [
       "<div>\n",
       "<style scoped>\n",
       "    .dataframe tbody tr th:only-of-type {\n",
       "        vertical-align: middle;\n",
       "    }\n",
       "\n",
       "    .dataframe tbody tr th {\n",
       "        vertical-align: top;\n",
       "    }\n",
       "\n",
       "    .dataframe thead th {\n",
       "        text-align: right;\n",
       "    }\n",
       "</style>\n",
       "<table border=\"1\" class=\"dataframe\">\n",
       "  <thead>\n",
       "    <tr style=\"text-align: right;\">\n",
       "      <th></th>\n",
       "      <th>release_date</th>\n",
       "      <th>movie</th>\n",
       "      <th>production_budget</th>\n",
       "      <th>domestic_gross</th>\n",
       "      <th>worldwide_gross</th>\n",
       "      <th>runtime_minutes</th>\n",
       "      <th>genres</th>\n",
       "      <th>averagerating</th>\n",
       "      <th>numvotes</th>\n",
       "    </tr>\n",
       "  </thead>\n",
       "  <tbody>\n",
       "    <tr>\n",
       "      <th>28</th>\n",
       "      <td>Nov 21, 2018</td>\n",
       "      <td>robin hood</td>\n",
       "      <td>99000000</td>\n",
       "      <td>30824628</td>\n",
       "      <td>84747441</td>\n",
       "      <td>107.378343</td>\n",
       "      <td>None</td>\n",
       "      <td>7.6</td>\n",
       "      <td>5</td>\n",
       "    </tr>\n",
       "    <tr>\n",
       "      <th>454</th>\n",
       "      <td>Mar 19, 2010</td>\n",
       "      <td>the bounty hunter</td>\n",
       "      <td>45000000</td>\n",
       "      <td>67061228</td>\n",
       "      <td>135808837</td>\n",
       "      <td>107.378343</td>\n",
       "      <td>None</td>\n",
       "      <td>6.3</td>\n",
       "      <td>29</td>\n",
       "    </tr>\n",
       "  </tbody>\n",
       "</table>\n",
       "</div>"
      ],
      "text/plain": [
       "     release_date              movie  production_budget  domestic_gross  \\\n",
       "28   Nov 21, 2018         robin hood           99000000        30824628   \n",
       "454  Mar 19, 2010  the bounty hunter           45000000        67061228   \n",
       "\n",
       "     worldwide_gross  runtime_minutes genres  averagerating  numvotes  \n",
       "28          84747441       107.378343   None            7.6         5  \n",
       "454        135808837       107.378343   None            6.3        29  "
      ]
     },
     "execution_count": 1354,
     "metadata": {},
     "output_type": "execute_result"
    }
   ],
   "source": [
    "combined_df[combined_df['genres'].isna()]"
   ]
  },
  {
   "cell_type": "code",
   "execution_count": 1355,
   "metadata": {},
   "outputs": [],
   "source": [
    "combined_df.loc[28,'genres'] = 'Action,Adventure'"
   ]
  },
  {
   "cell_type": "code",
   "execution_count": 1356,
   "metadata": {},
   "outputs": [],
   "source": [
    "combined_df.loc[454,'genres'] = 'Comedy,Action'"
   ]
  },
  {
   "cell_type": "code",
   "execution_count": 1357,
   "metadata": {},
   "outputs": [
    {
     "name": "stdout",
     "output_type": "stream",
     "text": [
      "<class 'pandas.core.frame.DataFrame'>\n",
      "RangeIndex: 1541 entries, 0 to 1540\n",
      "Data columns (total 9 columns):\n",
      " #   Column             Non-Null Count  Dtype  \n",
      "---  ------             --------------  -----  \n",
      " 0   release_date       1541 non-null   object \n",
      " 1   movie              1541 non-null   object \n",
      " 2   production_budget  1541 non-null   int64  \n",
      " 3   domestic_gross     1541 non-null   int64  \n",
      " 4   worldwide_gross    1541 non-null   int64  \n",
      " 5   runtime_minutes    1541 non-null   float64\n",
      " 6   genres             1541 non-null   object \n",
      " 7   averagerating      1541 non-null   float64\n",
      " 8   numvotes           1541 non-null   int64  \n",
      "dtypes: float64(2), int64(4), object(3)\n",
      "memory usage: 108.5+ KB\n"
     ]
    }
   ],
   "source": [
    "combined_df.info()"
   ]
  },
  {
   "cell_type": "code",
   "execution_count": 1358,
   "metadata": {},
   "outputs": [
    {
     "data": {
      "text/plain": [
       "release_date\n",
       "Dec 31, 2014    14\n",
       "Dec 31, 2015    10\n",
       "Sep 23, 2011     9\n",
       "Dec 31, 2012     8\n",
       "Oct 10, 2014     8\n",
       "                ..\n",
       "Jun 12, 2013     1\n",
       "Apr 20, 2018     1\n",
       "Apr 12, 2013     1\n",
       "Jul 29, 2015     1\n",
       "Jan 27, 2017     1\n",
       "Name: count, Length: 611, dtype: int64"
      ]
     },
     "execution_count": 1358,
     "metadata": {},
     "output_type": "execute_result"
    }
   ],
   "source": [
    "combined_df['release_date'].value_counts()"
   ]
  },
  {
   "cell_type": "code",
   "execution_count": 1359,
   "metadata": {},
   "outputs": [
    {
     "data": {
      "text/plain": [
       "movie\n",
       "robin hood              3\n",
       "redemption              3\n",
       "brothers                3\n",
       "highway                 2\n",
       "let there be light      2\n",
       "                       ..\n",
       "paul                    1\n",
       "scream 4                1\n",
       "sex tape                1\n",
       "widows                  1\n",
       "stories of our lives    1\n",
       "Name: count, Length: 1504, dtype: int64"
      ]
     },
     "execution_count": 1359,
     "metadata": {},
     "output_type": "execute_result"
    }
   ],
   "source": [
    "combined_df['movie'].value_counts()"
   ]
  },
  {
   "cell_type": "code",
   "execution_count": 1360,
   "metadata": {},
   "outputs": [
    {
     "data": {
      "text/plain": [
       "genres\n",
       "Adventure,Animation,Comedy    69\n",
       "Drama                         60\n",
       "Comedy                        57\n",
       "Action,Adventure,Sci-Fi       53\n",
       "Comedy,Drama,Romance          52\n",
       "                              ..\n",
       "Adventure,Drama,Western        1\n",
       "Comedy,Sci-Fi                  1\n",
       "Comedy,Drama,Sport             1\n",
       "Adventure,Comedy,Sci-Fi        1\n",
       "Biography,Documentary          1\n",
       "Name: count, Length: 232, dtype: int64"
      ]
     },
     "execution_count": 1360,
     "metadata": {},
     "output_type": "execute_result"
    }
   ],
   "source": [
    "combined_df['genres'].value_counts()"
   ]
  },
  {
   "cell_type": "code",
   "execution_count": 1361,
   "metadata": {},
   "outputs": [
    {
     "data": {
      "text/plain": [
       "production_budget\n",
       "20000000     68\n",
       "10000000     62\n",
       "30000000     50\n",
       "40000000     50\n",
       "5000000      48\n",
       "             ..\n",
       "350000000     1\n",
       "24200000      1\n",
       "22500000      1\n",
       "21500000      1\n",
       "15000         1\n",
       "Name: count, Length: 258, dtype: int64"
      ]
     },
     "execution_count": 1361,
     "metadata": {},
     "output_type": "execute_result"
    }
   ],
   "source": [
    "combined_df['production_budget'].value_counts()"
   ]
  },
  {
   "cell_type": "code",
   "execution_count": 1362,
   "metadata": {},
   "outputs": [
    {
     "data": {
      "text/plain": [
       "domestic_gross\n",
       "0           161\n",
       "656688        3\n",
       "36686         3\n",
       "4073448       2\n",
       "26594261      2\n",
       "           ... \n",
       "13414714      1\n",
       "15541549      1\n",
       "19894664      1\n",
       "44922302      1\n",
       "3547          1\n",
       "Name: count, Length: 1348, dtype: int64"
      ]
     },
     "execution_count": 1362,
     "metadata": {},
     "output_type": "execute_result"
    }
   ],
   "source": [
    "combined_df['domestic_gross'].value_counts()"
   ]
  },
  {
   "cell_type": "code",
   "execution_count": 1363,
   "metadata": {},
   "outputs": [
    {
     "data": {
      "text/plain": [
       "worldwide_gross\n",
       "0           108\n",
       "13593473      3\n",
       "17856688      3\n",
       "92088460      2\n",
       "84747441      2\n",
       "           ... \n",
       "49621440      1\n",
       "36197221      1\n",
       "41926605      1\n",
       "91678442      1\n",
       "489792        1\n",
       "Name: count, Length: 1400, dtype: int64"
      ]
     },
     "execution_count": 1363,
     "metadata": {},
     "output_type": "execute_result"
    }
   ],
   "source": [
    "combined_df['worldwide_gross'].value_counts()"
   ]
  },
  {
   "cell_type": "code",
   "execution_count": 1364,
   "metadata": {},
   "outputs": [
    {
     "data": {
      "text/plain": [
       "count    1541.000000\n",
       "mean      107.378343\n",
       "std        18.012055\n",
       "min         5.000000\n",
       "25%        94.000000\n",
       "50%       105.000000\n",
       "75%       117.000000\n",
       "max       180.000000\n",
       "Name: runtime_minutes, dtype: float64"
      ]
     },
     "execution_count": 1364,
     "metadata": {},
     "output_type": "execute_result"
    }
   ],
   "source": [
    "combined_df['runtime_minutes'].describe()"
   ]
  },
  {
   "cell_type": "code",
   "execution_count": 1365,
   "metadata": {},
   "outputs": [
    {
     "data": {
      "text/plain": [
       "averagerating\n",
       "6.6    77\n",
       "6.3    77\n",
       "6.5    69\n",
       "6.2    69\n",
       "6.4    64\n",
       "       ..\n",
       "2.6     1\n",
       "8.6     1\n",
       "1.9     1\n",
       "2.5     1\n",
       "2.1     1\n",
       "Name: count, Length: 66, dtype: int64"
      ]
     },
     "execution_count": 1365,
     "metadata": {},
     "output_type": "execute_result"
    }
   ],
   "source": [
    "combined_df['averagerating'].value_counts()"
   ]
  },
  {
   "cell_type": "code",
   "execution_count": 1366,
   "metadata": {},
   "outputs": [
    {
     "data": {
      "text/plain": [
       "numvotes\n",
       "5         4\n",
       "25        3\n",
       "6         2\n",
       "12        2\n",
       "127       2\n",
       "         ..\n",
       "118779    1\n",
       "100520    1\n",
       "61615     1\n",
       "98061     1\n",
       "85        1\n",
       "Name: count, Length: 1521, dtype: int64"
      ]
     },
     "execution_count": 1366,
     "metadata": {},
     "output_type": "execute_result"
    }
   ],
   "source": [
    "combined_df['numvotes'].value_counts()"
   ]
  },
  {
   "cell_type": "code",
   "execution_count": 1367,
   "metadata": {},
   "outputs": [],
   "source": [
    "combined_df = combined_df[combined_df['runtime_minutes']>30]"
   ]
  },
  {
   "cell_type": "code",
   "execution_count": 1368,
   "metadata": {},
   "outputs": [],
   "source": [
    "combined_df = combined_df[combined_df['numvotes']>=30]"
   ]
  },
  {
   "cell_type": "code",
   "execution_count": 1369,
   "metadata": {
    "scrolled": true
   },
   "outputs": [
    {
     "name": "stdout",
     "output_type": "stream",
     "text": [
      "<class 'pandas.core.frame.DataFrame'>\n",
      "Index: 1516 entries, 0 to 1540\n",
      "Data columns (total 9 columns):\n",
      " #   Column             Non-Null Count  Dtype  \n",
      "---  ------             --------------  -----  \n",
      " 0   release_date       1516 non-null   object \n",
      " 1   movie              1516 non-null   object \n",
      " 2   production_budget  1516 non-null   int64  \n",
      " 3   domestic_gross     1516 non-null   int64  \n",
      " 4   worldwide_gross    1516 non-null   int64  \n",
      " 5   runtime_minutes    1516 non-null   float64\n",
      " 6   genres             1516 non-null   object \n",
      " 7   averagerating      1516 non-null   float64\n",
      " 8   numvotes           1516 non-null   int64  \n",
      "dtypes: float64(2), int64(4), object(3)\n",
      "memory usage: 118.4+ KB\n"
     ]
    }
   ],
   "source": [
    "combined_df.info()"
   ]
  },
  {
   "cell_type": "code",
   "execution_count": 1370,
   "metadata": {},
   "outputs": [],
   "source": [
    "drop(['runtime_minutes','numvotes', 'domestic_gross'], combined_df)"
   ]
  },
  {
   "cell_type": "code",
   "execution_count": 1371,
   "metadata": {},
   "outputs": [
    {
     "name": "stdout",
     "output_type": "stream",
     "text": [
      "<class 'pandas.core.frame.DataFrame'>\n",
      "Index: 1516 entries, 0 to 1540\n",
      "Data columns (total 6 columns):\n",
      " #   Column             Non-Null Count  Dtype  \n",
      "---  ------             --------------  -----  \n",
      " 0   release_date       1516 non-null   object \n",
      " 1   movie              1516 non-null   object \n",
      " 2   production_budget  1516 non-null   int64  \n",
      " 3   worldwide_gross    1516 non-null   int64  \n",
      " 4   genres             1516 non-null   object \n",
      " 5   averagerating      1516 non-null   float64\n",
      "dtypes: float64(1), int64(2), object(3)\n",
      "memory usage: 82.9+ KB\n"
     ]
    }
   ],
   "source": [
    "combined_df.info()"
   ]
  },
  {
   "cell_type": "code",
   "execution_count": 1372,
   "metadata": {},
   "outputs": [],
   "source": [
    "combined_df['season'] = combined_df['release_date'].apply(lambda x: x[:3])"
   ]
  },
  {
   "cell_type": "code",
   "execution_count": 1373,
   "metadata": {},
   "outputs": [
    {
     "data": {
      "text/plain": [
       "season\n",
       "Dec    190\n",
       "Oct    166\n",
       "Nov    147\n",
       "Sep    146\n",
       "Aug    129\n",
       "Jul    128\n",
       "Mar    123\n",
       "Jun    120\n",
       "May    106\n",
       "Feb     98\n",
       "Apr     95\n",
       "Jan     68\n",
       "Name: count, dtype: int64"
      ]
     },
     "execution_count": 1373,
     "metadata": {},
     "output_type": "execute_result"
    }
   ],
   "source": [
    "combined_df['season'].value_counts()"
   ]
  },
  {
   "cell_type": "code",
   "execution_count": 1374,
   "metadata": {},
   "outputs": [],
   "source": [
    "season_dict = {'Jan':'Winter','Feb':'Winter','Dec':'Winter','Jun':'Summer','Jul':'Summer','Aug':'Summer',\n",
    "               'Sep':'Fall','Oct':'Fall','Nov':'Fall','Mar':'Spring','Apr':'Spring','May':'Spring'}"
   ]
  },
  {
   "cell_type": "code",
   "execution_count": 1375,
   "metadata": {},
   "outputs": [],
   "source": [
    "combined_df['season'] = combined_df['season'].apply(lambda x: season_dict[x])"
   ]
  },
  {
   "cell_type": "code",
   "execution_count": 1376,
   "metadata": {},
   "outputs": [
    {
     "data": {
      "text/html": [
       "<div>\n",
       "<style scoped>\n",
       "    .dataframe tbody tr th:only-of-type {\n",
       "        vertical-align: middle;\n",
       "    }\n",
       "\n",
       "    .dataframe tbody tr th {\n",
       "        vertical-align: top;\n",
       "    }\n",
       "\n",
       "    .dataframe thead th {\n",
       "        text-align: right;\n",
       "    }\n",
       "</style>\n",
       "<table border=\"1\" class=\"dataframe\">\n",
       "  <thead>\n",
       "    <tr style=\"text-align: right;\">\n",
       "      <th></th>\n",
       "      <th>release_date</th>\n",
       "      <th>movie</th>\n",
       "      <th>production_budget</th>\n",
       "      <th>worldwide_gross</th>\n",
       "      <th>genres</th>\n",
       "      <th>averagerating</th>\n",
       "      <th>season</th>\n",
       "    </tr>\n",
       "  </thead>\n",
       "  <tbody>\n",
       "    <tr>\n",
       "      <th>0</th>\n",
       "      <td>May 20, 2011</td>\n",
       "      <td>pirates of the caribbean: on stranger tides</td>\n",
       "      <td>410600000</td>\n",
       "      <td>1045663875</td>\n",
       "      <td>Action,Adventure,Fantasy</td>\n",
       "      <td>6.6</td>\n",
       "      <td>Spring</td>\n",
       "    </tr>\n",
       "    <tr>\n",
       "      <th>1</th>\n",
       "      <td>Jun 7, 2019</td>\n",
       "      <td>dark phoenix</td>\n",
       "      <td>350000000</td>\n",
       "      <td>149762350</td>\n",
       "      <td>Action,Adventure,Sci-Fi</td>\n",
       "      <td>6.0</td>\n",
       "      <td>Summer</td>\n",
       "    </tr>\n",
       "    <tr>\n",
       "      <th>2</th>\n",
       "      <td>May 1, 2015</td>\n",
       "      <td>avengers: age of ultron</td>\n",
       "      <td>330600000</td>\n",
       "      <td>1403013963</td>\n",
       "      <td>Action,Adventure,Sci-Fi</td>\n",
       "      <td>7.3</td>\n",
       "      <td>Spring</td>\n",
       "    </tr>\n",
       "    <tr>\n",
       "      <th>3</th>\n",
       "      <td>Apr 27, 2018</td>\n",
       "      <td>avengers: infinity war</td>\n",
       "      <td>300000000</td>\n",
       "      <td>2048134200</td>\n",
       "      <td>Action,Adventure,Sci-Fi</td>\n",
       "      <td>8.5</td>\n",
       "      <td>Spring</td>\n",
       "    </tr>\n",
       "    <tr>\n",
       "      <th>4</th>\n",
       "      <td>Nov 17, 2017</td>\n",
       "      <td>justice league</td>\n",
       "      <td>300000000</td>\n",
       "      <td>655945209</td>\n",
       "      <td>Action,Adventure,Fantasy</td>\n",
       "      <td>6.5</td>\n",
       "      <td>Fall</td>\n",
       "    </tr>\n",
       "    <tr>\n",
       "      <th>...</th>\n",
       "      <td>...</td>\n",
       "      <td>...</td>\n",
       "      <td>...</td>\n",
       "      <td>...</td>\n",
       "      <td>...</td>\n",
       "      <td>...</td>\n",
       "      <td>...</td>\n",
       "    </tr>\n",
       "    <tr>\n",
       "      <th>1535</th>\n",
       "      <td>Oct 25, 2013</td>\n",
       "      <td>her cry: la llorona investigation</td>\n",
       "      <td>35000</td>\n",
       "      <td>0</td>\n",
       "      <td>Horror</td>\n",
       "      <td>3.7</td>\n",
       "      <td>Fall</td>\n",
       "    </tr>\n",
       "    <tr>\n",
       "      <th>1537</th>\n",
       "      <td>Sep 1, 2015</td>\n",
       "      <td>exeter</td>\n",
       "      <td>25000</td>\n",
       "      <td>489792</td>\n",
       "      <td>Horror,Mystery,Thriller</td>\n",
       "      <td>4.5</td>\n",
       "      <td>Fall</td>\n",
       "    </tr>\n",
       "    <tr>\n",
       "      <th>1538</th>\n",
       "      <td>Dec 1, 2015</td>\n",
       "      <td>dutch kills</td>\n",
       "      <td>25000</td>\n",
       "      <td>0</td>\n",
       "      <td>Crime,Drama,Thriller</td>\n",
       "      <td>5.1</td>\n",
       "      <td>Winter</td>\n",
       "    </tr>\n",
       "    <tr>\n",
       "      <th>1539</th>\n",
       "      <td>Nov 25, 2011</td>\n",
       "      <td>the ridges</td>\n",
       "      <td>17300</td>\n",
       "      <td>0</td>\n",
       "      <td>Drama,Horror,Thriller</td>\n",
       "      <td>2.9</td>\n",
       "      <td>Fall</td>\n",
       "    </tr>\n",
       "    <tr>\n",
       "      <th>1540</th>\n",
       "      <td>Dec 31, 2014</td>\n",
       "      <td>stories of our lives</td>\n",
       "      <td>15000</td>\n",
       "      <td>0</td>\n",
       "      <td>Drama</td>\n",
       "      <td>7.5</td>\n",
       "      <td>Winter</td>\n",
       "    </tr>\n",
       "  </tbody>\n",
       "</table>\n",
       "<p>1516 rows × 7 columns</p>\n",
       "</div>"
      ],
      "text/plain": [
       "      release_date                                        movie  \\\n",
       "0     May 20, 2011  pirates of the caribbean: on stranger tides   \n",
       "1      Jun 7, 2019                                 dark phoenix   \n",
       "2      May 1, 2015                      avengers: age of ultron   \n",
       "3     Apr 27, 2018                       avengers: infinity war   \n",
       "4     Nov 17, 2017                               justice league   \n",
       "...            ...                                          ...   \n",
       "1535  Oct 25, 2013            her cry: la llorona investigation   \n",
       "1537   Sep 1, 2015                                       exeter   \n",
       "1538   Dec 1, 2015                                  dutch kills   \n",
       "1539  Nov 25, 2011                                   the ridges   \n",
       "1540  Dec 31, 2014                         stories of our lives   \n",
       "\n",
       "      production_budget  worldwide_gross                    genres  \\\n",
       "0             410600000       1045663875  Action,Adventure,Fantasy   \n",
       "1             350000000        149762350   Action,Adventure,Sci-Fi   \n",
       "2             330600000       1403013963   Action,Adventure,Sci-Fi   \n",
       "3             300000000       2048134200   Action,Adventure,Sci-Fi   \n",
       "4             300000000        655945209  Action,Adventure,Fantasy   \n",
       "...                 ...              ...                       ...   \n",
       "1535              35000                0                    Horror   \n",
       "1537              25000           489792   Horror,Mystery,Thriller   \n",
       "1538              25000                0      Crime,Drama,Thriller   \n",
       "1539              17300                0     Drama,Horror,Thriller   \n",
       "1540              15000                0                     Drama   \n",
       "\n",
       "      averagerating  season  \n",
       "0               6.6  Spring  \n",
       "1               6.0  Summer  \n",
       "2               7.3  Spring  \n",
       "3               8.5  Spring  \n",
       "4               6.5    Fall  \n",
       "...             ...     ...  \n",
       "1535            3.7    Fall  \n",
       "1537            4.5    Fall  \n",
       "1538            5.1  Winter  \n",
       "1539            2.9    Fall  \n",
       "1540            7.5  Winter  \n",
       "\n",
       "[1516 rows x 7 columns]"
      ]
     },
     "execution_count": 1376,
     "metadata": {},
     "output_type": "execute_result"
    }
   ],
   "source": [
    "combined_df"
   ]
  },
  {
   "cell_type": "code",
   "execution_count": 1377,
   "metadata": {},
   "outputs": [],
   "source": [
    "drop(['release_date'],combined_df)"
   ]
  },
  {
   "cell_type": "code",
   "execution_count": 1378,
   "metadata": {},
   "outputs": [
    {
     "data": {
      "text/html": [
       "<div>\n",
       "<style scoped>\n",
       "    .dataframe tbody tr th:only-of-type {\n",
       "        vertical-align: middle;\n",
       "    }\n",
       "\n",
       "    .dataframe tbody tr th {\n",
       "        vertical-align: top;\n",
       "    }\n",
       "\n",
       "    .dataframe thead th {\n",
       "        text-align: right;\n",
       "    }\n",
       "</style>\n",
       "<table border=\"1\" class=\"dataframe\">\n",
       "  <thead>\n",
       "    <tr style=\"text-align: right;\">\n",
       "      <th></th>\n",
       "      <th>movie</th>\n",
       "      <th>production_budget</th>\n",
       "      <th>worldwide_gross</th>\n",
       "      <th>genres</th>\n",
       "      <th>averagerating</th>\n",
       "      <th>season</th>\n",
       "    </tr>\n",
       "  </thead>\n",
       "  <tbody>\n",
       "    <tr>\n",
       "      <th>0</th>\n",
       "      <td>pirates of the caribbean: on stranger tides</td>\n",
       "      <td>410600000</td>\n",
       "      <td>1045663875</td>\n",
       "      <td>Action,Adventure,Fantasy</td>\n",
       "      <td>6.6</td>\n",
       "      <td>Spring</td>\n",
       "    </tr>\n",
       "    <tr>\n",
       "      <th>1</th>\n",
       "      <td>dark phoenix</td>\n",
       "      <td>350000000</td>\n",
       "      <td>149762350</td>\n",
       "      <td>Action,Adventure,Sci-Fi</td>\n",
       "      <td>6.0</td>\n",
       "      <td>Summer</td>\n",
       "    </tr>\n",
       "    <tr>\n",
       "      <th>2</th>\n",
       "      <td>avengers: age of ultron</td>\n",
       "      <td>330600000</td>\n",
       "      <td>1403013963</td>\n",
       "      <td>Action,Adventure,Sci-Fi</td>\n",
       "      <td>7.3</td>\n",
       "      <td>Spring</td>\n",
       "    </tr>\n",
       "    <tr>\n",
       "      <th>3</th>\n",
       "      <td>avengers: infinity war</td>\n",
       "      <td>300000000</td>\n",
       "      <td>2048134200</td>\n",
       "      <td>Action,Adventure,Sci-Fi</td>\n",
       "      <td>8.5</td>\n",
       "      <td>Spring</td>\n",
       "    </tr>\n",
       "    <tr>\n",
       "      <th>4</th>\n",
       "      <td>justice league</td>\n",
       "      <td>300000000</td>\n",
       "      <td>655945209</td>\n",
       "      <td>Action,Adventure,Fantasy</td>\n",
       "      <td>6.5</td>\n",
       "      <td>Fall</td>\n",
       "    </tr>\n",
       "    <tr>\n",
       "      <th>...</th>\n",
       "      <td>...</td>\n",
       "      <td>...</td>\n",
       "      <td>...</td>\n",
       "      <td>...</td>\n",
       "      <td>...</td>\n",
       "      <td>...</td>\n",
       "    </tr>\n",
       "    <tr>\n",
       "      <th>1535</th>\n",
       "      <td>her cry: la llorona investigation</td>\n",
       "      <td>35000</td>\n",
       "      <td>0</td>\n",
       "      <td>Horror</td>\n",
       "      <td>3.7</td>\n",
       "      <td>Fall</td>\n",
       "    </tr>\n",
       "    <tr>\n",
       "      <th>1537</th>\n",
       "      <td>exeter</td>\n",
       "      <td>25000</td>\n",
       "      <td>489792</td>\n",
       "      <td>Horror,Mystery,Thriller</td>\n",
       "      <td>4.5</td>\n",
       "      <td>Fall</td>\n",
       "    </tr>\n",
       "    <tr>\n",
       "      <th>1538</th>\n",
       "      <td>dutch kills</td>\n",
       "      <td>25000</td>\n",
       "      <td>0</td>\n",
       "      <td>Crime,Drama,Thriller</td>\n",
       "      <td>5.1</td>\n",
       "      <td>Winter</td>\n",
       "    </tr>\n",
       "    <tr>\n",
       "      <th>1539</th>\n",
       "      <td>the ridges</td>\n",
       "      <td>17300</td>\n",
       "      <td>0</td>\n",
       "      <td>Drama,Horror,Thriller</td>\n",
       "      <td>2.9</td>\n",
       "      <td>Fall</td>\n",
       "    </tr>\n",
       "    <tr>\n",
       "      <th>1540</th>\n",
       "      <td>stories of our lives</td>\n",
       "      <td>15000</td>\n",
       "      <td>0</td>\n",
       "      <td>Drama</td>\n",
       "      <td>7.5</td>\n",
       "      <td>Winter</td>\n",
       "    </tr>\n",
       "  </tbody>\n",
       "</table>\n",
       "<p>1516 rows × 6 columns</p>\n",
       "</div>"
      ],
      "text/plain": [
       "                                            movie  production_budget  \\\n",
       "0     pirates of the caribbean: on stranger tides          410600000   \n",
       "1                                    dark phoenix          350000000   \n",
       "2                         avengers: age of ultron          330600000   \n",
       "3                          avengers: infinity war          300000000   \n",
       "4                                  justice league          300000000   \n",
       "...                                           ...                ...   \n",
       "1535            her cry: la llorona investigation              35000   \n",
       "1537                                       exeter              25000   \n",
       "1538                                  dutch kills              25000   \n",
       "1539                                   the ridges              17300   \n",
       "1540                         stories of our lives              15000   \n",
       "\n",
       "      worldwide_gross                    genres  averagerating  season  \n",
       "0          1045663875  Action,Adventure,Fantasy            6.6  Spring  \n",
       "1           149762350   Action,Adventure,Sci-Fi            6.0  Summer  \n",
       "2          1403013963   Action,Adventure,Sci-Fi            7.3  Spring  \n",
       "3          2048134200   Action,Adventure,Sci-Fi            8.5  Spring  \n",
       "4           655945209  Action,Adventure,Fantasy            6.5    Fall  \n",
       "...               ...                       ...            ...     ...  \n",
       "1535                0                    Horror            3.7    Fall  \n",
       "1537           489792   Horror,Mystery,Thriller            4.5    Fall  \n",
       "1538                0      Crime,Drama,Thriller            5.1  Winter  \n",
       "1539                0     Drama,Horror,Thriller            2.9    Fall  \n",
       "1540                0                     Drama            7.5  Winter  \n",
       "\n",
       "[1516 rows x 6 columns]"
      ]
     },
     "execution_count": 1378,
     "metadata": {},
     "output_type": "execute_result"
    }
   ],
   "source": [
    "combined_df"
   ]
  },
  {
   "cell_type": "code",
   "execution_count": 1379,
   "metadata": {},
   "outputs": [
    {
     "data": {
      "text/plain": [
       "count    1.516000e+03\n",
       "mean     4.476091e+07\n",
       "std      5.599334e+07\n",
       "min      1.500000e+04\n",
       "25%      8.000000e+06\n",
       "50%      2.400000e+07\n",
       "75%      5.500000e+07\n",
       "max      4.106000e+08\n",
       "Name: production_budget, dtype: float64"
      ]
     },
     "execution_count": 1379,
     "metadata": {},
     "output_type": "execute_result"
    }
   ],
   "source": [
    "combined_df['production_budget'].describe()"
   ]
  },
  {
   "cell_type": "code",
   "execution_count": 1380,
   "metadata": {},
   "outputs": [],
   "source": [
    "bins = [14999, 82132000, 164249000, 246366000, 328483000, 410600000]\n",
    "\n",
    "combined_df['production_budget'] = pd.cut(combined_df['production_budget'], bins)"
   ]
  },
  {
   "cell_type": "code",
   "execution_count": 1381,
   "metadata": {
    "scrolled": true
   },
   "outputs": [
    {
     "data": {
      "text/html": [
       "<div>\n",
       "<style scoped>\n",
       "    .dataframe tbody tr th:only-of-type {\n",
       "        vertical-align: middle;\n",
       "    }\n",
       "\n",
       "    .dataframe tbody tr th {\n",
       "        vertical-align: top;\n",
       "    }\n",
       "\n",
       "    .dataframe thead th {\n",
       "        text-align: right;\n",
       "    }\n",
       "</style>\n",
       "<table border=\"1\" class=\"dataframe\">\n",
       "  <thead>\n",
       "    <tr style=\"text-align: right;\">\n",
       "      <th></th>\n",
       "      <th>movie</th>\n",
       "      <th>production_budget</th>\n",
       "      <th>worldwide_gross</th>\n",
       "      <th>genres</th>\n",
       "      <th>averagerating</th>\n",
       "      <th>season</th>\n",
       "    </tr>\n",
       "  </thead>\n",
       "  <tbody>\n",
       "    <tr>\n",
       "      <th>0</th>\n",
       "      <td>pirates of the caribbean: on stranger tides</td>\n",
       "      <td>(328483000, 410600000]</td>\n",
       "      <td>1045663875</td>\n",
       "      <td>Action,Adventure,Fantasy</td>\n",
       "      <td>6.6</td>\n",
       "      <td>Spring</td>\n",
       "    </tr>\n",
       "    <tr>\n",
       "      <th>1</th>\n",
       "      <td>dark phoenix</td>\n",
       "      <td>(328483000, 410600000]</td>\n",
       "      <td>149762350</td>\n",
       "      <td>Action,Adventure,Sci-Fi</td>\n",
       "      <td>6.0</td>\n",
       "      <td>Summer</td>\n",
       "    </tr>\n",
       "    <tr>\n",
       "      <th>2</th>\n",
       "      <td>avengers: age of ultron</td>\n",
       "      <td>(328483000, 410600000]</td>\n",
       "      <td>1403013963</td>\n",
       "      <td>Action,Adventure,Sci-Fi</td>\n",
       "      <td>7.3</td>\n",
       "      <td>Spring</td>\n",
       "    </tr>\n",
       "    <tr>\n",
       "      <th>3</th>\n",
       "      <td>avengers: infinity war</td>\n",
       "      <td>(246366000, 328483000]</td>\n",
       "      <td>2048134200</td>\n",
       "      <td>Action,Adventure,Sci-Fi</td>\n",
       "      <td>8.5</td>\n",
       "      <td>Spring</td>\n",
       "    </tr>\n",
       "    <tr>\n",
       "      <th>4</th>\n",
       "      <td>justice league</td>\n",
       "      <td>(246366000, 328483000]</td>\n",
       "      <td>655945209</td>\n",
       "      <td>Action,Adventure,Fantasy</td>\n",
       "      <td>6.5</td>\n",
       "      <td>Fall</td>\n",
       "    </tr>\n",
       "    <tr>\n",
       "      <th>...</th>\n",
       "      <td>...</td>\n",
       "      <td>...</td>\n",
       "      <td>...</td>\n",
       "      <td>...</td>\n",
       "      <td>...</td>\n",
       "      <td>...</td>\n",
       "    </tr>\n",
       "    <tr>\n",
       "      <th>1535</th>\n",
       "      <td>her cry: la llorona investigation</td>\n",
       "      <td>(14999, 82132000]</td>\n",
       "      <td>0</td>\n",
       "      <td>Horror</td>\n",
       "      <td>3.7</td>\n",
       "      <td>Fall</td>\n",
       "    </tr>\n",
       "    <tr>\n",
       "      <th>1537</th>\n",
       "      <td>exeter</td>\n",
       "      <td>(14999, 82132000]</td>\n",
       "      <td>489792</td>\n",
       "      <td>Horror,Mystery,Thriller</td>\n",
       "      <td>4.5</td>\n",
       "      <td>Fall</td>\n",
       "    </tr>\n",
       "    <tr>\n",
       "      <th>1538</th>\n",
       "      <td>dutch kills</td>\n",
       "      <td>(14999, 82132000]</td>\n",
       "      <td>0</td>\n",
       "      <td>Crime,Drama,Thriller</td>\n",
       "      <td>5.1</td>\n",
       "      <td>Winter</td>\n",
       "    </tr>\n",
       "    <tr>\n",
       "      <th>1539</th>\n",
       "      <td>the ridges</td>\n",
       "      <td>(14999, 82132000]</td>\n",
       "      <td>0</td>\n",
       "      <td>Drama,Horror,Thriller</td>\n",
       "      <td>2.9</td>\n",
       "      <td>Fall</td>\n",
       "    </tr>\n",
       "    <tr>\n",
       "      <th>1540</th>\n",
       "      <td>stories of our lives</td>\n",
       "      <td>(14999, 82132000]</td>\n",
       "      <td>0</td>\n",
       "      <td>Drama</td>\n",
       "      <td>7.5</td>\n",
       "      <td>Winter</td>\n",
       "    </tr>\n",
       "  </tbody>\n",
       "</table>\n",
       "<p>1516 rows × 6 columns</p>\n",
       "</div>"
      ],
      "text/plain": [
       "                                            movie       production_budget  \\\n",
       "0     pirates of the caribbean: on stranger tides  (328483000, 410600000]   \n",
       "1                                    dark phoenix  (328483000, 410600000]   \n",
       "2                         avengers: age of ultron  (328483000, 410600000]   \n",
       "3                          avengers: infinity war  (246366000, 328483000]   \n",
       "4                                  justice league  (246366000, 328483000]   \n",
       "...                                           ...                     ...   \n",
       "1535            her cry: la llorona investigation       (14999, 82132000]   \n",
       "1537                                       exeter       (14999, 82132000]   \n",
       "1538                                  dutch kills       (14999, 82132000]   \n",
       "1539                                   the ridges       (14999, 82132000]   \n",
       "1540                         stories of our lives       (14999, 82132000]   \n",
       "\n",
       "      worldwide_gross                    genres  averagerating  season  \n",
       "0          1045663875  Action,Adventure,Fantasy            6.6  Spring  \n",
       "1           149762350   Action,Adventure,Sci-Fi            6.0  Summer  \n",
       "2          1403013963   Action,Adventure,Sci-Fi            7.3  Spring  \n",
       "3          2048134200   Action,Adventure,Sci-Fi            8.5  Spring  \n",
       "4           655945209  Action,Adventure,Fantasy            6.5    Fall  \n",
       "...               ...                       ...            ...     ...  \n",
       "1535                0                    Horror            3.7    Fall  \n",
       "1537           489792   Horror,Mystery,Thriller            4.5    Fall  \n",
       "1538                0      Crime,Drama,Thriller            5.1  Winter  \n",
       "1539                0     Drama,Horror,Thriller            2.9    Fall  \n",
       "1540                0                     Drama            7.5  Winter  \n",
       "\n",
       "[1516 rows x 6 columns]"
      ]
     },
     "execution_count": 1381,
     "metadata": {},
     "output_type": "execute_result"
    }
   ],
   "source": [
    "combined_df"
   ]
  },
  {
   "cell_type": "code",
   "execution_count": 1382,
   "metadata": {},
   "outputs": [
    {
     "data": {
      "text/plain": [
       "genres\n",
       "Adventure,Animation,Comedy    69\n",
       "Comedy                        57\n",
       "Drama                         55\n",
       "Action,Adventure,Sci-Fi       53\n",
       "Comedy,Drama,Romance          52\n",
       "                              ..\n",
       "Action,Fantasy,War             1\n",
       "Biography,Drama,Mystery        1\n",
       "Sci-Fi,Thriller                1\n",
       "Fantasy                        1\n",
       "Biography,Documentary          1\n",
       "Name: count, Length: 229, dtype: int64"
      ]
     },
     "execution_count": 1382,
     "metadata": {},
     "output_type": "execute_result"
    }
   ],
   "source": [
    "combined_df['genres'].value_counts()"
   ]
  },
  {
   "cell_type": "code",
   "execution_count": 1383,
   "metadata": {},
   "outputs": [],
   "source": [
    "genre_df = combined_df[['worldwide_gross', 'genres']]"
   ]
  },
  {
   "cell_type": "code",
   "execution_count": 1384,
   "metadata": {},
   "outputs": [
    {
     "data": {
      "text/html": [
       "<div>\n",
       "<style scoped>\n",
       "    .dataframe tbody tr th:only-of-type {\n",
       "        vertical-align: middle;\n",
       "    }\n",
       "\n",
       "    .dataframe tbody tr th {\n",
       "        vertical-align: top;\n",
       "    }\n",
       "\n",
       "    .dataframe thead th {\n",
       "        text-align: right;\n",
       "    }\n",
       "</style>\n",
       "<table border=\"1\" class=\"dataframe\">\n",
       "  <thead>\n",
       "    <tr style=\"text-align: right;\">\n",
       "      <th></th>\n",
       "      <th>worldwide_gross</th>\n",
       "      <th>genres</th>\n",
       "    </tr>\n",
       "  </thead>\n",
       "  <tbody>\n",
       "    <tr>\n",
       "      <th>0</th>\n",
       "      <td>1045663875</td>\n",
       "      <td>Action,Adventure,Fantasy</td>\n",
       "    </tr>\n",
       "    <tr>\n",
       "      <th>1</th>\n",
       "      <td>149762350</td>\n",
       "      <td>Action,Adventure,Sci-Fi</td>\n",
       "    </tr>\n",
       "    <tr>\n",
       "      <th>2</th>\n",
       "      <td>1403013963</td>\n",
       "      <td>Action,Adventure,Sci-Fi</td>\n",
       "    </tr>\n",
       "    <tr>\n",
       "      <th>3</th>\n",
       "      <td>2048134200</td>\n",
       "      <td>Action,Adventure,Sci-Fi</td>\n",
       "    </tr>\n",
       "    <tr>\n",
       "      <th>4</th>\n",
       "      <td>655945209</td>\n",
       "      <td>Action,Adventure,Fantasy</td>\n",
       "    </tr>\n",
       "    <tr>\n",
       "      <th>...</th>\n",
       "      <td>...</td>\n",
       "      <td>...</td>\n",
       "    </tr>\n",
       "    <tr>\n",
       "      <th>1535</th>\n",
       "      <td>0</td>\n",
       "      <td>Horror</td>\n",
       "    </tr>\n",
       "    <tr>\n",
       "      <th>1537</th>\n",
       "      <td>489792</td>\n",
       "      <td>Horror,Mystery,Thriller</td>\n",
       "    </tr>\n",
       "    <tr>\n",
       "      <th>1538</th>\n",
       "      <td>0</td>\n",
       "      <td>Crime,Drama,Thriller</td>\n",
       "    </tr>\n",
       "    <tr>\n",
       "      <th>1539</th>\n",
       "      <td>0</td>\n",
       "      <td>Drama,Horror,Thriller</td>\n",
       "    </tr>\n",
       "    <tr>\n",
       "      <th>1540</th>\n",
       "      <td>0</td>\n",
       "      <td>Drama</td>\n",
       "    </tr>\n",
       "  </tbody>\n",
       "</table>\n",
       "<p>1516 rows × 2 columns</p>\n",
       "</div>"
      ],
      "text/plain": [
       "      worldwide_gross                    genres\n",
       "0          1045663875  Action,Adventure,Fantasy\n",
       "1           149762350   Action,Adventure,Sci-Fi\n",
       "2          1403013963   Action,Adventure,Sci-Fi\n",
       "3          2048134200   Action,Adventure,Sci-Fi\n",
       "4           655945209  Action,Adventure,Fantasy\n",
       "...               ...                       ...\n",
       "1535                0                    Horror\n",
       "1537           489792   Horror,Mystery,Thriller\n",
       "1538                0      Crime,Drama,Thriller\n",
       "1539                0     Drama,Horror,Thriller\n",
       "1540                0                     Drama\n",
       "\n",
       "[1516 rows x 2 columns]"
      ]
     },
     "execution_count": 1384,
     "metadata": {},
     "output_type": "execute_result"
    }
   ],
   "source": [
    "genre_df"
   ]
  },
  {
   "cell_type": "code",
   "execution_count": 1385,
   "metadata": {},
   "outputs": [],
   "source": [
    "# https://datascience.stackexchange.com/questions/74277/extract-seperated-value-from-columns\n",
    "\n",
    "genre_df = genre_df.assign(genre1 = genre_df.genres.str.split(\",\", expand = True).iloc[:,:1],\n",
    "                           genre2 = genre_df.genres.str.split(\",\", expand = True).iloc[:,1:2],\n",
    "                           genre3 = genre_df.genres.str.split(\",\", expand = True).iloc[:,2:3])"
   ]
  },
  {
   "cell_type": "code",
   "execution_count": 1386,
   "metadata": {},
   "outputs": [],
   "source": [
    "drop(['genres'],genre_df)"
   ]
  },
  {
   "cell_type": "code",
   "execution_count": null,
   "metadata": {},
   "outputs": [],
   "source": []
  },
  {
   "cell_type": "code",
   "execution_count": 1387,
   "metadata": {},
   "outputs": [],
   "source": [
    "lst_1 = list(genre_df['genre1'].unique())"
   ]
  },
  {
   "cell_type": "code",
   "execution_count": 1388,
   "metadata": {},
   "outputs": [],
   "source": [
    "lst_2 = list(genre_df['genre2'].unique())"
   ]
  },
  {
   "cell_type": "code",
   "execution_count": 1389,
   "metadata": {},
   "outputs": [],
   "source": [
    "lst_3 = list(genre_df['genre3'].unique())"
   ]
  },
  {
   "cell_type": "code",
   "execution_count": 1390,
   "metadata": {},
   "outputs": [],
   "source": [
    "lst_1.extend(lst_2)\n",
    "lst_1.extend(lst_3)"
   ]
  },
  {
   "cell_type": "code",
   "execution_count": 1391,
   "metadata": {},
   "outputs": [],
   "source": [
    "genre_unique_lst = list(set(lst_1))"
   ]
  },
  {
   "cell_type": "code",
   "execution_count": 1392,
   "metadata": {},
   "outputs": [
    {
     "data": {
      "text/plain": [
       "['Western',\n",
       " 'Fantasy',\n",
       " 'History',\n",
       " 'Biography',\n",
       " 'Animation',\n",
       " 'Thriller',\n",
       " 'Musical',\n",
       " None,\n",
       " 'Adventure',\n",
       " 'Family',\n",
       " 'Documentary',\n",
       " 'War',\n",
       " 'Sci-Fi',\n",
       " 'Sport',\n",
       " 'Horror',\n",
       " 'Music',\n",
       " 'Mystery',\n",
       " 'Romance',\n",
       " 'Action',\n",
       " 'Comedy',\n",
       " 'Drama',\n",
       " 'Crime']"
      ]
     },
     "execution_count": 1392,
     "metadata": {},
     "output_type": "execute_result"
    }
   ],
   "source": [
    "genre_unique_lst"
   ]
  },
  {
   "cell_type": "code",
   "execution_count": 1393,
   "metadata": {},
   "outputs": [],
   "source": [
    "genre_dict = dict([(x,0) for x in genre_unique_lst])"
   ]
  },
  {
   "cell_type": "code",
   "execution_count": 1394,
   "metadata": {},
   "outputs": [
    {
     "data": {
      "text/plain": [
       "{'Western': 0,\n",
       " 'Fantasy': 0,\n",
       " 'History': 0,\n",
       " 'Biography': 0,\n",
       " 'Animation': 0,\n",
       " 'Thriller': 0,\n",
       " 'Musical': 0,\n",
       " None: 0,\n",
       " 'Adventure': 0,\n",
       " 'Family': 0,\n",
       " 'Documentary': 0,\n",
       " 'War': 0,\n",
       " 'Sci-Fi': 0,\n",
       " 'Sport': 0,\n",
       " 'Horror': 0,\n",
       " 'Music': 0,\n",
       " 'Mystery': 0,\n",
       " 'Romance': 0,\n",
       " 'Action': 0,\n",
       " 'Comedy': 0,\n",
       " 'Drama': 0,\n",
       " 'Crime': 0}"
      ]
     },
     "execution_count": 1394,
     "metadata": {},
     "output_type": "execute_result"
    }
   ],
   "source": [
    "genre_dict"
   ]
  },
  {
   "cell_type": "code",
   "execution_count": 1395,
   "metadata": {
    "scrolled": true
   },
   "outputs": [
    {
     "data": {
      "text/html": [
       "<div>\n",
       "<style scoped>\n",
       "    .dataframe tbody tr th:only-of-type {\n",
       "        vertical-align: middle;\n",
       "    }\n",
       "\n",
       "    .dataframe tbody tr th {\n",
       "        vertical-align: top;\n",
       "    }\n",
       "\n",
       "    .dataframe thead th {\n",
       "        text-align: right;\n",
       "    }\n",
       "</style>\n",
       "<table border=\"1\" class=\"dataframe\">\n",
       "  <thead>\n",
       "    <tr style=\"text-align: right;\">\n",
       "      <th></th>\n",
       "      <th>worldwide_gross</th>\n",
       "      <th>genre1</th>\n",
       "      <th>genre2</th>\n",
       "      <th>genre3</th>\n",
       "    </tr>\n",
       "  </thead>\n",
       "  <tbody>\n",
       "    <tr>\n",
       "      <th>0</th>\n",
       "      <td>1045663875</td>\n",
       "      <td>Action</td>\n",
       "      <td>Adventure</td>\n",
       "      <td>Fantasy</td>\n",
       "    </tr>\n",
       "    <tr>\n",
       "      <th>1</th>\n",
       "      <td>149762350</td>\n",
       "      <td>Action</td>\n",
       "      <td>Adventure</td>\n",
       "      <td>Sci-Fi</td>\n",
       "    </tr>\n",
       "    <tr>\n",
       "      <th>2</th>\n",
       "      <td>1403013963</td>\n",
       "      <td>Action</td>\n",
       "      <td>Adventure</td>\n",
       "      <td>Sci-Fi</td>\n",
       "    </tr>\n",
       "    <tr>\n",
       "      <th>3</th>\n",
       "      <td>2048134200</td>\n",
       "      <td>Action</td>\n",
       "      <td>Adventure</td>\n",
       "      <td>Sci-Fi</td>\n",
       "    </tr>\n",
       "    <tr>\n",
       "      <th>4</th>\n",
       "      <td>655945209</td>\n",
       "      <td>Action</td>\n",
       "      <td>Adventure</td>\n",
       "      <td>Fantasy</td>\n",
       "    </tr>\n",
       "    <tr>\n",
       "      <th>...</th>\n",
       "      <td>...</td>\n",
       "      <td>...</td>\n",
       "      <td>...</td>\n",
       "      <td>...</td>\n",
       "    </tr>\n",
       "    <tr>\n",
       "      <th>1535</th>\n",
       "      <td>0</td>\n",
       "      <td>Horror</td>\n",
       "      <td>None</td>\n",
       "      <td>None</td>\n",
       "    </tr>\n",
       "    <tr>\n",
       "      <th>1537</th>\n",
       "      <td>489792</td>\n",
       "      <td>Horror</td>\n",
       "      <td>Mystery</td>\n",
       "      <td>Thriller</td>\n",
       "    </tr>\n",
       "    <tr>\n",
       "      <th>1538</th>\n",
       "      <td>0</td>\n",
       "      <td>Crime</td>\n",
       "      <td>Drama</td>\n",
       "      <td>Thriller</td>\n",
       "    </tr>\n",
       "    <tr>\n",
       "      <th>1539</th>\n",
       "      <td>0</td>\n",
       "      <td>Drama</td>\n",
       "      <td>Horror</td>\n",
       "      <td>Thriller</td>\n",
       "    </tr>\n",
       "    <tr>\n",
       "      <th>1540</th>\n",
       "      <td>0</td>\n",
       "      <td>Drama</td>\n",
       "      <td>None</td>\n",
       "      <td>None</td>\n",
       "    </tr>\n",
       "  </tbody>\n",
       "</table>\n",
       "<p>1516 rows × 4 columns</p>\n",
       "</div>"
      ],
      "text/plain": [
       "      worldwide_gross  genre1     genre2    genre3\n",
       "0          1045663875  Action  Adventure   Fantasy\n",
       "1           149762350  Action  Adventure    Sci-Fi\n",
       "2          1403013963  Action  Adventure    Sci-Fi\n",
       "3          2048134200  Action  Adventure    Sci-Fi\n",
       "4           655945209  Action  Adventure   Fantasy\n",
       "...               ...     ...        ...       ...\n",
       "1535                0  Horror       None      None\n",
       "1537           489792  Horror    Mystery  Thriller\n",
       "1538                0   Crime      Drama  Thriller\n",
       "1539                0   Drama     Horror  Thriller\n",
       "1540                0   Drama       None      None\n",
       "\n",
       "[1516 rows x 4 columns]"
      ]
     },
     "execution_count": 1395,
     "metadata": {},
     "output_type": "execute_result"
    }
   ],
   "source": [
    "genre_df"
   ]
  },
  {
   "cell_type": "code",
   "execution_count": 1396,
   "metadata": {},
   "outputs": [],
   "source": [
    "for i in genre_df.index:\n",
    "    genre_dict[genre_df['genre1'][i]] += genre_df['worldwide_gross'][i]\n",
    "    genre_dict[genre_df['genre2'][i]] += genre_df['worldwide_gross'][i]\n",
    "    genre_dict[genre_df['genre3'][i]] += genre_df['worldwide_gross'][i]"
   ]
  },
  {
   "cell_type": "code",
   "execution_count": 1399,
   "metadata": {},
   "outputs": [],
   "source": [
    "del genre_dict[None]"
   ]
  },
  {
   "cell_type": "code",
   "execution_count": 1400,
   "metadata": {},
   "outputs": [
    {
     "data": {
      "text/plain": [
       "{'Western': 1237986930,\n",
       " 'Fantasy': 29470550564,\n",
       " 'History': 3425426210,\n",
       " 'Biography': 10945969415,\n",
       " 'Animation': 38938423745,\n",
       " 'Thriller': 29874224730,\n",
       " 'Musical': 1848993929,\n",
       " 'Adventure': 124418626319,\n",
       " 'Family': 18257668444,\n",
       " 'Documentary': 569782036,\n",
       " 'War': 982800439,\n",
       " 'Sci-Fi': 46161508510,\n",
       " 'Sport': 1751692678,\n",
       " 'Horror': 12999715047,\n",
       " 'Music': 4163914830,\n",
       " 'Mystery': 11395934700,\n",
       " 'Romance': 13536140958,\n",
       " 'Action': 108285467135,\n",
       " 'Comedy': 70525473874,\n",
       " 'Drama': 53466534124,\n",
       " 'Crime': 19077308101}"
      ]
     },
     "execution_count": 1400,
     "metadata": {},
     "output_type": "execute_result"
    }
   ],
   "source": [
    "genre_dict"
   ]
  },
  {
   "cell_type": "code",
   "execution_count": 1404,
   "metadata": {},
   "outputs": [],
   "source": [
    "genre_dict = dict(sorted(genre_dict.items(), key=lambda item: item[1], reverse=True))"
   ]
  },
  {
   "cell_type": "code",
   "execution_count": 1411,
   "metadata": {
    "scrolled": true
   },
   "outputs": [],
   "source": [
    "top_5_genre = dict(list(genre_dict.items())[:5])"
   ]
  },
  {
   "cell_type": "code",
   "execution_count": 1412,
   "metadata": {},
   "outputs": [
    {
     "data": {
      "image/png": "[encoded data removed]",
      "text/plain": [
       "<Figure size 432x288 with 1 Axes>"
      ]
     },
     "metadata": {
      "needs_background": "light"
     },
     "output_type": "display_data"
    }
   ],
   "source": [
    "plt.bar(*zip(*top_5_genre.items()))\n",
    "plt.show()"
   ]
  },
  {
   "cell_type": "code",
   "execution_count": null,
   "metadata": {},
   "outputs": [],
   "source": []
  },
  {
   "cell_type": "code",
   "execution_count": 1423,
   "metadata": {},
   "outputs": [],
   "source": [
    "season_gross = combined_df.groupby('season')[['worldwide_gross']].sum().sort_values(by='worldwide_gross',ascending=False)"
   ]
  },
  {
   "cell_type": "code",
   "execution_count": 1424,
   "metadata": {},
   "outputs": [],
   "source": [
    "season_gross = season_gross.reset_index()"
   ]
  },
  {
   "cell_type": "code",
   "execution_count": 1428,
   "metadata": {},
   "outputs": [
    {
     "data": {
      "image/png": "[encoded data removed]",
      "text/plain": [
       "<Figure size 1008x576 with 1 Axes>"
      ]
     },
     "metadata": {
      "needs_background": "light"
     },
     "output_type": "display_data"
    }
   ],
   "source": [
    "plt.figure(figsize=(14, 8))\n",
    "\n",
    "ax1 = sns.barplot(x=\"season\",  y='worldwide_gross', data=season_gross, color='lightblue')\n",
    "\n",
    "\n",
    "# add legend\n",
    "bar = mpatches.Patch(color='lightblue', label='Sum of Worldwide Gross')\n",
    "plt.legend(handles=[bar])\n",
    "\n",
    "for index, row in season_gross.iterrows():\n",
    "    ax1.text(row.name, row['worldwide_gross'], row['worldwide_gross'], color='black', ha=\"center\",\n",
    "             fontsize='x-large',va='bottom')\n",
    "\n",
    "# show the graph\n",
    "plt.title('Worldwide Gross by Season',fontsize=20)\n",
    "plt.xlabel('Season',fontsize=19)\n",
    "plt.ylabel('Sum of Worldwide Gross',fontsize=19)\n",
    "plt.tick_params(axis='x',labelsize=18)\n",
    "plt.tick_params(axis='y',labelsize=18)\n",
    "plt.show()\n",
    "\n",
    "\n",
    "#Used stackoverflow example to see how to do the labeling on the bar graph as well as the legend.\n",
    "#(https://stackoverflow.com/questions/43214978/how-to-display-custom-values-on-a-bar-plot)\n",
    "#(https://stackoverflow.com/questions/65272126/seaborn-how-to-add-legend-to-seaborn-barplot)"
   ]
  },
  {
   "cell_type": "code",
   "execution_count": 1437,
   "metadata": {},
   "outputs": [],
   "source": [
    "budget_rating = combined_df.groupby('production_budget')[['averagerating']].mean().sort_values(by='averagerating',ascending=False)"
   ]
  },
  {
   "cell_type": "code",
   "execution_count": 1438,
   "metadata": {},
   "outputs": [],
   "source": [
    "budget_rating = budget_rating.reset_index()"
   ]
  },
  {
   "cell_type": "code",
   "execution_count": 1446,
   "metadata": {},
   "outputs": [],
   "source": [
    "budget_rating['production_budget'] = budget_rating['production_budget'].astype(str)"
   ]
  },
  {
   "cell_type": "code",
   "execution_count": 1447,
   "metadata": {},
   "outputs": [
    {
     "data": {
      "image/png": "[encoded data removed]",
      "text/plain": [
       "<Figure size 1008x432 with 1 Axes>"
      ]
     },
     "metadata": {
      "needs_background": "light"
     },
     "output_type": "display_data"
    }
   ],
   "source": [
    "plt.figure(figsize=(14, 6))\n",
    "\n",
    "ax1 = sns.barplot(x=\"averagerating\",  y='production_budget', data=budget_rating, color='lightblue')\n",
    "\n",
    "ax1.bar_label(ax1.containers[0],size=14)\n",
    "# show the graph\n",
    "\n",
    "plt.title('Fatalities per Number of Engines',fontsize=20)\n",
    "plt.xlabel('Fatalities',fontsize=18)\n",
    "plt.ylabel('Number of Engines',fontsize=18)\n",
    "plt.tick_params(axis='y',labelsize=15)\n",
    "plt.tick_params(axis='x',labelsize=15)\n",
    "plt.show()\n",
    "\n",
    "#Another way to do bar label that i learned about on stackoverflow.\n",
    "#(https://stackoverflow.com/questions/49820549/labeling-horizontal-barplot-with-values-in-seaborn)"
   ]
  },
  {
   "cell_type": "markdown",
   "metadata": {},
   "source": [
    "# Exploratory Analysis"
   ]
  },
  {
   "cell_type": "markdown",
   "metadata": {},
   "source": []
  },
  {
   "cell_type": "code",
   "execution_count": null,
   "metadata": {},
   "outputs": [],
   "source": []
  },
  {
   "cell_type": "code",
   "execution_count": null,
   "metadata": {},
   "outputs": [],
   "source": []
  },
  {
   "cell_type": "code",
   "execution_count": null,
   "metadata": {},
   "outputs": [],
   "source": []
  },
  {
   "cell_type": "code",
   "execution_count": null,
   "metadata": {},
   "outputs": [],
   "source": []
  },
  {
   "cell_type": "code",
   "execution_count": null,
   "metadata": {},
   "outputs": [],
   "source": []
  },
  {
   "cell_type": "markdown",
   "metadata": {},
   "source": [
    "# Conclusions"
   ]
  },
  {
   "cell_type": "markdown",
   "metadata": {},
   "source": []
  },
  {
   "cell_type": "markdown",
   "metadata": {},
   "source": [
    "## Limitations"
   ]
  },
  {
   "cell_type": "markdown",
   "metadata": {},
   "source": []
  },
  {
   "cell_type": "markdown",
   "metadata": {},
   "source": [
    "## Recommendations"
   ]
  },
  {
   "cell_type": "markdown",
   "metadata": {},
   "source": []
  },
  {
   "cell_type": "markdown",
   "metadata": {},
   "source": [
    "## Next Steps"
   ]
  },
  {
   "cell_type": "markdown",
   "metadata": {},
   "source": []
  }
 ],
 "metadata": {
  "kernelspec": {
   "display_name": "Python (learn-env)",
   "language": "python",
   "name": "learn-env"
  },
  "language_info": {
   "codemirror_mode": {
    "name": "ipython",
    "version": 3
   },
   "file_extension": ".py",
   "mimetype": "text/x-python",
   "name": "python",
   "nbconvert_exporter": "python",
   "pygments_lexer": "ipython3",
   "version": "3.8.5"
  }
 },
 "nbformat": 4,
 "nbformat_minor": 4
}
