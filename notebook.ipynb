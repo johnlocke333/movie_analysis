{
 "cells": [
  {
   "cell_type": "markdown",
   "metadata": {},
   "source": [
    "## Final Project Submission\n",
    "\n",
    "- Student name: Jack Locke\n",
    "- Student pace: Self-paced\n",
    "- Instructor name: Mark Barbour"
   ]
  },
  {
   "cell_type": "markdown",
   "metadata": {},
   "source": [
    "# Movie Studio Data Analysis"
   ]
  },
  {
   "cell_type": "markdown",
   "metadata": {},
   "source": [
    "## Overview"
   ]
  },
  {
   "cell_type": "markdown",
   "metadata": {},
   "source": [
    "- 1. Business Understanding\n",
    "- 2. Data Understanding\n",
    "- 3. Data Preparation\n",
    "    - a. Merging Datasets\n",
    "    - b. Filtering Repeated Rows\n",
    "    - c. Dropping Unnecessary Columns\n",
    "    - d. Primary Columns Information\n",
    "    - e. Cleaning Primary Columns\n",
    "    - f. Creating Additional Columns for Analysis\n",
    "- 4. Exploratory Data Analysis\n",
    "    - a. Genre vs. ROI\n",
    "    - b. Released Month vs. ROI\n",
    "    - c. Director vs. ROI\n",
    "- 5. Conclusions\n",
    "    - a. Limitations\n",
    "    - b. Recommendations\n",
    "- 6. Next Steps"
   ]
  },
  {
   "cell_type": "markdown",
   "metadata": {},
   "source": [
    "## Business Understanding"
   ]
  },
  {
   "cell_type": "markdown",
   "metadata": {},
   "source": [
    "The business stakeholder is a company creating a new movie studio because they want to break into the film industry. My project analyzes films based on box office performance data. The aim is to find patterns and trends within the data in order to provide recommendations for what filmmakers should focus on when creating films for their new movie studio. I will focus on recommending what genres, release dates, and directors will best suit the stakeholder's business when compared to their respective ROIs (return on investment). The recommendations will help the business create films that will lead to profit for the company. My analysis will use the CRISP-DM (Cross-industry standard process for data mining) methodology. "
   ]
  },
  {
   "cell_type": "markdown",
   "metadata": {},
   "source": [
    "## Data Understanding"
   ]
  },
  {
   "cell_type": "markdown",
   "metadata": {},
   "source": [
    "For this project, I am working with datasets from two different resources. One dataset is from IMDB’s relational database. I will gather data about movie genres and their directors from this database. The genre and director information will come from two different tables within the relational database. The final dataset contains information on roughly 160,000 movies. \n",
    "\n",
    "The other dataset comes from a CSV file called Movie Budgets. This dataset contains information on movie release dates and finances, such as production budget and gross revenue. The dataset contains information on roughly 5,800 movies. \n",
    "\n",
    "The link attached will guide you to a github account containing the IMDB database and Movie Budgets CSV file with IMDB’s respective ERD (Entity Relationship Diagram), if you wish to clone the repository and view the data: https://github.com/learn-co-curriculum/dsc-phase-2-project-v3/tree/main/zippedData"
   ]
  },
  {
   "cell_type": "code",
   "execution_count": 4743,
   "metadata": {},
   "outputs": [],
   "source": [
    "#Import necessary libraries needed for data engineering/manipulation/graphing. Import library to remove warnings\n",
    "import pandas as pd\n",
    "import numpy as np\n",
    "import sqlite3\n",
    "import matplotlib.pyplot as plt\n",
    "%matplotlib inline\n",
    "import re\n",
    "import matplotlib.patches as mpatches\n",
    "import statistics\n",
    "pd.options.mode.chained_assignment = None"
   ]
  },
  {
   "cell_type": "code",
   "execution_count": 4744,
   "metadata": {},
   "outputs": [
    {
     "data": {
      "text/html": [
       "<div>\n",
       "<style scoped>\n",
       "    .dataframe tbody tr th:only-of-type {\n",
       "        vertical-align: middle;\n",
       "    }\n",
       "\n",
       "    .dataframe tbody tr th {\n",
       "        vertical-align: top;\n",
       "    }\n",
       "\n",
       "    .dataframe thead th {\n",
       "        text-align: right;\n",
       "    }\n",
       "</style>\n",
       "<table border=\"1\" class=\"dataframe\">\n",
       "  <thead>\n",
       "    <tr style=\"text-align: right;\">\n",
       "      <th></th>\n",
       "      <th>primary_title</th>\n",
       "      <th>runtime_minutes</th>\n",
       "      <th>genres</th>\n",
       "      <th>start_year</th>\n",
       "      <th>movie_id</th>\n",
       "    </tr>\n",
       "  </thead>\n",
       "  <tbody>\n",
       "    <tr>\n",
       "      <th>0</th>\n",
       "      <td>Sunghursh</td>\n",
       "      <td>175.0</td>\n",
       "      <td>Action,Crime,Drama</td>\n",
       "      <td>2013</td>\n",
       "      <td>tt0063540</td>\n",
       "    </tr>\n",
       "    <tr>\n",
       "      <th>1</th>\n",
       "      <td>One Day Before the Rainy Season</td>\n",
       "      <td>114.0</td>\n",
       "      <td>Biography,Drama</td>\n",
       "      <td>2019</td>\n",
       "      <td>tt0066787</td>\n",
       "    </tr>\n",
       "    <tr>\n",
       "      <th>2</th>\n",
       "      <td>The Other Side of the Wind</td>\n",
       "      <td>122.0</td>\n",
       "      <td>Drama</td>\n",
       "      <td>2018</td>\n",
       "      <td>tt0069049</td>\n",
       "    </tr>\n",
       "    <tr>\n",
       "      <th>3</th>\n",
       "      <td>Sabse Bada Sukh</td>\n",
       "      <td>NaN</td>\n",
       "      <td>Comedy,Drama</td>\n",
       "      <td>2018</td>\n",
       "      <td>tt0069204</td>\n",
       "    </tr>\n",
       "    <tr>\n",
       "      <th>4</th>\n",
       "      <td>The Wandering Soap Opera</td>\n",
       "      <td>80.0</td>\n",
       "      <td>Comedy,Drama,Fantasy</td>\n",
       "      <td>2017</td>\n",
       "      <td>tt0100275</td>\n",
       "    </tr>\n",
       "  </tbody>\n",
       "</table>\n",
       "</div>"
      ],
      "text/plain": [
       "                     primary_title  runtime_minutes                genres  \\\n",
       "0                        Sunghursh            175.0    Action,Crime,Drama   \n",
       "1  One Day Before the Rainy Season            114.0       Biography,Drama   \n",
       "2       The Other Side of the Wind            122.0                 Drama   \n",
       "3                  Sabse Bada Sukh              NaN          Comedy,Drama   \n",
       "4         The Wandering Soap Opera             80.0  Comedy,Drama,Fantasy   \n",
       "\n",
       "   start_year   movie_id  \n",
       "0        2013  tt0063540  \n",
       "1        2019  tt0066787  \n",
       "2        2018  tt0069049  \n",
       "3        2018  tt0069204  \n",
       "4        2017  tt0100275  "
      ]
     },
     "execution_count": 4744,
     "metadata": {},
     "output_type": "execute_result"
    }
   ],
   "source": [
    "#Establish connection to sql database and extract movie information needed for analysis. Put into dataframe\n",
    "conn = sqlite3.Connection('data/im.db')\n",
    "imdb_df = pd.read_sql(\"\"\"\n",
    "\n",
    "SELECT primary_title, runtime_minutes, genres, start_year, movie_id\n",
    "FROM movie_basics\n",
    "\n",
    ";\"\"\",conn)\n",
    "imdb_df.head()"
   ]
  },
  {
   "cell_type": "code",
   "execution_count": 4745,
   "metadata": {},
   "outputs": [
    {
     "data": {
      "text/html": [
       "<div>\n",
       "<style scoped>\n",
       "    .dataframe tbody tr th:only-of-type {\n",
       "        vertical-align: middle;\n",
       "    }\n",
       "\n",
       "    .dataframe tbody tr th {\n",
       "        vertical-align: top;\n",
       "    }\n",
       "\n",
       "    .dataframe thead th {\n",
       "        text-align: right;\n",
       "    }\n",
       "</style>\n",
       "<table border=\"1\" class=\"dataframe\">\n",
       "  <thead>\n",
       "    <tr style=\"text-align: right;\">\n",
       "      <th></th>\n",
       "      <th>movie_id</th>\n",
       "      <th>person_id</th>\n",
       "      <th>primary_name</th>\n",
       "    </tr>\n",
       "  </thead>\n",
       "  <tbody>\n",
       "    <tr>\n",
       "      <th>0</th>\n",
       "      <td>tt0285252</td>\n",
       "      <td>nm0899854</td>\n",
       "      <td>Tony Vitale</td>\n",
       "    </tr>\n",
       "    <tr>\n",
       "      <th>1</th>\n",
       "      <td>tt0462036</td>\n",
       "      <td>nm1940585</td>\n",
       "      <td>Bill Haley</td>\n",
       "    </tr>\n",
       "    <tr>\n",
       "      <th>2</th>\n",
       "      <td>tt0835418</td>\n",
       "      <td>nm0151540</td>\n",
       "      <td>Jay Chandrasekhar</td>\n",
       "    </tr>\n",
       "    <tr>\n",
       "      <th>3</th>\n",
       "      <td>tt0878654</td>\n",
       "      <td>nm0089502</td>\n",
       "      <td>Albert Pyun</td>\n",
       "    </tr>\n",
       "    <tr>\n",
       "      <th>4</th>\n",
       "      <td>tt0878654</td>\n",
       "      <td>nm2291498</td>\n",
       "      <td>Joe Baile</td>\n",
       "    </tr>\n",
       "  </tbody>\n",
       "</table>\n",
       "</div>"
      ],
      "text/plain": [
       "    movie_id  person_id       primary_name\n",
       "0  tt0285252  nm0899854        Tony Vitale\n",
       "1  tt0462036  nm1940585         Bill Haley\n",
       "2  tt0835418  nm0151540  Jay Chandrasekhar\n",
       "3  tt0878654  nm0089502        Albert Pyun\n",
       "4  tt0878654  nm2291498          Joe Baile"
      ]
     },
     "execution_count": 4745,
     "metadata": {},
     "output_type": "execute_result"
    }
   ],
   "source": [
    "#Query sql database to get information on movie directors. Put into dataframe. Duplicate rows with same information. \n",
    "#Use distinct to solve issue. \n",
    "director_df = pd.read_sql(\"\"\"\n",
    "\n",
    "SELECT DISTINCT movie_id, person_id, primary_name\n",
    "FROM directors\n",
    "JOIN persons\n",
    "USING(person_id)\n",
    "\n",
    "\n",
    ";\"\"\",conn)\n",
    "director_df.head()"
   ]
  },
  {
   "cell_type": "code",
   "execution_count": 4746,
   "metadata": {},
   "outputs": [
    {
     "data": {
      "text/html": [
       "<div>\n",
       "<style scoped>\n",
       "    .dataframe tbody tr th:only-of-type {\n",
       "        vertical-align: middle;\n",
       "    }\n",
       "\n",
       "    .dataframe tbody tr th {\n",
       "        vertical-align: top;\n",
       "    }\n",
       "\n",
       "    .dataframe thead th {\n",
       "        text-align: right;\n",
       "    }\n",
       "</style>\n",
       "<table border=\"1\" class=\"dataframe\">\n",
       "  <thead>\n",
       "    <tr style=\"text-align: right;\">\n",
       "      <th></th>\n",
       "      <th>id</th>\n",
       "      <th>release_date</th>\n",
       "      <th>movie</th>\n",
       "      <th>production_budget</th>\n",
       "      <th>domestic_gross</th>\n",
       "      <th>worldwide_gross</th>\n",
       "    </tr>\n",
       "  </thead>\n",
       "  <tbody>\n",
       "    <tr>\n",
       "      <th>0</th>\n",
       "      <td>1</td>\n",
       "      <td>Dec 18, 2009</td>\n",
       "      <td>Avatar</td>\n",
       "      <td>$425,000,000</td>\n",
       "      <td>$760,507,625</td>\n",
       "      <td>$2,776,345,279</td>\n",
       "    </tr>\n",
       "    <tr>\n",
       "      <th>1</th>\n",
       "      <td>2</td>\n",
       "      <td>May 20, 2011</td>\n",
       "      <td>Pirates of the Caribbean: On Stranger Tides</td>\n",
       "      <td>$410,600,000</td>\n",
       "      <td>$241,063,875</td>\n",
       "      <td>$1,045,663,875</td>\n",
       "    </tr>\n",
       "    <tr>\n",
       "      <th>2</th>\n",
       "      <td>3</td>\n",
       "      <td>Jun 7, 2019</td>\n",
       "      <td>Dark Phoenix</td>\n",
       "      <td>$350,000,000</td>\n",
       "      <td>$42,762,350</td>\n",
       "      <td>$149,762,350</td>\n",
       "    </tr>\n",
       "    <tr>\n",
       "      <th>3</th>\n",
       "      <td>4</td>\n",
       "      <td>May 1, 2015</td>\n",
       "      <td>Avengers: Age of Ultron</td>\n",
       "      <td>$330,600,000</td>\n",
       "      <td>$459,005,868</td>\n",
       "      <td>$1,403,013,963</td>\n",
       "    </tr>\n",
       "    <tr>\n",
       "      <th>4</th>\n",
       "      <td>5</td>\n",
       "      <td>Dec 15, 2017</td>\n",
       "      <td>Star Wars Ep. VIII: The Last Jedi</td>\n",
       "      <td>$317,000,000</td>\n",
       "      <td>$620,181,382</td>\n",
       "      <td>$1,316,721,747</td>\n",
       "    </tr>\n",
       "  </tbody>\n",
       "</table>\n",
       "</div>"
      ],
      "text/plain": [
       "   id  release_date                                        movie  \\\n",
       "0   1  Dec 18, 2009                                       Avatar   \n",
       "1   2  May 20, 2011  Pirates of the Caribbean: On Stranger Tides   \n",
       "2   3   Jun 7, 2019                                 Dark Phoenix   \n",
       "3   4   May 1, 2015                      Avengers: Age of Ultron   \n",
       "4   5  Dec 15, 2017            Star Wars Ep. VIII: The Last Jedi   \n",
       "\n",
       "  production_budget domestic_gross worldwide_gross  \n",
       "0      $425,000,000   $760,507,625  $2,776,345,279  \n",
       "1      $410,600,000   $241,063,875  $1,045,663,875  \n",
       "2      $350,000,000    $42,762,350    $149,762,350  \n",
       "3      $330,600,000   $459,005,868  $1,403,013,963  \n",
       "4      $317,000,000   $620,181,382  $1,316,721,747  "
      ]
     },
     "execution_count": 4746,
     "metadata": {},
     "output_type": "execute_result"
    }
   ],
   "source": [
    "#Connect to movie budget csv file and put it into a dataframe\n",
    "tn_df = pd.read_csv('data/tn.movie_budgets.csv.gz')\n",
    "tn_df.head()"
   ]
  },
  {
   "cell_type": "markdown",
   "metadata": {},
   "source": [
    "## Data Preparation"
   ]
  },
  {
   "cell_type": "markdown",
   "metadata": {},
   "source": [
    " - Merging Datasets together into one combined dataframe\n",
    " - After merging the dataset we will deal with repeated rows\n",
    " - Drop the unnecessary columns from our dataframe\n",
    " - Get information on our primary columns\n",
    " - Clean the dataframe\n",
    " - Create columns needed for our EDA"
   ]
  },
  {
   "cell_type": "markdown",
   "metadata": {},
   "source": [
    "#### Merging datasets"
   ]
  },
  {
   "cell_type": "markdown",
   "metadata": {},
   "source": [
    "I currently have three datasets: two from the IMBD database and one from the Movie Budget CSV file. Our recommendations require all datasets to be combined into one dataframe, as I will need to compare what the stakeholders can control with the financial data."
   ]
  },
  {
   "cell_type": "code",
   "execution_count": 4747,
   "metadata": {},
   "outputs": [
    {
     "data": {
      "text/html": [
       "<div>\n",
       "<style scoped>\n",
       "    .dataframe tbody tr th:only-of-type {\n",
       "        vertical-align: middle;\n",
       "    }\n",
       "\n",
       "    .dataframe tbody tr th {\n",
       "        vertical-align: top;\n",
       "    }\n",
       "\n",
       "    .dataframe thead th {\n",
       "        text-align: right;\n",
       "    }\n",
       "</style>\n",
       "<table border=\"1\" class=\"dataframe\">\n",
       "  <thead>\n",
       "    <tr style=\"text-align: right;\">\n",
       "      <th></th>\n",
       "      <th>movie_id</th>\n",
       "      <th>person_id</th>\n",
       "      <th>primary_name</th>\n",
       "      <th>primary_title</th>\n",
       "      <th>runtime_minutes</th>\n",
       "      <th>genres</th>\n",
       "      <th>start_year</th>\n",
       "    </tr>\n",
       "  </thead>\n",
       "  <tbody>\n",
       "    <tr>\n",
       "      <th>0</th>\n",
       "      <td>tt0285252</td>\n",
       "      <td>nm0899854</td>\n",
       "      <td>Tony Vitale</td>\n",
       "      <td>Life's a Beach</td>\n",
       "      <td>100.0</td>\n",
       "      <td>Comedy</td>\n",
       "      <td>2012</td>\n",
       "    </tr>\n",
       "    <tr>\n",
       "      <th>1</th>\n",
       "      <td>tt0462036</td>\n",
       "      <td>nm1940585</td>\n",
       "      <td>Bill Haley</td>\n",
       "      <td>Steve Phoenix: The Untold Story</td>\n",
       "      <td>110.0</td>\n",
       "      <td>Drama</td>\n",
       "      <td>2012</td>\n",
       "    </tr>\n",
       "    <tr>\n",
       "      <th>2</th>\n",
       "      <td>tt0835418</td>\n",
       "      <td>nm0151540</td>\n",
       "      <td>Jay Chandrasekhar</td>\n",
       "      <td>The Babymakers</td>\n",
       "      <td>95.0</td>\n",
       "      <td>Comedy</td>\n",
       "      <td>2012</td>\n",
       "    </tr>\n",
       "    <tr>\n",
       "      <th>3</th>\n",
       "      <td>tt0878654</td>\n",
       "      <td>nm0089502</td>\n",
       "      <td>Albert Pyun</td>\n",
       "      <td>Bulletface</td>\n",
       "      <td>82.0</td>\n",
       "      <td>Thriller</td>\n",
       "      <td>2010</td>\n",
       "    </tr>\n",
       "    <tr>\n",
       "      <th>4</th>\n",
       "      <td>tt0878654</td>\n",
       "      <td>nm2291498</td>\n",
       "      <td>Joe Baile</td>\n",
       "      <td>Bulletface</td>\n",
       "      <td>82.0</td>\n",
       "      <td>Thriller</td>\n",
       "      <td>2010</td>\n",
       "    </tr>\n",
       "  </tbody>\n",
       "</table>\n",
       "</div>"
      ],
      "text/plain": [
       "    movie_id  person_id       primary_name                    primary_title  \\\n",
       "0  tt0285252  nm0899854        Tony Vitale                   Life's a Beach   \n",
       "1  tt0462036  nm1940585         Bill Haley  Steve Phoenix: The Untold Story   \n",
       "2  tt0835418  nm0151540  Jay Chandrasekhar                   The Babymakers   \n",
       "3  tt0878654  nm0089502        Albert Pyun                       Bulletface   \n",
       "4  tt0878654  nm2291498          Joe Baile                       Bulletface   \n",
       "\n",
       "   runtime_minutes    genres  start_year  \n",
       "0            100.0    Comedy        2012  \n",
       "1            110.0     Drama        2012  \n",
       "2             95.0    Comedy        2012  \n",
       "3             82.0  Thriller        2010  \n",
       "4             82.0  Thriller        2010  "
      ]
     },
     "execution_count": 4747,
     "metadata": {},
     "output_type": "execute_result"
    }
   ],
   "source": [
    "#Combine the two sql datasets so directors are linked to movie information they are involved with. Use inner join \n",
    "#so it is just rows of movie_ids present in both datasets. \n",
    "director_movie_df = director_df.merge(imdb_df, on='movie_id', how = 'inner')\n",
    "director_movie_df.head()"
   ]
  },
  {
   "cell_type": "code",
   "execution_count": 4748,
   "metadata": {},
   "outputs": [],
   "source": [
    "#I am joining the sql dataset with the csv dataset. In order to make sure I am not unnecessarily losing matches \n",
    "#because of capitalization issues, I am putting all of the movie titles in lowercase. \n",
    "tn_df['movie'] = tn_df['movie'].apply(lambda x: x.lower())\n",
    "director_movie_df['primary_title'] = director_movie_df['primary_title'].apply(lambda x: x.lower())"
   ]
  },
  {
   "cell_type": "code",
   "execution_count": 4749,
   "metadata": {},
   "outputs": [],
   "source": [
    "#Merge the datasets together using the movie titles. Use inner join to make sure final dataframe is just matching\n",
    "#results for both. \n",
    "combined_df = tn_df.merge(director_movie_df, left_on='movie', right_on='primary_title', how = 'inner')"
   ]
  },
  {
   "cell_type": "code",
   "execution_count": 4750,
   "metadata": {
    "scrolled": true
   },
   "outputs": [
    {
     "name": "stderr",
     "output_type": "stream",
     "text": [
      "/Users/jacklocke/anaconda3/envs/learn-env/lib/python3.8/site-packages/IPython/core/displayhook.py:275: UserWarning: Output cache limit (currently 1000 entries) hit.\n",
      "Flushing oldest 200 entries.\n",
      "  warn('Output cache limit (currently {sz} entries) hit.\\n'\n"
     ]
    },
    {
     "data": {
      "text/html": [
       "<div>\n",
       "<style scoped>\n",
       "    .dataframe tbody tr th:only-of-type {\n",
       "        vertical-align: middle;\n",
       "    }\n",
       "\n",
       "    .dataframe tbody tr th {\n",
       "        vertical-align: top;\n",
       "    }\n",
       "\n",
       "    .dataframe thead th {\n",
       "        text-align: right;\n",
       "    }\n",
       "</style>\n",
       "<table border=\"1\" class=\"dataframe\">\n",
       "  <thead>\n",
       "    <tr style=\"text-align: right;\">\n",
       "      <th></th>\n",
       "      <th>id</th>\n",
       "      <th>release_date</th>\n",
       "      <th>movie</th>\n",
       "      <th>production_budget</th>\n",
       "      <th>domestic_gross</th>\n",
       "      <th>worldwide_gross</th>\n",
       "      <th>movie_id</th>\n",
       "      <th>person_id</th>\n",
       "      <th>primary_name</th>\n",
       "      <th>primary_title</th>\n",
       "      <th>runtime_minutes</th>\n",
       "      <th>genres</th>\n",
       "      <th>start_year</th>\n",
       "    </tr>\n",
       "  </thead>\n",
       "  <tbody>\n",
       "    <tr>\n",
       "      <th>0</th>\n",
       "      <td>1</td>\n",
       "      <td>Dec 18, 2009</td>\n",
       "      <td>avatar</td>\n",
       "      <td>$425,000,000</td>\n",
       "      <td>$760,507,625</td>\n",
       "      <td>$2,776,345,279</td>\n",
       "      <td>tt1775309</td>\n",
       "      <td>nm3786927</td>\n",
       "      <td>Atsushi Wada</td>\n",
       "      <td>avatar</td>\n",
       "      <td>93.0</td>\n",
       "      <td>Horror</td>\n",
       "      <td>2011</td>\n",
       "    </tr>\n",
       "    <tr>\n",
       "      <th>1</th>\n",
       "      <td>2</td>\n",
       "      <td>May 20, 2011</td>\n",
       "      <td>pirates of the caribbean: on stranger tides</td>\n",
       "      <td>$410,600,000</td>\n",
       "      <td>$241,063,875</td>\n",
       "      <td>$1,045,663,875</td>\n",
       "      <td>tt1298650</td>\n",
       "      <td>nm0551128</td>\n",
       "      <td>Rob Marshall</td>\n",
       "      <td>pirates of the caribbean: on stranger tides</td>\n",
       "      <td>136.0</td>\n",
       "      <td>Action,Adventure,Fantasy</td>\n",
       "      <td>2011</td>\n",
       "    </tr>\n",
       "    <tr>\n",
       "      <th>2</th>\n",
       "      <td>3</td>\n",
       "      <td>Jun 7, 2019</td>\n",
       "      <td>dark phoenix</td>\n",
       "      <td>$350,000,000</td>\n",
       "      <td>$42,762,350</td>\n",
       "      <td>$149,762,350</td>\n",
       "      <td>tt6565702</td>\n",
       "      <td>nm1334526</td>\n",
       "      <td>Simon Kinberg</td>\n",
       "      <td>dark phoenix</td>\n",
       "      <td>113.0</td>\n",
       "      <td>Action,Adventure,Sci-Fi</td>\n",
       "      <td>2019</td>\n",
       "    </tr>\n",
       "    <tr>\n",
       "      <th>3</th>\n",
       "      <td>4</td>\n",
       "      <td>May 1, 2015</td>\n",
       "      <td>avengers: age of ultron</td>\n",
       "      <td>$330,600,000</td>\n",
       "      <td>$459,005,868</td>\n",
       "      <td>$1,403,013,963</td>\n",
       "      <td>tt2395427</td>\n",
       "      <td>nm0923736</td>\n",
       "      <td>Joss Whedon</td>\n",
       "      <td>avengers: age of ultron</td>\n",
       "      <td>141.0</td>\n",
       "      <td>Action,Adventure,Sci-Fi</td>\n",
       "      <td>2015</td>\n",
       "    </tr>\n",
       "    <tr>\n",
       "      <th>4</th>\n",
       "      <td>7</td>\n",
       "      <td>Apr 27, 2018</td>\n",
       "      <td>avengers: infinity war</td>\n",
       "      <td>$300,000,000</td>\n",
       "      <td>$678,815,482</td>\n",
       "      <td>$2,048,134,200</td>\n",
       "      <td>tt4154756</td>\n",
       "      <td>nm0751577</td>\n",
       "      <td>Anthony Russo</td>\n",
       "      <td>avengers: infinity war</td>\n",
       "      <td>149.0</td>\n",
       "      <td>Action,Adventure,Sci-Fi</td>\n",
       "      <td>2018</td>\n",
       "    </tr>\n",
       "  </tbody>\n",
       "</table>\n",
       "</div>"
      ],
      "text/plain": [
       "   id  release_date                                        movie  \\\n",
       "0   1  Dec 18, 2009                                       avatar   \n",
       "1   2  May 20, 2011  pirates of the caribbean: on stranger tides   \n",
       "2   3   Jun 7, 2019                                 dark phoenix   \n",
       "3   4   May 1, 2015                      avengers: age of ultron   \n",
       "4   7  Apr 27, 2018                       avengers: infinity war   \n",
       "\n",
       "  production_budget domestic_gross worldwide_gross   movie_id  person_id  \\\n",
       "0      $425,000,000   $760,507,625  $2,776,345,279  tt1775309  nm3786927   \n",
       "1      $410,600,000   $241,063,875  $1,045,663,875  tt1298650  nm0551128   \n",
       "2      $350,000,000    $42,762,350    $149,762,350  tt6565702  nm1334526   \n",
       "3      $330,600,000   $459,005,868  $1,403,013,963  tt2395427  nm0923736   \n",
       "4      $300,000,000   $678,815,482  $2,048,134,200  tt4154756  nm0751577   \n",
       "\n",
       "    primary_name                                primary_title  \\\n",
       "0   Atsushi Wada                                       avatar   \n",
       "1   Rob Marshall  pirates of the caribbean: on stranger tides   \n",
       "2  Simon Kinberg                                 dark phoenix   \n",
       "3    Joss Whedon                      avengers: age of ultron   \n",
       "4  Anthony Russo                       avengers: infinity war   \n",
       "\n",
       "   runtime_minutes                    genres  start_year  \n",
       "0             93.0                    Horror        2011  \n",
       "1            136.0  Action,Adventure,Fantasy        2011  \n",
       "2            113.0   Action,Adventure,Sci-Fi        2019  \n",
       "3            141.0   Action,Adventure,Sci-Fi        2015  \n",
       "4            149.0   Action,Adventure,Sci-Fi        2018  "
      ]
     },
     "execution_count": 4750,
     "metadata": {},
     "output_type": "execute_result"
    }
   ],
   "source": [
    "#Length of dataframe is longer than length of tn_df that we merged on meaning there are multiple primary_titles\n",
    "#that match the movie titles. Will have movies that have multiple directors. Additionally, some movies have the \n",
    "#same title but are not the same movie. Will handle this issue in the next step. For example, 'avatar' budgets \n",
    "#below are referring to the famous avatar movie by james cameron and not the horror film it is associated with \n",
    "#right now. \n",
    "combined_df.head()"
   ]
  },
  {
   "cell_type": "markdown",
   "metadata": {},
   "source": [
    "#### Filtering repeated rows"
   ]
  },
  {
   "cell_type": "markdown",
   "metadata": {},
   "source": [
    "When I merged the datasets on the movie titles, I discovered some movies have duplicate titles. I do not want financial data to be linked to the incorrect movie titles, skewing our results. To fix this, I will use the 'release_date' column and create a new column, 'matching_year'. I can then compare ‘matching_year’ with the 'start_year' column. This will help match the correct movies with the proper financial data. This will not be perfect as there will be movies with duplicate titles also released in the same year. But, this will significantly reduce our issue. The number of movies released the same year with duplicate titles is small. I am also using median values for my recommendations, so this small number of rows I cannot filter out will not significantly impact our results. "
   ]
  },
  {
   "cell_type": "code",
   "execution_count": 4751,
   "metadata": {},
   "outputs": [],
   "source": [
    "#Creating column 'matching year' using 'release_date' last four characters and setting into to a number for \n",
    "#comparison usage. Compare the two year columns present from the prior datasets to match relevant information. \n",
    "combined_df['matching_year'] = combined_df['release_date'].apply(lambda x: x[-4:]).astype(float)\n",
    "combined_df = combined_df[(combined_df['start_year'] == combined_df['matching_year'])]"
   ]
  },
  {
   "cell_type": "markdown",
   "metadata": {},
   "source": [
    "#### Dropping Unnecessary Columns"
   ]
  },
  {
   "cell_type": "code",
   "execution_count": 4752,
   "metadata": {},
   "outputs": [],
   "source": [
    "#Will be removing other columns as we progress; create drop function for reusability\n",
    "def drop(cols,df):\n",
    "    '''Is going to take the column name and apply the drop function'''\n",
    "    for x in cols:\n",
    "        df.drop(columns=x, inplace=True)"
   ]
  },
  {
   "cell_type": "code",
   "execution_count": 4753,
   "metadata": {},
   "outputs": [],
   "source": [
    "#Dropping columns that do not have relevance for the remaining part of our analysis.\n",
    "drop(['id','primary_title', 'start_year', 'matching_year','domestic_gross', 'movie_id', 'person_id'], combined_df)\n"
   ]
  },
  {
   "cell_type": "markdown",
   "metadata": {},
   "source": [
    "#### Primary Columns Information"
   ]
  },
  {
   "cell_type": "markdown",
   "metadata": {},
   "source": [
    "Want to view what the stakeholders can control:\n",
    "- Release dates\n",
    "- Genres\n",
    "- Directors\n",
    "\n",
    "With measurements of success (used to create Gross Profit and Gross ROI):\n",
    "- Production budget\n",
    "- Gross Revenue"
   ]
  },
  {
   "cell_type": "code",
   "execution_count": 4754,
   "metadata": {},
   "outputs": [
    {
     "name": "stdout",
     "output_type": "stream",
     "text": [
      "<class 'pandas.core.frame.DataFrame'>\n",
      "Index: 1747 entries, 1 to 4242\n",
      "Data columns (total 7 columns):\n",
      " #   Column             Non-Null Count  Dtype  \n",
      "---  ------             --------------  -----  \n",
      " 0   release_date       1747 non-null   object \n",
      " 1   movie              1747 non-null   object \n",
      " 2   production_budget  1747 non-null   object \n",
      " 3   worldwide_gross    1747 non-null   object \n",
      " 4   primary_name       1747 non-null   object \n",
      " 5   runtime_minutes    1721 non-null   float64\n",
      " 6   genres             1742 non-null   object \n",
      "dtypes: float64(1), object(6)\n",
      "memory usage: 109.2+ KB\n"
     ]
    }
   ],
   "source": [
    "#Information on our combined dataframe to see datatypes and null values.\n",
    "combined_df.info()"
   ]
  },
  {
   "cell_type": "code",
   "execution_count": 4755,
   "metadata": {},
   "outputs": [
    {
     "data": {
      "text/plain": [
       "release_date\n",
       "Dec 31, 2014    17\n",
       "Jan 25, 2013    15\n",
       "Dec 31, 2010    11\n",
       "Sep 23, 2011    10\n",
       "Dec 31, 2015    10\n",
       "                ..\n",
       "Mar 29, 2018     1\n",
       "Mar 22, 2019     1\n",
       "Jan 18, 2019     1\n",
       "Nov 16, 2011     1\n",
       "Jan 27, 2017     1\n",
       "Name: count, Length: 622, dtype: int64"
      ]
     },
     "execution_count": 4755,
     "metadata": {},
     "output_type": "execute_result"
    }
   ],
   "source": [
    "#Strings of release dates\n",
    "combined_df['release_date'].value_counts()"
   ]
  },
  {
   "cell_type": "code",
   "execution_count": 4756,
   "metadata": {},
   "outputs": [
    {
     "data": {
      "text/plain": [
       "movie\n",
       "movie 43                13\n",
       "freakonomics             6\n",
       "the promise              5\n",
       "locker 13                5\n",
       "redemption               4\n",
       "                        ..\n",
       "only the brave           1\n",
       "rush                     1\n",
       "the 5th wave             1\n",
       "riddick                  1\n",
       "stories of our lives     1\n",
       "Name: count, Length: 1525, dtype: int64"
      ]
     },
     "execution_count": 4756,
     "metadata": {},
     "output_type": "execute_result"
    }
   ],
   "source": [
    "#Strings of movie titles. See movies appear more than once for each director involved and see how some movies had \n",
    "#the same title and same release year. Luckily, when manually viewing these instances, the number of movies that\n",
    "#have the same title and same year that do not correctly link to the right financial data is very small. \n",
    "combined_df['movie'].value_counts()"
   ]
  },
  {
   "cell_type": "code",
   "execution_count": 4757,
   "metadata": {},
   "outputs": [
    {
     "data": {
      "text/plain": [
       "genres\n",
       "Adventure,Animation,Comedy    107\n",
       "Comedy                         81\n",
       "Drama                          69\n",
       "Action,Adventure,Sci-Fi        58\n",
       "Comedy,Drama,Romance           57\n",
       "                             ... \n",
       "Adventure,Comedy,Romance        1\n",
       "Comedy,Sci-Fi                   1\n",
       "Comedy,Drama,Sport              1\n",
       "Adventure,Comedy,Sci-Fi         1\n",
       "Comedy,Horror,Thriller          1\n",
       "Name: count, Length: 235, dtype: int64"
      ]
     },
     "execution_count": 4757,
     "metadata": {},
     "output_type": "execute_result"
    }
   ],
   "source": [
    "#See how genre column represents many genres for the same movie. Will handle this later in the analysis. \n",
    "#Additionally, there are some missing genre values.\n",
    "combined_df['genres'].value_counts()"
   ]
  },
  {
   "cell_type": "code",
   "execution_count": 4758,
   "metadata": {},
   "outputs": [
    {
     "data": {
      "text/plain": [
       "primary_name\n",
       "Tim Story            8\n",
       "Steven Spielberg     7\n",
       "Clint Eastwood       7\n",
       "Jon M. Chu           6\n",
       "Ridley Scott         6\n",
       "                    ..\n",
       "Billy Ray            1\n",
       "James Mather         1\n",
       "Steve Saint Leger    1\n",
       "Mark Mylod           1\n",
       "Jim Chuchu           1\n",
       "Name: count, Length: 1187, dtype: int64"
      ]
     },
     "execution_count": 4758,
     "metadata": {},
     "output_type": "execute_result"
    }
   ],
   "source": [
    "#See the movie counts for directors\n",
    "combined_df['primary_name'].value_counts()"
   ]
  },
  {
   "cell_type": "code",
   "execution_count": 4759,
   "metadata": {},
   "outputs": [
    {
     "data": {
      "text/plain": [
       "worldwide_gross\n",
       "$0              136\n",
       "$31,164,747      13\n",
       "$172,867          6\n",
       "$3,496            5\n",
       "$10,551,417       5\n",
       "               ... \n",
       "$41,294,674       1\n",
       "$101,162,106      1\n",
       "$95,989,590       1\n",
       "$126,069,509      1\n",
       "$489,792          1\n",
       "Name: count, Length: 1407, dtype: int64"
      ]
     },
     "execution_count": 4759,
     "metadata": {},
     "output_type": "execute_result"
    }
   ],
   "source": [
    "#Financial data is a string that will need to be converted to an integer\n",
    "combined_df['worldwide_gross'].value_counts()"
   ]
  },
  {
   "cell_type": "code",
   "execution_count": 4760,
   "metadata": {},
   "outputs": [
    {
     "data": {
      "text/plain": [
       "production_budget\n",
       "$10,000,000    79\n",
       "$20,000,000    74\n",
       "$30,000,000    56\n",
       "$5,000,000     55\n",
       "$40,000,000    52\n",
       "               ..\n",
       "$19,500,000     1\n",
       "$19,200,000     1\n",
       "$19,100,000     1\n",
       "$17,700,000     1\n",
       "$15,000         1\n",
       "Name: count, Length: 261, dtype: int64"
      ]
     },
     "execution_count": 4760,
     "metadata": {},
     "output_type": "execute_result"
    }
   ],
   "source": [
    "#Financial data is a string that will need to be converted to an integer\n",
    "combined_df['production_budget'].value_counts()"
   ]
  },
  {
   "cell_type": "markdown",
   "metadata": {},
   "source": [
    "#### Cleaning Primary Columns "
   ]
  },
  {
   "cell_type": "markdown",
   "metadata": {},
   "source": [
    "After viewing our primary columns, I will need to change 'production_budget' and 'worldwide_gross'(gross revenue) into integer datatypes so I can create additional columns for measurements. Additionally, there are missing values in 'runtime_minutes' and 'genres' that need to be filled in. "
   ]
  },
  {
   "cell_type": "code",
   "execution_count": 4761,
   "metadata": {},
   "outputs": [],
   "source": [
    "#Creating function for reusability on financial data\n",
    "def money_values(lst):\n",
    "    \n",
    "    ''' The function will take in a list of column names (lst) for financial data that are strings and convert\n",
    "        those strings to integers so they can be used to create additional financial columns'''\n",
    "    \n",
    "    for x in lst:\n",
    "        combined_df[df] = combined_df[df].apply(lambda x: re.sub(r'[^\\w\\s]', '', x))\n",
    "        combined_df[df] = combined_df[df].apply(int)\n",
    "        \n",
    "# Citation: 1. Source for using re.sub"
   ]
  },
  {
   "cell_type": "code",
   "execution_count": 4762,
   "metadata": {},
   "outputs": [],
   "source": [
    "#Passing in financial columns into the money_values function\n",
    "monetary_columns_lst = ['production_budget', 'worldwide_gross']\n",
    "money_values(monetary_columns_lst)"
   ]
  },
  {
   "cell_type": "code",
   "execution_count": 4763,
   "metadata": {},
   "outputs": [],
   "source": [
    "#The runtime column has missing values. Will fill the missing values with the mean so we can filter down data\n",
    "#so movies in the dataframe are more than 30 minutes long. \n",
    "combined_df['runtime_minutes'] = combined_df['runtime_minutes'].fillna(combined_df['runtime_minutes'].mean())\n",
    "combined_df = combined_df[combined_df['runtime_minutes']>30]\n",
    "drop(['runtime_minutes'],combined_df)"
   ]
  },
  {
   "cell_type": "code",
   "execution_count": 4764,
   "metadata": {},
   "outputs": [],
   "source": [
    "#Resetting the index so it starts at 0 because I will be manually filling in the missing genre information by \n",
    "#indexing. \n",
    "combined_df.reset_index(drop=True, inplace=True)"
   ]
  },
  {
   "cell_type": "code",
   "execution_count": 4765,
   "metadata": {},
   "outputs": [],
   "source": [
    "#Create reusable function to handle the missing genre data. \n",
    "def missing_genre(index, typ):\n",
    "    \n",
    "    '''Will take the dataframe index (index) and set the genre to its specific type (typ)'''\n",
    "    \n",
    "    combined_df.loc[index,'genres'] = typ"
   ]
  },
  {
   "cell_type": "code",
   "execution_count": 4766,
   "metadata": {},
   "outputs": [],
   "source": [
    "#Call the missing_genre function to fill in our missing genre values with their true genres. \n",
    "missing_genre(32,'Action,Adventure')\n",
    "missing_genre(515,'Comedy,Action')\n",
    "missing_genre(516,'Comedy,Action')\n",
    "missing_genre(996,'Action,Thriller')\n",
    "missing_genre(1115,'Drama')"
   ]
  },
  {
   "cell_type": "markdown",
   "metadata": {},
   "source": [
    "#### Creating Additional Columns for Analysis"
   ]
  },
  {
   "cell_type": "markdown",
   "metadata": {},
   "source": [
    "My EDA will be looking into the best release dates based on their months. I will need to use the 'release_date' column to create a new column for the month it was released, 'month'. \n",
    "\n",
    "Additionally, I will be creating a ROI column as a success measurement. I will need to take 'worldwide_gross' and subtract 'production_budget' to create a new column, 'gross_profit'. From there, I can take 'gross_profit' and divide it by 'production_budget', multiply it by 100, to get the 'gross_roi' percentage. The 'gross_roi' column will be what I use as my measurement of success. "
   ]
  },
  {
   "cell_type": "code",
   "execution_count": 4767,
   "metadata": {},
   "outputs": [],
   "source": [
    "#Using the release date to create a new column representing just the month it was release for our EDA. These are the\n",
    "#first three characters of the column.\n",
    "combined_df['month'] = combined_df['release_date'].apply(lambda x: x[:3])"
   ]
  },
  {
   "cell_type": "code",
   "execution_count": 4768,
   "metadata": {},
   "outputs": [],
   "source": [
    "#I have essentially created a new release date column so I can drop the old one.  \n",
    "drop(['release_date'],combined_df)"
   ]
  },
  {
   "cell_type": "code",
   "execution_count": 4769,
   "metadata": {},
   "outputs": [],
   "source": [
    "#My EDA needs gross ROI and in order to do this I need a column for gross profit. I could have done both in one\n",
    "#line of code but I feel that having a gross profit column in the analysis might be beneficial for the future in \n",
    "#case I need to look at gross profit more specifically in the next steps. \n",
    "combined_df['gross_profit'] = combined_df.apply(lambda x: x['worldwide_gross'] - x['production_budget'], axis=1)"
   ]
  },
  {
   "cell_type": "code",
   "execution_count": 4770,
   "metadata": {},
   "outputs": [],
   "source": [
    "#Used the gross profit column with production budget to get an ROI percentage for each movie. \n",
    "combined_df['gross_roi'] = combined_df.apply(lambda x: round((x['gross_profit'] / x['production_budget'])*100,2), \n",
    "                                                                                                         axis=1)"
   ]
  },
  {
   "cell_type": "markdown",
   "metadata": {},
   "source": [
    "## Exploratory Data Analysis"
   ]
  },
  {
   "cell_type": "markdown",
   "metadata": {},
   "source": [
    "As mentioned in previous sections, I will explore what the stakeholders can control with my created measurement of success. I will examine which genres, months, and directors are the most highly represented. I will need additional data engineering to show my results graphically. I will view the relationships with bar graphs as this will best show us the most highly represented values. I will be looking at the median gross ROI values. Extreme outliers are present in the data, so using the mean will lead to highly skewed results. I will use the median to accurately measure the central tendency to reflect the data. \n",
    "\n",
    "Currently, our combined dataframe has movies repeated for each director. So, if a movie title has two directors, all the other information will be repeated twice. The issue is ROIs, genres, and months will be represented twice for the same movie. If kept, this will skew our results, giving more weight to those columns. To fix this, I will create new dataframes of the relevant information for each analysis and drop any duplicated rows, thus removing additional rows when there is more than one director. But, this information will be kept for the director's analysis. \n"
   ]
  },
  {
   "cell_type": "markdown",
   "metadata": {},
   "source": [
    "#### Genre vs. ROI"
   ]
  },
  {
   "cell_type": "markdown",
   "metadata": {},
   "source": [
    "Movies have more than one genre associated with them. I want to see how the genres perform individually so the stakeholders can understand the combinations of genres they can create for success. We can’t know which genre made individuals decide to go to a movie, so they all have to be represented equally. For example, if it is an action/adventure movie with a 10% ROI, then both action and adventure will receive a 10% value. I will create a dictionary with the keys being each genre, and their values will be a list of all their associated ROIs. I will then sort it by median ROI, transform the dictionary into a dataframe, and graph the top five most highly represented genres."
   ]
  },
  {
   "cell_type": "code",
   "execution_count": 4771,
   "metadata": {},
   "outputs": [],
   "source": [
    "#Creating a dataframe for analysis that will help remove movies that have multiple directors and will be simple to \n",
    "#visualize via table and graph. \n",
    "genre_df = combined_df[['movie','gross_roi', 'genres']]"
   ]
  },
  {
   "cell_type": "code",
   "execution_count": 4772,
   "metadata": {},
   "outputs": [],
   "source": [
    "#Dropping the duplicate movie rows. \n",
    "genre_df = genre_df.drop_duplicates()\n",
    "\n",
    "# 2. Source for drop duplicate rows"
   ]
  },
  {
   "cell_type": "code",
   "execution_count": 4773,
   "metadata": {},
   "outputs": [],
   "source": [
    "#We do not have any movies where the genre column exceeds three individual genres. But I need to split each one of\n",
    "#this genres up individually. In order to do this I am creating three new columns: genre1,genre2,genre3. What each\n",
    "#line does is goes through the dataframe looking at the genre column, it will split the column values based on \n",
    "#commas and .iloc will specify which location to look at. It will assign the genre name to the new genre column and \n",
    "#if the genre column does not exist, then it will populate that value with none. For example, if the genre is \n",
    "#action/adventure, the new columns will be: genre1 Action, genre2 Adventure, genre3 None. The reasoning is so later\n",
    "#I can easily loop through the new dataframe and create a dictionary that takes the genres as keys and creates a \n",
    "#list of each of their associated ROIs. \n",
    "genre_df = genre_df.assign(genre1 = genre_df.genres.str.split(\",\", expand = True).iloc[:,:1],\n",
    "                           genre2 = genre_df.genres.str.split(\",\", expand = True).iloc[:,1:2],\n",
    "                           genre3 = genre_df.genres.str.split(\",\", expand = True).iloc[:,2:3])\n",
    "\n",
    "# Citation: 3. Source used to assign new columns, off of split and iloc"
   ]
  },
  {
   "cell_type": "code",
   "execution_count": 4774,
   "metadata": {},
   "outputs": [],
   "source": [
    "#I created new genre columns so I can drop the old genre column. \n",
    "drop(['genres'],genre_df)"
   ]
  },
  {
   "cell_type": "code",
   "execution_count": 4775,
   "metadata": {},
   "outputs": [],
   "source": [
    "#I need to create a list of all the unique genre types in order to create the dictionary.\n",
    "lst_1 = list(genre_df['genre1'].unique())\n",
    "lst_2 = list(genre_df['genre2'].unique())\n",
    "lst_3 = list(genre_df['genre3'].unique())\n",
    "lst_1.extend(lst_2)\n",
    "lst_1.extend(lst_3)\n",
    "genre_unique_lst = list(set(lst_1))"
   ]
  },
  {
   "cell_type": "code",
   "execution_count": 4776,
   "metadata": {},
   "outputs": [],
   "source": [
    "#Creates a dictionary with the genres types as the keys and the values as an empty list. \n",
    "genre_dict = dict([(x,[]) for x in genre_unique_lst])"
   ]
  },
  {
   "cell_type": "code",
   "execution_count": 4777,
   "metadata": {},
   "outputs": [],
   "source": [
    "#Now I will loop through the genre dataframe by index. It will grab the genre type from each genre column and add\n",
    "#its ROI to the list associated with that genre key. For example, lets say row one has genre1 - action, genre2 - \n",
    "#adventure genre3 - None, gross_roi - 10.0. Genre dictionary is looking at the the first index for genre1 \n",
    "#which is action, it is putting that in genre dictionary so it is looking at the action key, and then it will append\n",
    "#the gross_roi value of that same index, 0, that is 10. Adding 10 to the list for the action key. Then it will move\n",
    "#on to genre2 and do the same thing, assigning 10 to the adventure key. It will do the same thing with genre3 with\n",
    "#the None key. So at the end I will just need to remove None from the dictionary. \n",
    "for i in genre_df.index:\n",
    "    genre_dict[genre_df['genre1'][i]].append(genre_df['gross_roi'][i])\n",
    "    genre_dict[genre_df['genre2'][i]].append(genre_df['gross_roi'][i])\n",
    "    genre_dict[genre_df['genre3'][i]].append(genre_df['gross_roi'][i])\n",
    "    \n",
    "# Citation 4. Source for looping through dataframe by index and assigning dicitonary keys/values"
   ]
  },
  {
   "cell_type": "code",
   "execution_count": 4778,
   "metadata": {},
   "outputs": [],
   "source": [
    "#Now I am using dictionary comprehension to loop through the genre dictionary and create a new genre dictionary\n",
    "#that just has the median ROI value for each key. Thus getting the median ROI for each genre. I will then sort that\n",
    "#dictionary in descending order. \n",
    "genre_dict = dict((k,round(statistics.median(v),2))for k,v in genre_dict.items())\n",
    "genre_dict = dict(sorted(genre_dict.items(), key=lambda item: item[1], reverse=True))\n",
    "\n",
    "# Citation 5. Source for dictionary comprehension\n",
    "# Citation 6. Source for using statistics median \n",
    "# Citation 7. Source for sorting dictionary"
   ]
  },
  {
   "cell_type": "code",
   "execution_count": 4779,
   "metadata": {},
   "outputs": [],
   "source": [
    "#Now I will convert the dictionary back into a table so it would be easier to see via table and then will be easy\n",
    "#to graph the top 5 most highly represented genres. \n",
    "genre_roi_df = pd.DataFrame.from_dict(genre_dict.items())\n",
    "genre_roi_df.columns = ['genre','gross_roi']\n",
    "genre_roi_df = genre_roi_df.head()"
   ]
  },
  {
   "cell_type": "code",
   "execution_count": 4780,
   "metadata": {},
   "outputs": [],
   "source": [
    "#I just want to represent the ROI percentages as whole numbers. Will be using this for all three EDA graphs so I \n",
    "#will create a reusable function.\n",
    "def round_percent(df): \n",
    "    \n",
    "    '''Will take in a dataframe (df) and change the ROI percent to a whole number'''\n",
    "    \n",
    "    df['gross_roi'] = df['gross_roi'].apply(lambda x: round(x))"
   ]
  },
  {
   "cell_type": "code",
   "execution_count": 4781,
   "metadata": {},
   "outputs": [],
   "source": [
    "round_percent(genre_roi_df)"
   ]
  },
  {
   "cell_type": "code",
   "execution_count": 4783,
   "metadata": {
    "scrolled": true
   },
   "outputs": [],
   "source": [
    "#The bar graph will be created by using genre for the x axis and gross roi for the y axis. \n",
    "def bar_graph(x,y,df,title,xlabel,ylabel):\n",
    "\n",
    "    plt.figure(figsize=(14, 6))\n",
    "\n",
    "    ax1 = sns.barplot(x=x,  y=y, data=df, color='lightblue')\n",
    "\n",
    "    ax1.bar_label(ax1.containers[0],size=14)\n",
    "    # show the graph\n",
    "\n",
    "    plt.title('Median Gross ROI by ' + title,fontsize=20)\n",
    "    plt.xlabel(xlabel,fontsize=18)\n",
    "    plt.ylabel(ylabel,fontsize=18)\n",
    "    plt.tick_params(axis='y',labelsize=15)\n",
    "    plt.tick_params(axis='x',labelsize=15)\n",
    "    plt.show()\n",
    "\n",
    "# Citation 8. Source used for labeling top of the bar graph columns"
   ]
  },
  {
   "cell_type": "code",
   "execution_count": 4785,
   "metadata": {},
   "outputs": [
    {
     "data": {
      "image/png": "[encoded data removed]",
      "text/plain": [
       "<Figure size 1008x432 with 1 Axes>"
      ]
     },
     "metadata": {
      "needs_background": "light"
     },
     "output_type": "display_data"
    }
   ],
   "source": [
    "bar_graph('genre','gross_roi', genre_roi_df, 'Genre', 'Gross ROI Percentage', 'Genre')"
   ]
  },
  {
   "cell_type": "markdown",
   "metadata": {},
   "source": [
    "#### Released Month vs. ROI"
   ]
  },
  {
   "cell_type": "markdown",
   "metadata": {},
   "source": [
    "The month is more straightforward than the genre. After removing duplicative director rows, I will use a groupby statement to match months with their median ROIs, sort the values, and graph the five most highly represented months. "
   ]
  },
  {
   "cell_type": "code",
   "execution_count": 4737,
   "metadata": {},
   "outputs": [],
   "source": [
    "#Creating a dataframe for analysis that will help remove movies that have multiple directors and will be simple to \n",
    "#visualize via table and graph.\n",
    "month_df = combined_df[['movie', 'gross_roi', 'month']]"
   ]
  },
  {
   "cell_type": "code",
   "execution_count": 4738,
   "metadata": {},
   "outputs": [],
   "source": [
    "#Dropping the duplicate movie rows. \n",
    "month_df = combined_df.drop_duplicates()"
   ]
  },
  {
   "cell_type": "code",
   "execution_count": 4739,
   "metadata": {},
   "outputs": [],
   "source": [
    "#Grouping each month with its median ROI value and resetting the index so it is represented as columns for graphing.\n",
    "month_roi_df = month_df.groupby('month')[['gross_roi']].median().reset_index()"
   ]
  },
  {
   "cell_type": "code",
   "execution_count": 4740,
   "metadata": {},
   "outputs": [],
   "source": [
    "#Sorting the months by descending ROI values to get the top 5 most highly represented months. \n",
    "month_roi_df = month_roi_df[['month','gross_roi']].sort_values(by='gross_roi',ascending=False).reset_index(\n",
    "                                                                                                drop=True).head()"
   ]
  },
  {
   "cell_type": "code",
   "execution_count": 4741,
   "metadata": {},
   "outputs": [],
   "source": [
    "#I just want to represent the ROI percentages as whole numbers. \n",
    "round_percent(month_roi_df)"
   ]
  },
  {
   "cell_type": "code",
   "execution_count": 4786,
   "metadata": {},
   "outputs": [
    {
     "data": {
      "image/png": "[encoded data removed]",
      "text/plain": [
       "<Figure size 1008x432 with 1 Axes>"
      ]
     },
     "metadata": {
      "needs_background": "light"
     },
     "output_type": "display_data"
    }
   ],
   "source": [
    "bar_graph('month','gross_roi', month_roi_df, 'Month', 'Gross ROI Percentage', 'Month')"
   ]
  },
  {
   "cell_type": "markdown",
   "metadata": {},
   "source": [
    "#### Directors vs. ROI"
   ]
  },
  {
   "cell_type": "markdown",
   "metadata": {},
   "source": [
    "Similarly to months, I will use a groupby statement to group my directors with their respective median ROIs, sort the values, and graph the ten most highly represented directors. I will look at directors involved in 5 or more movies, ensuring they only represent reputable directors. There needs to be more data to define a trajectory for a director to see if they are progressing for each movie, as I don't have data on every movie a director has been a part of. So, for the sake of the analysis and to err on the side of caution, I will still use median values for their ROIs. The names of the directors in my top ten give me confidence in this approach, as they are all recognizable names. "
   ]
  },
  {
   "cell_type": "code",
   "execution_count": 4787,
   "metadata": {},
   "outputs": [],
   "source": [
    "#Creating a dataframe for analysis that will be simple to visualize via table and graph.\n",
    "director_roi_df = combined_df[['movie','primary_name','gross_roi']]"
   ]
  },
  {
   "cell_type": "code",
   "execution_count": 4788,
   "metadata": {},
   "outputs": [],
   "source": [
    "#Creating a dataframe that has median ROI for each director and shows how many movies they have directed. \n",
    "director_roi_df = director_roi_df.groupby('primary_name')[['gross_roi', 'movie']].agg({'gross_roi':'median',\n",
    "                                                                                      'movie':'count'}).sort_values(\n",
    "                                                                                       by='gross_roi', \n",
    "                                                                                       ascending=False)"
   ]
  },
  {
   "cell_type": "code",
   "execution_count": 4789,
   "metadata": {},
   "outputs": [],
   "source": [
    "#Filtering out directors that have produced less than 5 movies and taking the top ten most highly represented \n",
    "#directors\n",
    "director_roi_df = director_roi_df[director_roi_df['movie']>=5].head(10).reset_index()"
   ]
  },
  {
   "cell_type": "code",
   "execution_count": 4790,
   "metadata": {},
   "outputs": [],
   "source": [
    "#I just want to represent the ROI percentages as whole numbers. \n",
    "round_percent(director_roi_df)"
   ]
  },
  {
   "cell_type": "code",
   "execution_count": 4793,
   "metadata": {},
   "outputs": [
    {
     "data": {
      "image/png": "[encoded data removed]",
      "text/plain": [
       "<Figure size 1008x432 with 1 Axes>"
      ]
     },
     "metadata": {
      "needs_background": "light"
     },
     "output_type": "display_data"
    }
   ],
   "source": [
    "bar_graph('gross_roi','primary_name', director_roi_df, 'Director', 'Gross ROI Percentage', 'Director')"
   ]
  },
  {
   "cell_type": "markdown",
   "metadata": {},
   "source": [
    "## Conclusions"
   ]
  },
  {
   "cell_type": "markdown",
   "metadata": {},
   "source": [
    "My Exploratory Data Analysis presents three business findings. The findings will help the business stakeholders figure out specific attributes of movies to help release successful films for their new studio, which, in turn, will lead to a profitable increase for their company. Given these findings and data enrichment in the future, I can build on my recommendations and know where to proceed next. "
   ]
  },
  {
   "cell_type": "markdown",
   "metadata": {},
   "source": [
    "#### Limitations"
   ]
  },
  {
   "cell_type": "markdown",
   "metadata": {},
   "source": [
    "\n",
    "The data possesses many limitations at this stage. I do not have information on every movie release date, genre, and director in the film industry. Additionally, this is gross financial data, so I do not have data on every financial cost that could impact my ROIs. Due to this missing data, I cannot confidently say which movie attributes best suit the company. I can only determine which movie attributes are the most highly represented compared to my measurement of success. Representation will help show us trends and patterns in the data. From there, I can recommend what actions need to be taken in the future to confirm my suspicions on which movie attributes have the potential to lead to the most profit.\n"
   ]
  },
  {
   "cell_type": "markdown",
   "metadata": {},
   "source": [
    "#### Recommendations"
   ]
  },
  {
   "cell_type": "markdown",
   "metadata": {},
   "source": [
    "I recommend investigating these three recommendations further as we enrich the data and become more confident in our results. \n",
    "- 1. **Genre vs. ROI**: I assessed each genre with median ROI to show the five most highly represented genres. \n",
    "    - Animation\n",
    "    - Mystery\n",
    "    - Sci-Fi\n",
    "    - Adventure\n",
    "    - Horror\n",
    "- 2. **Released Month vs. ROI**: I assessed each release month with median ROI to show the five most highly represented months.\n",
    "    - July\n",
    "    - January\n",
    "    - February\n",
    "    - May\n",
    "    - November\n",
    "- 3. **Director vs. ROI**: I assessed each director with median ROI to show the ten most highly represented directors. \n",
    "    - David O. Russell\n",
    "    - Tim Story\n",
    "    - Jon M. Chu\n",
    "    - Mike Mitchell\n",
    "    - Francis Lawrence\n",
    "    - Steven Spielberg\n",
    "    - Brad Peyton\n",
    "    - Jaume Collet-Serra\n",
    "    - Peter Farrelly\n",
    "    - Ridley Scott\n"
   ]
  },
  {
   "cell_type": "markdown",
   "metadata": {},
   "source": [
    "## Next Steps"
   ]
  },
  {
   "cell_type": "markdown",
   "metadata": {},
   "source": [
    "Data enrichment is crucial to help us confirm our business recommendations. As mentioned, without more information on movie genres, release dates, directors, and financial costs, I can’t say with absolute certainty what movie attributes are best. ROIs could change as more financial costs are presented, leading to different results for our most highly represented genres, release dates, and directors. However, as the data increases, I can start to confirm or deny our suspicions. \n",
    "\n",
    "In the next steps, I would suggest finding more information on the following:\n",
    "- More movies → additional information on our highly represented genres, release dates, and directors\n",
    "- Additional Financial costs (post-production costs not accounted for or changed) → transition from gross ROI to net ROI\n",
    "    - Distribution costs\n",
    "    - Marketing costs\n",
    "    - Sales costs\n",
    "    - Theater/streaming costs\n"
   ]
  },
  {
   "cell_type": "markdown",
   "metadata": {},
   "source": [
    "#### Citations"
   ]
  },
  {
   "cell_type": "markdown",
   "metadata": {},
   "source": [
    "1. https://stackoverflow.com/questions/23996118/replace-special-characters-in-a-string-in-python\n",
    "2. https://pandas.pydata.org/docs/reference/api/pandas.DataFrame.drop_duplicates.html\n",
    "3. https://datascience.stackexchange.com/questions/74277/extract-seperated-value-from-columns\n",
    "4. https://www.geeksforgeeks.org/different-ways-to-iterate-over-rows-in-pandas-dataframe/\n",
    "5. https://stackoverflow.com/questions/2315520/in-python-how-do-i-loop-through-the-dictionary-and-change-the-value-if-it-equal\n",
    "6. https://www.geeksforgeeks.org/find-median-of-list-in-python/\n",
    "7. https://stackoverflow.com/questions/20577840/python-dictionary-sorting-in-descending-order-based-on-values\n",
    "8. https://stackoverflow.com/questions/43214978/how-to-display-custom-values-on-a-bar-plot\n"
   ]
  },
  {
   "cell_type": "code",
   "execution_count": null,
   "metadata": {},
   "outputs": [],
   "source": []
  }
 ],
 "metadata": {
  "kernelspec": {
   "display_name": "Python (learn-env)",
   "language": "python",
   "name": "learn-env"
  },
  "language_info": {
   "codemirror_mode": {
    "name": "ipython",
    "version": 3
   },
   "file_extension": ".py",
   "mimetype": "text/x-python",
   "name": "python",
   "nbconvert_exporter": "python",
   "pygments_lexer": "ipython3",
   "version": "3.8.5"
  }
 },
 "nbformat": 4,
 "nbformat_minor": 4
}
